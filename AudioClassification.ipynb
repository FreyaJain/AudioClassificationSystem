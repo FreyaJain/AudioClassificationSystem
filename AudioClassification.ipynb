{
 "cells": [
  {
   "cell_type": "code",
   "execution_count": 1,
   "id": "3a1f4b06",
   "metadata": {},
   "outputs": [],
   "source": [
    "#!pip install librosa"
   ]
  },
  {
   "cell_type": "code",
   "execution_count": 2,
   "id": "fa3a139d",
   "metadata": {
    "scrolled": true
   },
   "outputs": [],
   "source": [
    "#!pip install resampy"
   ]
  },
  {
   "cell_type": "code",
   "execution_count": 3,
   "id": "732c2c38",
   "metadata": {},
   "outputs": [],
   "source": [
    "import numpy as np\n",
    "import pandas as pd\n",
    "import matplotlib.pyplot as plt\n",
    "import seaborn as sns\n",
    "%matplotlib inline\n",
    "import os"
   ]
  },
  {
   "cell_type": "code",
   "execution_count": 4,
   "id": "437c1e28",
   "metadata": {},
   "outputs": [],
   "source": [
    "# to display audio wave\n",
    "\n",
    "import IPython.display as ipd\n",
    "import librosa\n",
    "import librosa.display"
   ]
  },
  {
   "cell_type": "markdown",
   "id": "cba3874c",
   "metadata": {},
   "source": [
    "# I. Introduction\n",
    "\n",
    "### Audio Classification of Urban Sounds\n",
    "\n",
    "<div class=\"alert alert-block alert-info\" style=\"font-size:15px; color:black; background-color:#e6f2ff; border-color: #3399ff\">\n",
    "    <aside>\n",
    "    <p>\n",
    "Audio classification is a crucial task in many applications, including speech recognition, music genre classification, and environmental sound classification. This project focuses on the classification of urban sounds using machine learning techniques. The dataset used for this task is the **UrbanSound8K dataset**, which contains 8732 labeled sound excerpts (<=4s) of urban sounds from 10 classes: air conditioner, car horn, children playing, dog bark, drilling, engine idling, gunshot, jackhammer, siren, and street music.\n",
    " </p>\n",
    "         <p>\n",
    "The goal of this project is to build a robust model that can accurately classify these urban sounds into their respective categories. To achieve this, we will extract relevant features from the audio data, use these features to train a machine learning model, and evaluate the model's performance.\n",
    " </p>\n",
    "\n",
    " </aside>\n",
    "</div>"
   ]
  },
  {
   "cell_type": "markdown",
   "id": "01493b2d",
   "metadata": {},
   "source": [
    "<!-- -->"
   ]
  },
  {
   "cell_type": "markdown",
   "id": "34985f76",
   "metadata": {},
   "source": [
    "# 1. Project Steps:"
   ]
  },
  {
   "cell_type": "markdown",
   "id": "19db04a5",
   "metadata": {},
   "source": [
    "<div class=\"steps\" style=\"font-size:15px; color:black; background-color:#F5F5F5;\">\n",
    "    <aside>\n",
    "<p>//    1. <b>Data Exploration and Visualization</b>  Loading the dataset and vizualizing the audio data</p>\n",
    "<p>// 2. <b>Audio Data Preprocessing</b> Loading audio files using Librosa and visualizing waveforms</p>\n",
    "<p>// 3. <b>Feature Extraction</b> Extracting Mel Frequency Cepstral Coefficients (MFCC) from audio data and defining a feature extraction function</p>\n",
    "<p>// 4. <b>Data Preparation</b> Iterating through audio files, extracting features, converting to DataFrame, splitting dataset, and encoding labels</p>\n",
    "<p>// 5. <b>Model Building</b> Defining and compiling a neural network model using TensorFlow/Keras</p>\n",
    "<p>// 6. <b>Model Training</b> Splitting data into training and testing sets, training the model, validating the model, and saving the best model</p>\n",
    "<p>// 7. <b>Model Evaluation</b> Evaluating the model's performance on the test set and printing the test accuracy</p>\n",
    "<p>// 8. <b>Model Prediction</b> Extracting features from a new audio sample, using the trained model to predict the class, and printing the predicted class</p>\n",
    " </aside>\n",
    "</div>"
   ]
  },
  {
   "cell_type": "markdown",
   "id": "98af1fa1",
   "metadata": {},
   "source": [
    "<!-- -->"
   ]
  },
  {
   "cell_type": "markdown",
   "id": "749703bb",
   "metadata": {},
   "source": [
    "# 2. About the Dataset"
   ]
  },
  {
   "cell_type": "markdown",
   "id": "0c79627a",
   "metadata": {},
   "source": [
    "The **UrbanSound8K** dataset is widely used for training and evaluating machine learning models for environmental sound classification.It is a collection of 8,732 labeled sound excerpts (≤4s) from urban environments, classified into 10 categories:"
   ]
  },
  {
   "cell_type": "markdown",
   "id": "1ace400b",
   "metadata": {},
   "source": [
    "<!-- -->"
   ]
  },
  {
   "cell_type": "markdown",
   "id": "76fe52ed",
   "metadata": {},
   "source": [
    "<!-- -->\n"
   ]
  },
  {
   "cell_type": "markdown",
   "id": "1fa902eb",
   "metadata": {},
   "source": [
    "| classId |       Class       | classId |       Class       |\n",
    "|---------|-------------------|---------|-------------------|\n",
    "|    0    | air_conditioner   |    5    | engine_idling     |\n",
    "|    1    | car_horn          |    6    | gun_shot          |\n",
    "|    2    | children_playing  |    7    | jackhammer        |\n",
    "|    3    | dog_bark          |    8    | siren             |\n",
    "|    4    | drilling          |    9    | street_music      |"
   ]
  },
  {
   "cell_type": "markdown",
   "id": "2f018117",
   "metadata": {},
   "source": [
    "The metadata file contains information about audio slices from the UrbanSound8K dataset, including file names, identifiers, temporal details (start and end times), salience, fold (cross-validation split), class IDs, and corresponding class labels for urban sound classification tasks."
   ]
  },
  {
   "cell_type": "markdown",
   "id": "c60bd22b",
   "metadata": {},
   "source": [
    "\n",
    "| slice_file_name      | fsID   | start | end      | salience | fold | classID | class            |\n",
    "|----------------------|--------|-------|----------|----------|------|---------|------------------|\n",
    "| 100032-3-0-0.wav     | 100032 | 0.0   | 0.317551 | 1        | 5    | 3       | dog_bark         |\n",
    "| 100263-2-0-117.wav   | 100263 | 58.5  | 62.5     | 1        | 5    | 2       | children_playing |\n",
    "| 100263-2-0-121.wav   | 100263 | 60.5  | 64.5     | 1        | 5    | 2       | children_playing |\n",
    "| 100263-2-0-126.wav   | 100263 | 63.0  | 67.0     | 1        | 5    | 2       | children_playing |\n",
    "| 100263-2-0-137.wav   | 100263 | 68.5  | 72.5     | 1        | 5    | 2       | children_playing |"
   ]
  },
  {
   "cell_type": "markdown",
   "id": "4932ec46",
   "metadata": {},
   "source": [
    "<!-- -->"
   ]
  },
  {
   "cell_type": "markdown",
   "id": "1d5c0fde",
   "metadata": {},
   "source": [
    "<!-- -->"
   ]
  },
  {
   "cell_type": "markdown",
   "id": "7ad3b09d",
   "metadata": {},
   "source": [
    "## FOLDER STRUCTURE"
   ]
  },
  {
   "cell_type": "markdown",
   "id": "9bf8fe7f",
   "metadata": {},
   "source": [
    "<!-- -->"
   ]
  },
  {
   "cell_type": "code",
   "execution_count": 5,
   "id": "f85ad741",
   "metadata": {},
   "outputs": [],
   "source": [
    "metadata = pd.read_csv('UrbanSound8K/metadata/UrbanSound8K.csv')"
   ]
  },
  {
   "cell_type": "code",
   "execution_count": 53,
   "id": "61bf8105",
   "metadata": {},
   "outputs": [],
   "source": [
    "unique_classes = metadata.drop_duplicates(subset='classID')"
   ]
  },
  {
   "cell_type": "code",
   "execution_count": 56,
   "id": "792f52a6",
   "metadata": {},
   "outputs": [
    {
     "name": "stdout",
     "output_type": "stream",
     "text": [
      "classID: 3, class: dog_bark\n",
      "classID: 2, class: children_playing\n",
      "classID: 1, class: car_horn\n",
      "classID: 0, class: air_conditioner\n",
      "classID: 9, class: street_music\n",
      "classID: 6, class: gun_shot\n",
      "classID: 8, class: siren\n",
      "classID: 5, class: engine_idling\n",
      "classID: 7, class: jackhammer\n",
      "classID: 4, class: drilling\n"
     ]
    }
   ],
   "source": [
    "for index, row in unique_classes.iterrows():\n",
    "    print(f\"classID: {row['classID']}, class: {row['class']}\")"
   ]
  },
  {
   "cell_type": "code",
   "execution_count": 8,
   "id": "6095bbfb",
   "metadata": {},
   "outputs": [
    {
     "name": "stdout",
     "output_type": "stream",
     "text": [
      "Number of files in each class:\n",
      "class\n",
      "air_conditioner     1000\n",
      "car_horn             429\n",
      "children_playing    1000\n",
      "dog_bark            1000\n",
      "drilling            1000\n",
      "engine_idling       1000\n",
      "gun_shot             374\n",
      "jackhammer          1000\n",
      "siren                929\n",
      "street_music        1000\n",
      "Name: count, dtype: int64\n"
     ]
    }
   ],
   "source": [
    "class_counts = metadata['class'].value_counts().sort_index()\n",
    "\n",
    "print(\"Number of files in each class:\")\n",
    "print(class_counts)"
   ]
  },
  {
   "cell_type": "code",
   "execution_count": 9,
   "id": "287072cd",
   "metadata": {},
   "outputs": [
    {
     "data": {
      "image/png": "[encoded data removed]",
      "text/plain": [
       "<Figure size 400x400 with 1 Axes>"
      ]
     },
     "metadata": {},
     "output_type": "display_data"
    }
   ],
   "source": [
    "fold_counts = metadata['fold'].value_counts().sort_index()\n",
    "\n",
    "plt.figure(figsize=(4, 4))\n",
    "plt.pie(fold_counts, labels=fold_counts.index, autopct='%1.1f%%', startangle=140)\n",
    "plt.title('Number of Files in Each Fold of UrbanSound8K Dataset')\n",
    "plt.axis('equal') \n",
    "plt.show()"
   ]
  },
  {
   "cell_type": "markdown",
   "id": "dbe7bfd3",
   "metadata": {},
   "source": [
    "# II. EDA"
   ]
  },
  {
   "cell_type": "markdown",
   "id": "ab6e98c0",
   "metadata": {},
   "source": [
    "Exploring a random audio sample `132016-9-0-6.wav` by printing the values of : \n",
    "* **Sample rate (sr)** : defines the number of samples per second taken from a analog signal to make adigital signal.\n",
    "* **Amplitude**  : a measure of how high or low the wave extends from the x axis"
   ]
  },
  {
   "cell_type": "code",
   "execution_count": 10,
   "id": "bf555b5e",
   "metadata": {},
   "outputs": [],
   "source": [
    "filename = '/Users/macos/Desktop/Drdo/Audio_Classification/UrbanSound8K/audio/fold1/132016-9-0-6.wav'"
   ]
  },
  {
   "cell_type": "code",
   "execution_count": 11,
   "id": "cdcbe697",
   "metadata": {},
   "outputs": [],
   "source": [
    "lib_audio_data, sample_rate = librosa.load(filename)"
   ]
  },
  {
   "cell_type": "code",
   "execution_count": 12,
   "id": "9ef4023a",
   "metadata": {},
   "outputs": [
    {
     "data": {
      "text/plain": [
       "array([-0.07869472, -0.11024831, -0.08400878, ..., -0.00586693,\n",
       "        0.00208374,  0.01869803], dtype=float32)"
      ]
     },
     "execution_count": 12,
     "metadata": {},
     "output_type": "execute_result"
    }
   ],
   "source": [
    "lib_audio_data"
   ]
  },
  {
   "cell_type": "code",
   "execution_count": 13,
   "id": "5aa0e233",
   "metadata": {},
   "outputs": [
    {
     "data": {
      "text/plain": [
       "22050"
      ]
     },
     "execution_count": 13,
     "metadata": {},
     "output_type": "execute_result"
    }
   ],
   "source": [
    "sample_rate"
   ]
  },
  {
   "cell_type": "code",
   "execution_count": 14,
   "id": "3818f406",
   "metadata": {},
   "outputs": [
    {
     "data": {
      "image/png": "[encoded data removed]",
      "text/plain": [
       "<Figure size 1200x500 with 1 Axes>"
      ]
     },
     "metadata": {},
     "output_type": "display_data"
    }
   ],
   "source": [
    "plt.figure(figsize=(12, 5))\n",
    "librosa.display.waveshow(lib_audio_data, sr=sample_rate)\n",
    "plt.title('Waveplot of Audio')\n",
    "plt.xlabel('Time (s)')\n",
    "plt.ylabel('Amplitude')\n",
    "plt.show()"
   ]
  },
  {
   "cell_type": "markdown",
   "id": "9bcd7724",
   "metadata": {},
   "source": [
    "# Extracting Feautures"
   ]
  },
  {
   "cell_type": "markdown",
   "id": "579edab3",
   "metadata": {},
   "source": [
    "<font size=\"4\">Mel Frequency Cepstral Coefficients (MFCC) </font> "
   ]
  },
  {
   "cell_type": "code",
   "execution_count": 15,
   "id": "a169641a",
   "metadata": {},
   "outputs": [
    {
     "name": "stdout",
     "output_type": "stream",
     "text": [
      "(40, 173)\n"
     ]
    }
   ],
   "source": [
    "mfcc = librosa.feature.mfcc(y=lib_audio_data,sr=sample_rate,n_mfcc=40)\n",
    "print(mfcc.shape)"
   ]
  },
  {
   "cell_type": "code",
   "execution_count": 16,
   "id": "4394c8bb",
   "metadata": {},
   "outputs": [],
   "source": [
    "audio_dataset_path='UrbanSound8K/audio/'"
   ]
  },
  {
   "cell_type": "code",
   "execution_count": 17,
   "id": "fa969021",
   "metadata": {},
   "outputs": [],
   "source": [
    "metadata = pd.read_csv('UrbanSound8K/metadata/UrbanSound8K.csv')"
   ]
  },
  {
   "cell_type": "code",
   "execution_count": 18,
   "id": "2e9b084f",
   "metadata": {},
   "outputs": [],
   "source": [
    "def features_extractor(file):\n",
    "    audio, sample_rate = librosa.load(file_name, res_type='kaiser_fast') \n",
    "    mfccs_features = librosa.feature.mfcc(y=audio, sr=sample_rate, n_mfcc=40)\n",
    "    mfccs_scaled_features = np.mean(mfccs_features.T,axis=0)\n",
    "    \n",
    "    return mfccs_scaled_features"
   ]
  },
  {
   "cell_type": "code",
   "execution_count": 19,
   "id": "1024815f",
   "metadata": {},
   "outputs": [
    {
     "name": "stderr",
     "output_type": "stream",
     "text": [
      "3555it [03:47, 14.79it/s]/Users/macos/anaconda3/lib/python3.11/site-packages/librosa/core/spectrum.py:266: UserWarning: n_fft=2048 is too large for input signal of length=1323\n",
      "  warnings.warn(\n",
      "8325it [09:07, 23.21it/s]/Users/macos/anaconda3/lib/python3.11/site-packages/librosa/core/spectrum.py:266: UserWarning: n_fft=2048 is too large for input signal of length=1103\n",
      "  warnings.warn(\n",
      "/Users/macos/anaconda3/lib/python3.11/site-packages/librosa/core/spectrum.py:266: UserWarning: n_fft=2048 is too large for input signal of length=1523\n",
      "  warnings.warn(\n",
      "8732it [09:31, 15.27it/s]\n"
     ]
    }
   ],
   "source": [
    "import numpy as np\n",
    "from tqdm import tqdm\n",
    "import os\n",
    "\n",
    "# Now we iterate through every audio file and extract features \n",
    "# using Mel-Frequency Cepstral Coefficients\n",
    "\n",
    "extracted_features=[]\n",
    "for index_num,row in tqdm(metadata.iterrows()):\n",
    "    file_name = os.path.join(os.path.abspath(audio_dataset_path),'fold'+str(row[\"fold\"])+'/',str(row[\"slice_file_name\"]))\n",
    "    final_class_labels=row[\"class\"]\n",
    "    data=features_extractor(file_name)\n",
    "    extracted_features.append([data,final_class_labels])"
   ]
  },
  {
   "cell_type": "code",
   "execution_count": 20,
   "id": "4eb45629",
   "metadata": {},
   "outputs": [
    {
     "data": {
      "text/html": [
       "<div>\n",
       "<style scoped>\n",
       "    .dataframe tbody tr th:only-of-type {\n",
       "        vertical-align: middle;\n",
       "    }\n",
       "\n",
       "    .dataframe tbody tr th {\n",
       "        vertical-align: top;\n",
       "    }\n",
       "\n",
       "    .dataframe thead th {\n",
       "        text-align: right;\n",
       "    }\n",
       "</style>\n",
       "<table border=\"1\" class=\"dataframe\">\n",
       "  <thead>\n",
       "    <tr style=\"text-align: right;\">\n",
       "      <th></th>\n",
       "      <th>feature</th>\n",
       "      <th>class</th>\n",
       "    </tr>\n",
       "  </thead>\n",
       "  <tbody>\n",
       "    <tr>\n",
       "      <th>0</th>\n",
       "      <td>[-217.35526, 70.22338, -130.38527, -53.282898,...</td>\n",
       "      <td>dog_bark</td>\n",
       "    </tr>\n",
       "    <tr>\n",
       "      <th>1</th>\n",
       "      <td>[-424.09818, 109.34077, -52.919525, 60.86475, ...</td>\n",
       "      <td>children_playing</td>\n",
       "    </tr>\n",
       "    <tr>\n",
       "      <th>2</th>\n",
       "      <td>[-458.79114, 121.38419, -46.52066, 52.00812, -...</td>\n",
       "      <td>children_playing</td>\n",
       "    </tr>\n",
       "    <tr>\n",
       "      <th>3</th>\n",
       "      <td>[-413.89984, 101.66373, -35.42945, 53.036358, ...</td>\n",
       "      <td>children_playing</td>\n",
       "    </tr>\n",
       "    <tr>\n",
       "      <th>4</th>\n",
       "      <td>[-446.60352, 113.68541, -52.402206, 60.302044,...</td>\n",
       "      <td>children_playing</td>\n",
       "    </tr>\n",
       "  </tbody>\n",
       "</table>\n",
       "</div>"
      ],
      "text/plain": [
       "                                             feature             class\n",
       "0  [-217.35526, 70.22338, -130.38527, -53.282898,...          dog_bark\n",
       "1  [-424.09818, 109.34077, -52.919525, 60.86475, ...  children_playing\n",
       "2  [-458.79114, 121.38419, -46.52066, 52.00812, -...  children_playing\n",
       "3  [-413.89984, 101.66373, -35.42945, 53.036358, ...  children_playing\n",
       "4  [-446.60352, 113.68541, -52.402206, 60.302044,...  children_playing"
      ]
     },
     "execution_count": 20,
     "metadata": {},
     "output_type": "execute_result"
    }
   ],
   "source": [
    "### converting extracted_features to Pandas dataframe\n",
    "extracted_features_df=pd.DataFrame(extracted_features,columns=['feature','class'])\n",
    "extracted_features_df.head()"
   ]
  },
  {
   "cell_type": "code",
   "execution_count": 21,
   "id": "92f578fe",
   "metadata": {},
   "outputs": [],
   "source": [
    "### Split the dataset into labels and target\n",
    "X=np.array(extracted_features_df['feature'].tolist())\n",
    "y=np.array(extracted_features_df['class'].tolist())"
   ]
  },
  {
   "cell_type": "code",
   "execution_count": 22,
   "id": "ee31f4fb",
   "metadata": {},
   "outputs": [
    {
     "data": {
      "text/plain": [
       "(8732, 40)"
      ]
     },
     "execution_count": 22,
     "metadata": {},
     "output_type": "execute_result"
    }
   ],
   "source": [
    "X.shape"
   ]
  },
  {
   "cell_type": "code",
   "execution_count": 23,
   "id": "f7cc20f6",
   "metadata": {},
   "outputs": [
    {
     "data": {
      "text/plain": [
       "array(['dog_bark', 'children_playing', 'children_playing', ...,\n",
       "       'car_horn', 'car_horn', 'car_horn'], dtype='<U16')"
      ]
     },
     "execution_count": 23,
     "metadata": {},
     "output_type": "execute_result"
    }
   ],
   "source": [
    "y"
   ]
  },
  {
   "cell_type": "code",
   "execution_count": 24,
   "id": "ba00f5b3",
   "metadata": {},
   "outputs": [
    {
     "name": "stderr",
     "output_type": "stream",
     "text": [
      "2024-07-23 22:52:34.193267: I tensorflow/core/platform/cpu_feature_guard.cc:182] This TensorFlow binary is optimized to use available CPU instructions in performance-critical operations.\n",
      "To enable the following instructions: AVX2 FMA, in other operations, rebuild TensorFlow with the appropriate compiler flags.\n"
     ]
    }
   ],
   "source": [
    "### Label Encoding\n",
    "\n",
    "from tensorflow.keras.utils import to_categorical\n",
    "from sklearn.preprocessing import LabelEncoder\n",
    "labelencoder=LabelEncoder()\n",
    "y=to_categorical(labelencoder.fit_transform(y))"
   ]
  },
  {
   "cell_type": "code",
   "execution_count": 25,
   "id": "5d2c4201",
   "metadata": {},
   "outputs": [
    {
     "data": {
      "text/plain": [
       "array([[0., 0., 0., ..., 0., 0., 0.],\n",
       "       [0., 0., 1., ..., 0., 0., 0.],\n",
       "       [0., 0., 1., ..., 0., 0., 0.],\n",
       "       ...,\n",
       "       [0., 1., 0., ..., 0., 0., 0.],\n",
       "       [0., 1., 0., ..., 0., 0., 0.],\n",
       "       [0., 1., 0., ..., 0., 0., 0.]], dtype=float32)"
      ]
     },
     "execution_count": 25,
     "metadata": {},
     "output_type": "execute_result"
    }
   ],
   "source": [
    "y"
   ]
  },
  {
   "cell_type": "code",
   "execution_count": 26,
   "id": "ae2c07b5",
   "metadata": {},
   "outputs": [],
   "source": [
    "### Train Test Split\n",
    "from sklearn.model_selection import train_test_split\n",
    "X_train,X_test,y_train,y_test=train_test_split(X,y,test_size=0.2,random_state=0)"
   ]
  },
  {
   "cell_type": "code",
   "execution_count": 27,
   "id": "ebb324f4",
   "metadata": {},
   "outputs": [
    {
     "data": {
      "text/plain": [
       "array([[-1.31104706e+02,  1.12505905e+02, -2.25746956e+01, ...,\n",
       "         3.24665213e+00, -1.36902380e+00,  2.75575471e+00],\n",
       "       [-1.36703424e+01,  9.10850830e+01, -7.79273319e+00, ...,\n",
       "        -3.25305080e+00, -5.27745295e+00, -1.55697155e+00],\n",
       "       [-4.98715439e+01,  2.65352815e-01, -2.05009365e+01, ...,\n",
       "         2.85459447e+00, -1.60920465e+00,  3.52480578e+00],\n",
       "       ...,\n",
       "       [-4.27012360e+02,  9.26230469e+01,  3.12939739e+00, ...,\n",
       "         7.42641091e-01,  7.33490884e-01,  7.11009145e-01],\n",
       "       [-1.45754608e+02,  1.36265778e+02, -3.35155182e+01, ...,\n",
       "         1.46811950e+00, -2.00917006e+00, -8.82181883e-01],\n",
       "       [-4.21031342e+02,  2.10654541e+02,  3.49066067e+00, ...,\n",
       "        -5.38886738e+00, -3.37136054e+00, -1.56651151e+00]], dtype=float32)"
      ]
     },
     "execution_count": 27,
     "metadata": {},
     "output_type": "execute_result"
    }
   ],
   "source": [
    "X_train"
   ]
  },
  {
   "cell_type": "code",
   "execution_count": 28,
   "id": "38f8f764",
   "metadata": {},
   "outputs": [
    {
     "data": {
      "text/plain": [
       "(6985, 40)"
      ]
     },
     "execution_count": 28,
     "metadata": {},
     "output_type": "execute_result"
    }
   ],
   "source": [
    "X_train.shape"
   ]
  },
  {
   "cell_type": "code",
   "execution_count": 29,
   "id": "aaf47214",
   "metadata": {},
   "outputs": [
    {
     "data": {
      "text/plain": [
       "array([[0., 0., 0., ..., 0., 0., 0.],\n",
       "       [0., 0., 1., ..., 0., 0., 0.],\n",
       "       [0., 0., 1., ..., 0., 0., 0.],\n",
       "       ...,\n",
       "       [0., 1., 0., ..., 0., 0., 0.],\n",
       "       [0., 1., 0., ..., 0., 0., 0.],\n",
       "       [0., 1., 0., ..., 0., 0., 0.]], dtype=float32)"
      ]
     },
     "execution_count": 29,
     "metadata": {},
     "output_type": "execute_result"
    }
   ],
   "source": [
    "y"
   ]
  },
  {
   "cell_type": "code",
   "execution_count": 30,
   "id": "0c954f18",
   "metadata": {},
   "outputs": [
    {
     "data": {
      "text/plain": [
       "(6985, 10)"
      ]
     },
     "execution_count": 30,
     "metadata": {},
     "output_type": "execute_result"
    }
   ],
   "source": [
    "y_train.shape"
   ]
  },
  {
   "cell_type": "code",
   "execution_count": 31,
   "id": "dac2117c",
   "metadata": {},
   "outputs": [
    {
     "data": {
      "text/plain": [
       "(1747, 10)"
      ]
     },
     "execution_count": 31,
     "metadata": {},
     "output_type": "execute_result"
    }
   ],
   "source": [
    "y_test.shape"
   ]
  },
  {
   "cell_type": "markdown",
   "id": "88e46157",
   "metadata": {},
   "source": [
    "# Model"
   ]
  },
  {
   "cell_type": "markdown",
   "id": "35daa510",
   "metadata": {},
   "source": [
    "## ANN"
   ]
  },
  {
   "cell_type": "code",
   "execution_count": 32,
   "id": "46285b2c",
   "metadata": {},
   "outputs": [],
   "source": [
    "import tensorflow as tf"
   ]
  },
  {
   "cell_type": "code",
   "execution_count": 33,
   "id": "24672157",
   "metadata": {},
   "outputs": [],
   "source": [
    "from tensorflow.keras.models import Sequential\n",
    "from tensorflow.keras.layers import Dense,Dropout,Activation,Flatten\n",
    "from tensorflow.keras.optimizers import Adam\n",
    "from sklearn import metrics"
   ]
  },
  {
   "cell_type": "code",
   "execution_count": 34,
   "id": "bae59552",
   "metadata": {},
   "outputs": [],
   "source": [
    "num_labels=y.shape[1]"
   ]
  },
  {
   "cell_type": "code",
   "execution_count": 35,
   "id": "3a35d547",
   "metadata": {},
   "outputs": [],
   "source": [
    "model=Sequential()\n",
    "###first layer\n",
    "model.add(Dense(100,input_shape=(40,)))\n",
    "model.add(Activation('relu'))\n",
    "model.add(Dropout(0.5))\n",
    "###second layer\n",
    "model.add(Dense(200))\n",
    "model.add(Activation('relu'))\n",
    "model.add(Dropout(0.5))\n",
    "\n",
    "###final layer\n",
    "model.add(Dense(num_labels))\n",
    "model.add(Activation('softmax'))"
   ]
  },
  {
   "cell_type": "code",
   "execution_count": 36,
   "id": "09833362",
   "metadata": {},
   "outputs": [
    {
     "name": "stdout",
     "output_type": "stream",
     "text": [
      "Model: \"sequential\"\n",
      "_________________________________________________________________\n",
      " Layer (type)                Output Shape              Param #   \n",
      "=================================================================\n",
      " dense (Dense)               (None, 100)               4100      \n",
      "                                                                 \n",
      " activation (Activation)     (None, 100)               0         \n",
      "                                                                 \n",
      " dropout (Dropout)           (None, 100)               0         \n",
      "                                                                 \n",
      " dense_1 (Dense)             (None, 200)               20200     \n",
      "                                                                 \n",
      " activation_1 (Activation)   (None, 200)               0         \n",
      "                                                                 \n",
      " dropout_1 (Dropout)         (None, 200)               0         \n",
      "                                                                 \n",
      " dense_2 (Dense)             (None, 10)                2010      \n",
      "                                                                 \n",
      " activation_2 (Activation)   (None, 10)                0         \n",
      "                                                                 \n",
      "=================================================================\n",
      "Total params: 26310 (102.77 KB)\n",
      "Trainable params: 26310 (102.77 KB)\n",
      "Non-trainable params: 0 (0.00 Byte)\n",
      "_________________________________________________________________\n"
     ]
    }
   ],
   "source": [
    "model.summary()"
   ]
  },
  {
   "cell_type": "code",
   "execution_count": 37,
   "id": "90165fb6",
   "metadata": {},
   "outputs": [],
   "source": [
    "model.compile(loss='categorical_crossentropy',metrics=['accuracy'],optimizer='adam')"
   ]
  },
  {
   "cell_type": "code",
   "execution_count": null,
   "id": "398e51e3",
   "metadata": {},
   "outputs": [],
   "source": []
  },
  {
   "cell_type": "code",
   "execution_count": 38,
   "id": "ab21a50e",
   "metadata": {
    "scrolled": false
   },
   "outputs": [
    {
     "name": "stdout",
     "output_type": "stream",
     "text": [
      "Epoch 1/100\n",
      "216/219 [============================>.] - ETA: 0s - loss: 12.3280 - accuracy: 0.1978\n",
      "Epoch 1: val_loss improved from inf to 1.78683, saving model to saved_models/audio_classification.hdf5\n",
      "219/219 [==============================] - 3s 6ms/step - loss: 12.2334 - accuracy: 0.1980 - val_loss: 1.7868 - val_accuracy: 0.4030\n",
      "Epoch 2/100\n",
      " 42/219 [====>.........................] - ETA: 0s - loss: 3.0532 - accuracy: 0.2686"
     ]
    },
    {
     "name": "stderr",
     "output_type": "stream",
     "text": [
      "/Users/macos/anaconda3/lib/python3.11/site-packages/keras/src/engine/training.py:3103: UserWarning: You are saving your model as an HDF5 file via `model.save()`. This file format is considered legacy. We recommend using instead the native Keras format, e.g. `model.save('my_model.keras')`.\n",
      "  saving_api.save_model(\n"
     ]
    },
    {
     "name": "stdout",
     "output_type": "stream",
     "text": [
      "203/219 [==========================>...] - ETA: 0s - loss: 2.6121 - accuracy: 0.2769\n",
      "Epoch 2: val_loss improved from 1.78683 to 1.73434, saving model to saved_models/audio_classification.hdf5\n",
      "219/219 [==============================] - 1s 4ms/step - loss: 2.5718 - accuracy: 0.2822 - val_loss: 1.7343 - val_accuracy: 0.4453\n",
      "Epoch 3/100\n",
      "203/219 [==========================>...] - ETA: 0s - loss: 2.0463 - accuracy: 0.3296\n",
      "Epoch 3: val_loss improved from 1.73434 to 1.62710, saving model to saved_models/audio_classification.hdf5\n",
      "219/219 [==============================] - 1s 3ms/step - loss: 2.0461 - accuracy: 0.3278 - val_loss: 1.6271 - val_accuracy: 0.4848\n",
      "Epoch 4/100\n",
      "204/219 [==========================>...] - ETA: 0s - loss: 1.8404 - accuracy: 0.3799\n",
      "Epoch 4: val_loss improved from 1.62710 to 1.52546, saving model to saved_models/audio_classification.hdf5\n",
      "219/219 [==============================] - 1s 4ms/step - loss: 1.8365 - accuracy: 0.3804 - val_loss: 1.5255 - val_accuracy: 0.5255\n",
      "Epoch 5/100\n",
      "203/219 [==========================>...] - ETA: 0s - loss: 1.6902 - accuracy: 0.4129\n",
      "Epoch 5: val_loss improved from 1.52546 to 1.41903, saving model to saved_models/audio_classification.hdf5\n",
      "219/219 [==============================] - 1s 4ms/step - loss: 1.6943 - accuracy: 0.4123 - val_loss: 1.4190 - val_accuracy: 0.5730\n",
      "Epoch 6/100\n",
      "218/219 [============================>.] - ETA: 0s - loss: 1.6208 - accuracy: 0.4409\n",
      "Epoch 6: val_loss improved from 1.41903 to 1.38067, saving model to saved_models/audio_classification.hdf5\n",
      "219/219 [==============================] - 1s 4ms/step - loss: 1.6216 - accuracy: 0.4405 - val_loss: 1.3807 - val_accuracy: 0.5890\n",
      "Epoch 7/100\n",
      "207/219 [===========================>..] - ETA: 0s - loss: 1.5484 - accuracy: 0.4653\n",
      "Epoch 7: val_loss improved from 1.38067 to 1.32856, saving model to saved_models/audio_classification.hdf5\n",
      "219/219 [==============================] - 1s 4ms/step - loss: 1.5510 - accuracy: 0.4639 - val_loss: 1.3286 - val_accuracy: 0.5970\n",
      "Epoch 8/100\n",
      "218/219 [============================>.] - ETA: 0s - loss: 1.4860 - accuracy: 0.4791\n",
      "Epoch 8: val_loss improved from 1.32856 to 1.26373, saving model to saved_models/audio_classification.hdf5\n",
      "219/219 [==============================] - 1s 3ms/step - loss: 1.4854 - accuracy: 0.4793 - val_loss: 1.2637 - val_accuracy: 0.6096\n",
      "Epoch 9/100\n",
      "218/219 [============================>.] - ETA: 0s - loss: 1.4530 - accuracy: 0.5112\n",
      "Epoch 9: val_loss improved from 1.26373 to 1.24975, saving model to saved_models/audio_classification.hdf5\n",
      "219/219 [==============================] - 1s 3ms/step - loss: 1.4531 - accuracy: 0.5108 - val_loss: 1.2497 - val_accuracy: 0.6337\n",
      "Epoch 10/100\n",
      "204/219 [==========================>...] - ETA: 0s - loss: 1.3893 - accuracy: 0.5299\n",
      "Epoch 10: val_loss improved from 1.24975 to 1.19149, saving model to saved_models/audio_classification.hdf5\n",
      "219/219 [==============================] - 1s 3ms/step - loss: 1.3927 - accuracy: 0.5290 - val_loss: 1.1915 - val_accuracy: 0.6485\n",
      "Epoch 11/100\n",
      "205/219 [===========================>..] - ETA: 0s - loss: 1.3518 - accuracy: 0.5349\n",
      "Epoch 11: val_loss improved from 1.19149 to 1.16156, saving model to saved_models/audio_classification.hdf5\n",
      "219/219 [==============================] - 1s 4ms/step - loss: 1.3522 - accuracy: 0.5369 - val_loss: 1.1616 - val_accuracy: 0.6503\n",
      "Epoch 12/100\n",
      "213/219 [============================>.] - ETA: 0s - loss: 1.3431 - accuracy: 0.5431\n",
      "Epoch 12: val_loss improved from 1.16156 to 1.15534, saving model to saved_models/audio_classification.hdf5\n",
      "219/219 [==============================] - 1s 3ms/step - loss: 1.3415 - accuracy: 0.5440 - val_loss: 1.1553 - val_accuracy: 0.6497\n",
      "Epoch 13/100\n",
      "202/219 [==========================>...] - ETA: 0s - loss: 1.2787 - accuracy: 0.5572\n",
      "Epoch 13: val_loss improved from 1.15534 to 1.12406, saving model to saved_models/audio_classification.hdf5\n",
      "219/219 [==============================] - 1s 4ms/step - loss: 1.2804 - accuracy: 0.5559 - val_loss: 1.1241 - val_accuracy: 0.6594\n",
      "Epoch 14/100\n",
      "213/219 [============================>.] - ETA: 0s - loss: 1.2860 - accuracy: 0.5612\n",
      "Epoch 14: val_loss improved from 1.12406 to 1.10152, saving model to saved_models/audio_classification.hdf5\n",
      "219/219 [==============================] - 1s 3ms/step - loss: 1.2839 - accuracy: 0.5619 - val_loss: 1.1015 - val_accuracy: 0.6617\n",
      "Epoch 15/100\n",
      "214/219 [============================>.] - ETA: 0s - loss: 1.2490 - accuracy: 0.5742\n",
      "Epoch 15: val_loss improved from 1.10152 to 1.06195, saving model to saved_models/audio_classification.hdf5\n",
      "219/219 [==============================] - 1s 4ms/step - loss: 1.2468 - accuracy: 0.5752 - val_loss: 1.0620 - val_accuracy: 0.6697\n",
      "Epoch 16/100\n",
      "204/219 [==========================>...] - ETA: 0s - loss: 1.2232 - accuracy: 0.5852\n",
      "Epoch 16: val_loss improved from 1.06195 to 1.04779, saving model to saved_models/audio_classification.hdf5\n",
      "219/219 [==============================] - 1s 4ms/step - loss: 1.2339 - accuracy: 0.5831 - val_loss: 1.0478 - val_accuracy: 0.6669\n",
      "Epoch 17/100\n",
      "205/219 [===========================>..] - ETA: 0s - loss: 1.2303 - accuracy: 0.5806\n",
      "Epoch 17: val_loss improved from 1.04779 to 1.01832, saving model to saved_models/audio_classification.hdf5\n",
      "219/219 [==============================] - 1s 4ms/step - loss: 1.2267 - accuracy: 0.5814 - val_loss: 1.0183 - val_accuracy: 0.6972\n",
      "Epoch 18/100\n",
      "205/219 [===========================>..] - ETA: 0s - loss: 1.1728 - accuracy: 0.5976\n",
      "Epoch 18: val_loss improved from 1.01832 to 0.99841, saving model to saved_models/audio_classification.hdf5\n",
      "219/219 [==============================] - 1s 4ms/step - loss: 1.1745 - accuracy: 0.5974 - val_loss: 0.9984 - val_accuracy: 0.6903\n",
      "Epoch 19/100\n",
      "219/219 [==============================] - ETA: 0s - loss: 1.1610 - accuracy: 0.5997\n",
      "Epoch 19: val_loss improved from 0.99841 to 0.98914, saving model to saved_models/audio_classification.hdf5\n",
      "219/219 [==============================] - 1s 5ms/step - loss: 1.1610 - accuracy: 0.5997 - val_loss: 0.9891 - val_accuracy: 0.7012\n",
      "Epoch 20/100\n",
      "215/219 [============================>.] - ETA: 0s - loss: 1.1422 - accuracy: 0.6134\n",
      "Epoch 20: val_loss improved from 0.98914 to 0.94689, saving model to saved_models/audio_classification.hdf5\n",
      "219/219 [==============================] - 1s 4ms/step - loss: 1.1436 - accuracy: 0.6117 - val_loss: 0.9469 - val_accuracy: 0.7098\n",
      "Epoch 21/100\n",
      "214/219 [============================>.] - ETA: 0s - loss: 1.1511 - accuracy: 0.6047\n",
      "Epoch 21: val_loss did not improve from 0.94689\n",
      "219/219 [==============================] - 1s 3ms/step - loss: 1.1483 - accuracy: 0.6063 - val_loss: 0.9562 - val_accuracy: 0.7006\n",
      "Epoch 22/100\n",
      "205/219 [===========================>..] - ETA: 0s - loss: 1.1335 - accuracy: 0.6155\n",
      "Epoch 22: val_loss improved from 0.94689 to 0.94050, saving model to saved_models/audio_classification.hdf5\n",
      "219/219 [==============================] - 1s 5ms/step - loss: 1.1317 - accuracy: 0.6168 - val_loss: 0.9405 - val_accuracy: 0.7184\n",
      "Epoch 23/100\n",
      "207/219 [===========================>..] - ETA: 0s - loss: 1.1239 - accuracy: 0.6182\n",
      "Epoch 23: val_loss improved from 0.94050 to 0.93035, saving model to saved_models/audio_classification.hdf5\n",
      "219/219 [==============================] - 1s 5ms/step - loss: 1.1234 - accuracy: 0.6166 - val_loss: 0.9303 - val_accuracy: 0.7178\n",
      "Epoch 24/100\n",
      "205/219 [===========================>..] - ETA: 0s - loss: 1.1060 - accuracy: 0.6252\n",
      "Epoch 24: val_loss improved from 0.93035 to 0.92285, saving model to saved_models/audio_classification.hdf5\n",
      "219/219 [==============================] - 1s 4ms/step - loss: 1.1044 - accuracy: 0.6262 - val_loss: 0.9229 - val_accuracy: 0.7178\n",
      "Epoch 25/100\n",
      "209/219 [===========================>..] - ETA: 0s - loss: 1.0982 - accuracy: 0.6325\n",
      "Epoch 25: val_loss improved from 0.92285 to 0.91274, saving model to saved_models/audio_classification.hdf5\n",
      "219/219 [==============================] - 1s 6ms/step - loss: 1.0936 - accuracy: 0.6331 - val_loss: 0.9127 - val_accuracy: 0.7155\n",
      "Epoch 26/100\n",
      "211/219 [===========================>..] - ETA: 0s - loss: 1.0804 - accuracy: 0.6305\n",
      "Epoch 26: val_loss improved from 0.91274 to 0.87714, saving model to saved_models/audio_classification.hdf5\n"
     ]
    },
    {
     "name": "stdout",
     "output_type": "stream",
     "text": [
      "219/219 [==============================] - 1s 4ms/step - loss: 1.0821 - accuracy: 0.6306 - val_loss: 0.8771 - val_accuracy: 0.7384\n",
      "Epoch 27/100\n",
      "205/219 [===========================>..] - ETA: 0s - loss: 1.0685 - accuracy: 0.6378\n",
      "Epoch 27: val_loss did not improve from 0.87714\n",
      "219/219 [==============================] - 1s 4ms/step - loss: 1.0730 - accuracy: 0.6359 - val_loss: 0.8784 - val_accuracy: 0.7247\n",
      "Epoch 28/100\n",
      "211/219 [===========================>..] - ETA: 0s - loss: 1.0647 - accuracy: 0.6413\n",
      "Epoch 28: val_loss did not improve from 0.87714\n",
      "219/219 [==============================] - 1s 4ms/step - loss: 1.0645 - accuracy: 0.6419 - val_loss: 0.8941 - val_accuracy: 0.7184\n",
      "Epoch 29/100\n",
      "213/219 [============================>.] - ETA: 0s - loss: 1.0366 - accuracy: 0.6486\n",
      "Epoch 29: val_loss did not improve from 0.87714\n",
      "219/219 [==============================] - 1s 3ms/step - loss: 1.0404 - accuracy: 0.6480 - val_loss: 0.8831 - val_accuracy: 0.7172\n",
      "Epoch 30/100\n",
      "207/219 [===========================>..] - ETA: 0s - loss: 1.0517 - accuracy: 0.6461\n",
      "Epoch 30: val_loss did not improve from 0.87714\n",
      "219/219 [==============================] - 1s 4ms/step - loss: 1.0517 - accuracy: 0.6454 - val_loss: 0.8888 - val_accuracy: 0.7127\n",
      "Epoch 31/100\n",
      "207/219 [===========================>..] - ETA: 0s - loss: 1.0572 - accuracy: 0.6372\n",
      "Epoch 31: val_loss improved from 0.87714 to 0.87559, saving model to saved_models/audio_classification.hdf5\n",
      "219/219 [==============================] - 1s 4ms/step - loss: 1.0517 - accuracy: 0.6401 - val_loss: 0.8756 - val_accuracy: 0.7304\n",
      "Epoch 32/100\n",
      "208/219 [===========================>..] - ETA: 0s - loss: 1.0404 - accuracy: 0.6519\n",
      "Epoch 32: val_loss improved from 0.87559 to 0.87277, saving model to saved_models/audio_classification.hdf5\n",
      "219/219 [==============================] - 1s 4ms/step - loss: 1.0376 - accuracy: 0.6514 - val_loss: 0.8728 - val_accuracy: 0.7281\n",
      "Epoch 33/100\n",
      "213/219 [============================>.] - ETA: 0s - loss: 1.0339 - accuracy: 0.6467\n",
      "Epoch 33: val_loss improved from 0.87277 to 0.85521, saving model to saved_models/audio_classification.hdf5\n",
      "219/219 [==============================] - 1s 4ms/step - loss: 1.0351 - accuracy: 0.6465 - val_loss: 0.8552 - val_accuracy: 0.7247\n",
      "Epoch 34/100\n",
      "211/219 [===========================>..] - ETA: 0s - loss: 1.0131 - accuracy: 0.6503\n",
      "Epoch 34: val_loss improved from 0.85521 to 0.84189, saving model to saved_models/audio_classification.hdf5\n",
      "219/219 [==============================] - 1s 4ms/step - loss: 1.0104 - accuracy: 0.6507 - val_loss: 0.8419 - val_accuracy: 0.7481\n",
      "Epoch 35/100\n",
      "215/219 [============================>.] - ETA: 0s - loss: 1.0175 - accuracy: 0.6557\n",
      "Epoch 35: val_loss improved from 0.84189 to 0.83918, saving model to saved_models/audio_classification.hdf5\n",
      "219/219 [==============================] - 1s 4ms/step - loss: 1.0194 - accuracy: 0.6545 - val_loss: 0.8392 - val_accuracy: 0.7333\n",
      "Epoch 36/100\n",
      "207/219 [===========================>..] - ETA: 0s - loss: 1.0108 - accuracy: 0.6547\n",
      "Epoch 36: val_loss did not improve from 0.83918\n",
      "219/219 [==============================] - 1s 3ms/step - loss: 1.0079 - accuracy: 0.6565 - val_loss: 0.8407 - val_accuracy: 0.7378\n",
      "Epoch 37/100\n",
      "205/219 [===========================>..] - ETA: 0s - loss: 1.0152 - accuracy: 0.6546\n",
      "Epoch 37: val_loss improved from 0.83918 to 0.81299, saving model to saved_models/audio_classification.hdf5\n",
      "219/219 [==============================] - 1s 4ms/step - loss: 1.0123 - accuracy: 0.6568 - val_loss: 0.8130 - val_accuracy: 0.7619\n",
      "Epoch 38/100\n",
      "208/219 [===========================>..] - ETA: 0s - loss: 0.9925 - accuracy: 0.6663\n",
      "Epoch 38: val_loss did not improve from 0.81299\n",
      "219/219 [==============================] - 1s 4ms/step - loss: 0.9908 - accuracy: 0.6661 - val_loss: 0.8360 - val_accuracy: 0.7424\n",
      "Epoch 39/100\n",
      "213/219 [============================>.] - ETA: 0s - loss: 0.9827 - accuracy: 0.6589\n",
      "Epoch 39: val_loss did not improve from 0.81299\n",
      "219/219 [==============================] - 1s 4ms/step - loss: 0.9805 - accuracy: 0.6596 - val_loss: 0.8208 - val_accuracy: 0.7413\n",
      "Epoch 40/100\n",
      "202/219 [==========================>...] - ETA: 0s - loss: 0.9833 - accuracy: 0.6620\n",
      "Epoch 40: val_loss did not improve from 0.81299\n",
      "219/219 [==============================] - 1s 4ms/step - loss: 0.9826 - accuracy: 0.6617 - val_loss: 0.8303 - val_accuracy: 0.7298\n",
      "Epoch 41/100\n",
      "207/219 [===========================>..] - ETA: 0s - loss: 0.9747 - accuracy: 0.6649\n",
      "Epoch 41: val_loss improved from 0.81299 to 0.79029, saving model to saved_models/audio_classification.hdf5\n",
      "219/219 [==============================] - 1s 4ms/step - loss: 0.9765 - accuracy: 0.6661 - val_loss: 0.7903 - val_accuracy: 0.7590\n",
      "Epoch 42/100\n",
      "212/219 [============================>.] - ETA: 0s - loss: 0.9827 - accuracy: 0.6661\n",
      "Epoch 42: val_loss did not improve from 0.79029\n",
      "219/219 [==============================] - 1s 4ms/step - loss: 0.9857 - accuracy: 0.6654 - val_loss: 0.8099 - val_accuracy: 0.7481\n",
      "Epoch 43/100\n",
      "214/219 [============================>.] - ETA: 0s - loss: 0.9676 - accuracy: 0.6666\n",
      "Epoch 43: val_loss did not improve from 0.79029\n",
      "219/219 [==============================] - 1s 4ms/step - loss: 0.9674 - accuracy: 0.6667 - val_loss: 0.8289 - val_accuracy: 0.7390\n",
      "Epoch 44/100\n",
      "219/219 [==============================] - ETA: 0s - loss: 0.9586 - accuracy: 0.6734\n",
      "Epoch 44: val_loss did not improve from 0.79029\n",
      "219/219 [==============================] - 1s 4ms/step - loss: 0.9586 - accuracy: 0.6734 - val_loss: 0.7989 - val_accuracy: 0.7659\n",
      "Epoch 45/100\n",
      "208/219 [===========================>..] - ETA: 0s - loss: 0.9611 - accuracy: 0.6716\n",
      "Epoch 45: val_loss improved from 0.79029 to 0.78690, saving model to saved_models/audio_classification.hdf5\n",
      "219/219 [==============================] - 1s 4ms/step - loss: 0.9633 - accuracy: 0.6719 - val_loss: 0.7869 - val_accuracy: 0.7613\n",
      "Epoch 46/100\n",
      "208/219 [===========================>..] - ETA: 0s - loss: 0.9548 - accuracy: 0.6776\n",
      "Epoch 46: val_loss improved from 0.78690 to 0.78097, saving model to saved_models/audio_classification.hdf5\n",
      "219/219 [==============================] - 1s 4ms/step - loss: 0.9525 - accuracy: 0.6773 - val_loss: 0.7810 - val_accuracy: 0.7562\n",
      "Epoch 47/100\n",
      "206/219 [===========================>..] - ETA: 0s - loss: 0.9515 - accuracy: 0.6807\n",
      "Epoch 47: val_loss improved from 0.78097 to 0.77735, saving model to saved_models/audio_classification.hdf5\n",
      "219/219 [==============================] - 1s 3ms/step - loss: 0.9479 - accuracy: 0.6805 - val_loss: 0.7774 - val_accuracy: 0.7659\n",
      "Epoch 48/100\n",
      "199/219 [==========================>...] - ETA: 0s - loss: 0.9482 - accuracy: 0.6753\n",
      "Epoch 48: val_loss did not improve from 0.77735\n",
      "219/219 [==============================] - 1s 3ms/step - loss: 0.9465 - accuracy: 0.6773 - val_loss: 0.7872 - val_accuracy: 0.7521\n",
      "Epoch 49/100\n",
      "210/219 [===========================>..] - ETA: 0s - loss: 0.9407 - accuracy: 0.6750\n",
      "Epoch 49: val_loss improved from 0.77735 to 0.77706, saving model to saved_models/audio_classification.hdf5\n",
      "219/219 [==============================] - 1s 4ms/step - loss: 0.9424 - accuracy: 0.6753 - val_loss: 0.7771 - val_accuracy: 0.7499\n",
      "Epoch 50/100\n",
      "214/219 [============================>.] - ETA: 0s - loss: 0.9407 - accuracy: 0.6799\n",
      "Epoch 50: val_loss did not improve from 0.77706\n",
      "219/219 [==============================] - 1s 3ms/step - loss: 0.9413 - accuracy: 0.6800 - val_loss: 0.7836 - val_accuracy: 0.7487\n",
      "Epoch 51/100\n",
      "205/219 [===========================>..] - ETA: 0s - loss: 0.9212 - accuracy: 0.6873\n",
      "Epoch 51: val_loss improved from 0.77706 to 0.76778, saving model to saved_models/audio_classification.hdf5\n",
      "219/219 [==============================] - 1s 3ms/step - loss: 0.9212 - accuracy: 0.6879 - val_loss: 0.7678 - val_accuracy: 0.7436\n",
      "Epoch 52/100\n",
      "206/219 [===========================>..] - ETA: 0s - loss: 0.9291 - accuracy: 0.6798\n",
      "Epoch 52: val_loss improved from 0.76778 to 0.75459, saving model to saved_models/audio_classification.hdf5\n",
      "219/219 [==============================] - 1s 3ms/step - loss: 0.9265 - accuracy: 0.6816 - val_loss: 0.7546 - val_accuracy: 0.7693\n",
      "Epoch 53/100\n"
     ]
    },
    {
     "name": "stdout",
     "output_type": "stream",
     "text": [
      "208/219 [===========================>..] - ETA: 0s - loss: 0.9322 - accuracy: 0.6800\n",
      "Epoch 53: val_loss improved from 0.75459 to 0.75305, saving model to saved_models/audio_classification.hdf5\n",
      "219/219 [==============================] - 1s 4ms/step - loss: 0.9320 - accuracy: 0.6802 - val_loss: 0.7531 - val_accuracy: 0.7602\n",
      "Epoch 54/100\n",
      "206/219 [===========================>..] - ETA: 0s - loss: 0.9240 - accuracy: 0.6795\n",
      "Epoch 54: val_loss did not improve from 0.75305\n",
      "219/219 [==============================] - 1s 3ms/step - loss: 0.9211 - accuracy: 0.6809 - val_loss: 0.7583 - val_accuracy: 0.7659\n",
      "Epoch 55/100\n",
      "208/219 [===========================>..] - ETA: 0s - loss: 0.9101 - accuracy: 0.6889\n",
      "Epoch 55: val_loss improved from 0.75305 to 0.75013, saving model to saved_models/audio_classification.hdf5\n",
      "219/219 [==============================] - 1s 3ms/step - loss: 0.9076 - accuracy: 0.6899 - val_loss: 0.7501 - val_accuracy: 0.7808\n",
      "Epoch 56/100\n",
      "218/219 [============================>.] - ETA: 0s - loss: 0.9122 - accuracy: 0.6808\n",
      "Epoch 56: val_loss improved from 0.75013 to 0.74661, saving model to saved_models/audio_classification.hdf5\n",
      "219/219 [==============================] - 1s 5ms/step - loss: 0.9115 - accuracy: 0.6812 - val_loss: 0.7466 - val_accuracy: 0.7567\n",
      "Epoch 57/100\n",
      "206/219 [===========================>..] - ETA: 0s - loss: 0.9220 - accuracy: 0.6817\n",
      "Epoch 57: val_loss improved from 0.74661 to 0.74411, saving model to saved_models/audio_classification.hdf5\n",
      "219/219 [==============================] - 1s 4ms/step - loss: 0.9200 - accuracy: 0.6830 - val_loss: 0.7441 - val_accuracy: 0.7687\n",
      "Epoch 58/100\n",
      "201/219 [==========================>...] - ETA: 0s - loss: 0.9209 - accuracy: 0.6864\n",
      "Epoch 58: val_loss improved from 0.74411 to 0.72247, saving model to saved_models/audio_classification.hdf5\n",
      "219/219 [==============================] - 1s 4ms/step - loss: 0.9221 - accuracy: 0.6852 - val_loss: 0.7225 - val_accuracy: 0.7653\n",
      "Epoch 59/100\n",
      "205/219 [===========================>..] - ETA: 0s - loss: 0.9037 - accuracy: 0.6927\n",
      "Epoch 59: val_loss did not improve from 0.72247\n",
      "219/219 [==============================] - 1s 4ms/step - loss: 0.9021 - accuracy: 0.6926 - val_loss: 0.7449 - val_accuracy: 0.7733\n",
      "Epoch 60/100\n",
      "211/219 [===========================>..] - ETA: 0s - loss: 0.9182 - accuracy: 0.6885\n",
      "Epoch 60: val_loss did not improve from 0.72247\n",
      "219/219 [==============================] - 1s 4ms/step - loss: 0.9136 - accuracy: 0.6899 - val_loss: 0.7369 - val_accuracy: 0.7619\n",
      "Epoch 61/100\n",
      "212/219 [============================>.] - ETA: 0s - loss: 0.9000 - accuracy: 0.6921\n",
      "Epoch 61: val_loss did not improve from 0.72247\n",
      "219/219 [==============================] - 1s 3ms/step - loss: 0.9015 - accuracy: 0.6911 - val_loss: 0.7499 - val_accuracy: 0.7624\n",
      "Epoch 62/100\n",
      "216/219 [============================>.] - ETA: 0s - loss: 0.8967 - accuracy: 0.6934\n",
      "Epoch 62: val_loss did not improve from 0.72247\n",
      "219/219 [==============================] - 1s 3ms/step - loss: 0.8970 - accuracy: 0.6929 - val_loss: 0.7304 - val_accuracy: 0.7705\n",
      "Epoch 63/100\n",
      "214/219 [============================>.] - ETA: 0s - loss: 0.9077 - accuracy: 0.6910\n",
      "Epoch 63: val_loss did not improve from 0.72247\n",
      "219/219 [==============================] - 1s 3ms/step - loss: 0.9083 - accuracy: 0.6906 - val_loss: 0.7482 - val_accuracy: 0.7562\n",
      "Epoch 64/100\n",
      "201/219 [==========================>...] - ETA: 0s - loss: 0.8823 - accuracy: 0.6957\n",
      "Epoch 64: val_loss did not improve from 0.72247\n",
      "219/219 [==============================] - 1s 3ms/step - loss: 0.8897 - accuracy: 0.6945 - val_loss: 0.7543 - val_accuracy: 0.7762\n",
      "Epoch 65/100\n",
      "216/219 [============================>.] - ETA: 0s - loss: 0.8865 - accuracy: 0.6891\n",
      "Epoch 65: val_loss did not improve from 0.72247\n",
      "219/219 [==============================] - 1s 5ms/step - loss: 0.8866 - accuracy: 0.6892 - val_loss: 0.7408 - val_accuracy: 0.7682\n",
      "Epoch 66/100\n",
      "212/219 [============================>.] - ETA: 0s - loss: 0.9058 - accuracy: 0.6857\n",
      "Epoch 66: val_loss did not improve from 0.72247\n",
      "219/219 [==============================] - 1s 4ms/step - loss: 0.9035 - accuracy: 0.6862 - val_loss: 0.7253 - val_accuracy: 0.7573\n",
      "Epoch 67/100\n",
      "216/219 [============================>.] - ETA: 0s - loss: 0.8897 - accuracy: 0.6921\n",
      "Epoch 67: val_loss improved from 0.72247 to 0.72019, saving model to saved_models/audio_classification.hdf5\n",
      "219/219 [==============================] - 1s 4ms/step - loss: 0.8892 - accuracy: 0.6918 - val_loss: 0.7202 - val_accuracy: 0.7682\n",
      "Epoch 68/100\n",
      "215/219 [============================>.] - ETA: 0s - loss: 0.9044 - accuracy: 0.6926\n",
      "Epoch 68: val_loss did not improve from 0.72019\n",
      "219/219 [==============================] - 1s 3ms/step - loss: 0.9047 - accuracy: 0.6916 - val_loss: 0.7601 - val_accuracy: 0.7590\n",
      "Epoch 69/100\n",
      "214/219 [============================>.] - ETA: 0s - loss: 0.8876 - accuracy: 0.6960\n",
      "Epoch 69: val_loss improved from 0.72019 to 0.71759, saving model to saved_models/audio_classification.hdf5\n",
      "219/219 [==============================] - 1s 4ms/step - loss: 0.8903 - accuracy: 0.6951 - val_loss: 0.7176 - val_accuracy: 0.7750\n",
      "Epoch 70/100\n",
      "216/219 [============================>.] - ETA: 0s - loss: 0.9206 - accuracy: 0.6834\n",
      "Epoch 70: val_loss did not improve from 0.71759\n",
      "219/219 [==============================] - 1s 4ms/step - loss: 0.9205 - accuracy: 0.6838 - val_loss: 0.7288 - val_accuracy: 0.7750\n",
      "Epoch 71/100\n",
      "217/219 [============================>.] - ETA: 0s - loss: 0.8731 - accuracy: 0.6969\n",
      "Epoch 71: val_loss improved from 0.71759 to 0.70589, saving model to saved_models/audio_classification.hdf5\n",
      "219/219 [==============================] - 1s 4ms/step - loss: 0.8737 - accuracy: 0.6963 - val_loss: 0.7059 - val_accuracy: 0.7785\n",
      "Epoch 72/100\n",
      "213/219 [============================>.] - ETA: 0s - loss: 0.8866 - accuracy: 0.6950\n",
      "Epoch 72: val_loss did not improve from 0.70589\n",
      "219/219 [==============================] - 1s 3ms/step - loss: 0.8929 - accuracy: 0.6945 - val_loss: 0.7362 - val_accuracy: 0.7739\n",
      "Epoch 73/100\n",
      "211/219 [===========================>..] - ETA: 0s - loss: 0.8744 - accuracy: 0.7065\n",
      "Epoch 73: val_loss did not improve from 0.70589\n",
      "219/219 [==============================] - 1s 5ms/step - loss: 0.8715 - accuracy: 0.7085 - val_loss: 0.7181 - val_accuracy: 0.7762\n",
      "Epoch 74/100\n",
      "205/219 [===========================>..] - ETA: 0s - loss: 0.8906 - accuracy: 0.6956\n",
      "Epoch 74: val_loss improved from 0.70589 to 0.70302, saving model to saved_models/audio_classification.hdf5\n",
      "219/219 [==============================] - 1s 4ms/step - loss: 0.8873 - accuracy: 0.6965 - val_loss: 0.7030 - val_accuracy: 0.7951\n",
      "Epoch 75/100\n",
      "204/219 [==========================>...] - ETA: 0s - loss: 0.8823 - accuracy: 0.6955\n",
      "Epoch 75: val_loss improved from 0.70302 to 0.70012, saving model to saved_models/audio_classification.hdf5\n",
      "219/219 [==============================] - 1s 3ms/step - loss: 0.8844 - accuracy: 0.6959 - val_loss: 0.7001 - val_accuracy: 0.7916\n",
      "Epoch 76/100\n",
      "219/219 [==============================] - ETA: 0s - loss: 0.8712 - accuracy: 0.7018\n",
      "Epoch 76: val_loss did not improve from 0.70012\n",
      "219/219 [==============================] - 1s 4ms/step - loss: 0.8712 - accuracy: 0.7018 - val_loss: 0.7117 - val_accuracy: 0.7733\n",
      "Epoch 77/100\n",
      "210/219 [===========================>..] - ETA: 0s - loss: 0.8811 - accuracy: 0.7003\n",
      "Epoch 77: val_loss did not improve from 0.70012\n",
      "219/219 [==============================] - 1s 4ms/step - loss: 0.8810 - accuracy: 0.6998 - val_loss: 0.7307 - val_accuracy: 0.7596\n",
      "Epoch 78/100\n",
      "219/219 [==============================] - ETA: 0s - loss: 0.8702 - accuracy: 0.7019\n",
      "Epoch 78: val_loss did not improve from 0.70012\n",
      "219/219 [==============================] - 1s 3ms/step - loss: 0.8702 - accuracy: 0.7019 - val_loss: 0.7040 - val_accuracy: 0.7779\n",
      "Epoch 79/100\n",
      "211/219 [===========================>..] - ETA: 0s - loss: 0.8955 - accuracy: 0.6899\n",
      "Epoch 79: val_loss did not improve from 0.70012\n",
      "219/219 [==============================] - 1s 4ms/step - loss: 0.9016 - accuracy: 0.6878 - val_loss: 0.7212 - val_accuracy: 0.7716\n",
      "Epoch 80/100\n",
      "215/219 [============================>.] - ETA: 0s - loss: 0.8830 - accuracy: 0.6948\n",
      "Epoch 80: val_loss did not improve from 0.70012\n"
     ]
    },
    {
     "name": "stdout",
     "output_type": "stream",
     "text": [
      "219/219 [==============================] - 1s 5ms/step - loss: 0.8804 - accuracy: 0.6953 - val_loss: 0.7121 - val_accuracy: 0.7710\n",
      "Epoch 81/100\n",
      "217/219 [============================>.] - ETA: 0s - loss: 0.8487 - accuracy: 0.7077\n",
      "Epoch 81: val_loss did not improve from 0.70012\n",
      "219/219 [==============================] - 1s 4ms/step - loss: 0.8478 - accuracy: 0.7081 - val_loss: 0.7037 - val_accuracy: 0.7785\n",
      "Epoch 82/100\n",
      "207/219 [===========================>..] - ETA: 0s - loss: 0.8715 - accuracy: 0.6937\n",
      "Epoch 82: val_loss improved from 0.70012 to 0.69621, saving model to saved_models/audio_classification.hdf5\n",
      "219/219 [==============================] - 1s 5ms/step - loss: 0.8697 - accuracy: 0.6945 - val_loss: 0.6962 - val_accuracy: 0.7922\n",
      "Epoch 83/100\n",
      "202/219 [==========================>...] - ETA: 0s - loss: 0.8668 - accuracy: 0.6988\n",
      "Epoch 83: val_loss did not improve from 0.69621\n",
      "219/219 [==============================] - 1s 4ms/step - loss: 0.8630 - accuracy: 0.6989 - val_loss: 0.7227 - val_accuracy: 0.7756\n",
      "Epoch 84/100\n",
      "206/219 [===========================>..] - ETA: 0s - loss: 0.8555 - accuracy: 0.7008\n",
      "Epoch 84: val_loss improved from 0.69621 to 0.69499, saving model to saved_models/audio_classification.hdf5\n",
      "219/219 [==============================] - 1s 4ms/step - loss: 0.8612 - accuracy: 0.6994 - val_loss: 0.6950 - val_accuracy: 0.7785\n",
      "Epoch 85/100\n",
      "208/219 [===========================>..] - ETA: 0s - loss: 0.8504 - accuracy: 0.7016\n",
      "Epoch 85: val_loss improved from 0.69499 to 0.68026, saving model to saved_models/audio_classification.hdf5\n",
      "219/219 [==============================] - 1s 4ms/step - loss: 0.8476 - accuracy: 0.7016 - val_loss: 0.6803 - val_accuracy: 0.7825\n",
      "Epoch 86/100\n",
      "200/219 [==========================>...] - ETA: 0s - loss: 0.8713 - accuracy: 0.7002\n",
      "Epoch 86: val_loss did not improve from 0.68026\n",
      "219/219 [==============================] - 1s 3ms/step - loss: 0.8679 - accuracy: 0.7014 - val_loss: 0.6847 - val_accuracy: 0.7819\n",
      "Epoch 87/100\n",
      "215/219 [============================>.] - ETA: 0s - loss: 0.8588 - accuracy: 0.7074\n",
      "Epoch 87: val_loss did not improve from 0.68026\n",
      "219/219 [==============================] - 1s 3ms/step - loss: 0.8605 - accuracy: 0.7072 - val_loss: 0.6828 - val_accuracy: 0.7848\n",
      "Epoch 88/100\n",
      "214/219 [============================>.] - ETA: 0s - loss: 0.8483 - accuracy: 0.7122\n",
      "Epoch 88: val_loss did not improve from 0.68026\n",
      "219/219 [==============================] - 1s 3ms/step - loss: 0.8497 - accuracy: 0.7125 - val_loss: 0.6823 - val_accuracy: 0.7825\n",
      "Epoch 89/100\n",
      "211/219 [===========================>..] - ETA: 0s - loss: 0.8786 - accuracy: 0.7035\n",
      "Epoch 89: val_loss did not improve from 0.68026\n",
      "219/219 [==============================] - 1s 3ms/step - loss: 0.8798 - accuracy: 0.7025 - val_loss: 0.7089 - val_accuracy: 0.7905\n",
      "Epoch 90/100\n",
      "214/219 [============================>.] - ETA: 0s - loss: 0.8549 - accuracy: 0.7071\n",
      "Epoch 90: val_loss did not improve from 0.68026\n",
      "219/219 [==============================] - 1s 3ms/step - loss: 0.8519 - accuracy: 0.7077 - val_loss: 0.6808 - val_accuracy: 0.7951\n",
      "Epoch 91/100\n",
      "201/219 [==========================>...] - ETA: 0s - loss: 0.8499 - accuracy: 0.7066\n",
      "Epoch 91: val_loss did not improve from 0.68026\n",
      "219/219 [==============================] - 1s 4ms/step - loss: 0.8510 - accuracy: 0.7069 - val_loss: 0.6980 - val_accuracy: 0.7750\n",
      "Epoch 92/100\n",
      "201/219 [==========================>...] - ETA: 0s - loss: 0.8364 - accuracy: 0.7191\n",
      "Epoch 92: val_loss did not improve from 0.68026\n",
      "219/219 [==============================] - 1s 3ms/step - loss: 0.8255 - accuracy: 0.7215 - val_loss: 0.6924 - val_accuracy: 0.7796\n",
      "Epoch 93/100\n",
      "217/219 [============================>.] - ETA: 0s - loss: 0.8632 - accuracy: 0.7022\n",
      "Epoch 93: val_loss did not improve from 0.68026\n",
      "219/219 [==============================] - 1s 3ms/step - loss: 0.8640 - accuracy: 0.7018 - val_loss: 0.6816 - val_accuracy: 0.7882\n",
      "Epoch 94/100\n",
      "208/219 [===========================>..] - ETA: 0s - loss: 0.8679 - accuracy: 0.7039\n",
      "Epoch 94: val_loss did not improve from 0.68026\n",
      "219/219 [==============================] - 1s 3ms/step - loss: 0.8634 - accuracy: 0.7049 - val_loss: 0.6974 - val_accuracy: 0.7779\n",
      "Epoch 95/100\n",
      "211/219 [===========================>..] - ETA: 0s - loss: 0.8630 - accuracy: 0.7038\n",
      "Epoch 95: val_loss did not improve from 0.68026\n",
      "219/219 [==============================] - 1s 3ms/step - loss: 0.8598 - accuracy: 0.7044 - val_loss: 0.7008 - val_accuracy: 0.7705\n",
      "Epoch 96/100\n",
      "211/219 [===========================>..] - ETA: 0s - loss: 0.8600 - accuracy: 0.7023\n",
      "Epoch 96: val_loss did not improve from 0.68026\n",
      "219/219 [==============================] - 1s 3ms/step - loss: 0.8613 - accuracy: 0.7032 - val_loss: 0.7013 - val_accuracy: 0.7745\n",
      "Epoch 97/100\n",
      "205/219 [===========================>..] - ETA: 0s - loss: 0.8277 - accuracy: 0.7148\n",
      "Epoch 97: val_loss did not improve from 0.68026\n",
      "219/219 [==============================] - 1s 4ms/step - loss: 0.8363 - accuracy: 0.7102 - val_loss: 0.6920 - val_accuracy: 0.7813\n",
      "Epoch 98/100\n",
      "209/219 [===========================>..] - ETA: 0s - loss: 0.8252 - accuracy: 0.7152\n",
      "Epoch 98: val_loss improved from 0.68026 to 0.67816, saving model to saved_models/audio_classification.hdf5\n",
      "219/219 [==============================] - 1s 4ms/step - loss: 0.8273 - accuracy: 0.7154 - val_loss: 0.6782 - val_accuracy: 0.7848\n",
      "Epoch 99/100\n",
      "204/219 [==========================>...] - ETA: 0s - loss: 0.8516 - accuracy: 0.7116\n",
      "Epoch 99: val_loss did not improve from 0.67816\n",
      "219/219 [==============================] - 1s 4ms/step - loss: 0.8508 - accuracy: 0.7118 - val_loss: 0.6873 - val_accuracy: 0.7819\n",
      "Epoch 100/100\n",
      "213/219 [============================>.] - ETA: 0s - loss: 0.8583 - accuracy: 0.7075\n",
      "Epoch 100: val_loss did not improve from 0.67816\n",
      "219/219 [==============================] - 1s 3ms/step - loss: 0.8571 - accuracy: 0.7077 - val_loss: 0.7008 - val_accuracy: 0.7728\n",
      "Training completed in time:  0:01:24.790179\n"
     ]
    }
   ],
   "source": [
    "from tensorflow.keras.callbacks import ModelCheckpoint\n",
    "from datetime import datetime \n",
    "\n",
    "num_epochs = 100\n",
    "num_batch_size = 32\n",
    "\n",
    "checkpointer = ModelCheckpoint(filepath='saved_models/audio_classification.hdf5', \n",
    "                               verbose=1, save_best_only=True)\n",
    "start = datetime.now()\n",
    "\n",
    "model.fit(X_train, y_train, batch_size=num_batch_size, epochs=num_epochs, validation_data=(X_test, y_test), callbacks=[checkpointer], verbose=1)\n",
    "\n",
    "\n",
    "duration = datetime.now() - start\n",
    "print(\"Training completed in time: \", duration)"
   ]
  },
  {
   "cell_type": "markdown",
   "id": "e3d7f1da",
   "metadata": {},
   "source": [
    "## ACCURACY"
   ]
  },
  {
   "cell_type": "code",
   "execution_count": 39,
   "id": "340013a2",
   "metadata": {},
   "outputs": [
    {
     "name": "stdout",
     "output_type": "stream",
     "text": [
      "0.7727532982826233\n"
     ]
    }
   ],
   "source": [
    "test_accuracy=model.evaluate(X_test,y_test,verbose=0)\n",
    "print(test_accuracy[1])"
   ]
  },
  {
   "cell_type": "code",
   "execution_count": 40,
   "id": "676798bc",
   "metadata": {},
   "outputs": [],
   "source": [
    "from sklearn.metrics import classification_report, confusion_matrix"
   ]
  },
  {
   "cell_type": "code",
   "execution_count": 41,
   "id": "1f9459a0",
   "metadata": {},
   "outputs": [
    {
     "name": "stdout",
     "output_type": "stream",
     "text": [
      "55/55 [==============================] - 0s 2ms/step\n"
     ]
    }
   ],
   "source": [
    "y_pred = model.predict(X_test)\n",
    "y_pred_classes = np.argmax(y_pred, axis=1) "
   ]
  },
  {
   "cell_type": "code",
   "execution_count": 42,
   "id": "b7d47cb1",
   "metadata": {},
   "outputs": [
    {
     "name": "stdout",
     "output_type": "stream",
     "text": [
      "Classification Report:\n",
      "              precision    recall  f1-score   support\n",
      "\n",
      "     Class 0       0.62      0.87      0.72       195\n",
      "     Class 1       1.00      0.69      0.82        91\n",
      "     Class 2       0.54      0.80      0.64       205\n",
      "     Class 3       0.84      0.70      0.77       182\n",
      "     Class 4       0.90      0.83      0.86       202\n",
      "     Class 5       0.95      0.78      0.86       216\n",
      "     Class 6       0.98      0.55      0.71        87\n",
      "     Class 7       0.88      0.90      0.89       187\n",
      "     Class 8       0.98      0.82      0.89       199\n",
      "     Class 9       0.60      0.60      0.60       183\n",
      "\n",
      "    accuracy                           0.77      1747\n",
      "   macro avg       0.83      0.75      0.78      1747\n",
      "weighted avg       0.81      0.77      0.78      1747\n",
      "\n"
     ]
    }
   ],
   "source": [
    "y_true_classes = np.argmax(y_test, axis=1)  \n",
    "\n",
    "class_names = [f'Class {i}' for i in range(10)] \n",
    "report = classification_report(y_true_classes, y_pred_classes, target_names=class_names)\n",
    "print(\"Classification Report:\")\n",
    "print(report)"
   ]
  },
  {
   "cell_type": "code",
   "execution_count": null,
   "id": "7b28b993",
   "metadata": {},
   "outputs": [],
   "source": []
  },
  {
   "cell_type": "code",
   "execution_count": null,
   "id": "838d7493",
   "metadata": {},
   "outputs": [],
   "source": []
  }
 ],
 "metadata": {
  "kernelspec": {
   "display_name": "Python 3 (ipykernel)",
   "language": "python",
   "name": "python3"
  },
  "language_info": {
   "codemirror_mode": {
    "name": "ipython",
    "version": 3
   },
   "file_extension": ".py",
   "mimetype": "text/x-python",
   "name": "python",
   "nbconvert_exporter": "python",
   "pygments_lexer": "ipython3",
   "version": "3.11.5"
  }
 },
 "nbformat": 4,
 "nbformat_minor": 5
}
