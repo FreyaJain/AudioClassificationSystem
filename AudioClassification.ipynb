{
 "cells": [
  {
   "cell_type": "code",
   "execution_count": 1,
   "id": "3a1f4b06",
   "metadata": {},
   "outputs": [],
   "source": [
    "#!pip install librosa"
   ]
  },
  {
   "cell_type": "code",
   "execution_count": 2,
   "id": "fa3a139d",
   "metadata": {
    "scrolled": true
   },
   "outputs": [],
   "source": [
    "#!pip install resampy"
   ]
  },
  {
   "cell_type": "code",
   "execution_count": 3,
   "id": "732c2c38",
   "metadata": {},
   "outputs": [],
   "source": [
    "import numpy as np\n",
    "import pandas as pd\n",
    "import matplotlib.pyplot as plt\n",
    "import seaborn as sns\n",
    "%matplotlib inline\n",
    "import os"
   ]
  },
  {
   "cell_type": "code",
   "execution_count": 4,
   "id": "437c1e28",
   "metadata": {},
   "outputs": [],
   "source": [
    "# to display audio wave\n",
    "\n",
    "import IPython.display as ipd\n",
    "import librosa\n",
    "import librosa.display"
   ]
  },
  {
   "cell_type": "markdown",
   "id": "cba3874c",
   "metadata": {},
   "source": [
    "# I. Introduction\n",
    "\n",
    "### Audio Classification of Urban Sounds\n",
    "\n",
    "<div class=\"alert alert-block alert-info\" style=\"font-size:15px; color:black; background-color:#e6f2ff; border-color: #3399ff\">\n",
    "    <aside>\n",
    "    <p>\n",
    "Audio classification is a crucial task in many applications, including speech recognition, music genre classification, and environmental sound classification. This project focuses on the classification of urban sounds using machine learning techniques. The dataset used for this task is the **UrbanSound8K dataset**, which contains 8732 labeled sound excerpts (<=4s) of urban sounds from 10 classes: air conditioner, car horn, children playing, dog bark, drilling, engine idling, gunshot, jackhammer, siren, and street music.\n",
    " </p>\n",
    "         <p>\n",
    "The goal of this project is to build a robust model that can accurately classify these urban sounds into their respective categories. To achieve this, we will extract relevant features from the audio data, use these features to train a machine learning model, and evaluate the model's performance.\n",
    " </p>\n",
    "\n",
    " </aside>\n",
    "</div>"
   ]
  },
  {
   "cell_type": "markdown",
   "id": "01493b2d",
   "metadata": {},
   "source": [
    "<!-- -->"
   ]
  },
  {
   "cell_type": "markdown",
   "id": "34985f76",
   "metadata": {},
   "source": [
    "# 1. Project Steps:"
   ]
  },
  {
   "cell_type": "markdown",
   "id": "19db04a5",
   "metadata": {},
   "source": [
    "<div class=\"steps\" style=\"font-size:15px; color:black; background-color:#F5F5F5;\">\n",
    "    <aside>\n",
    "<p>//    1. <b>Data Exploration and Visualization</b>  Loading the dataset and vizualizing the audio data</p>\n",
    "<p>// 2. <b>Audio Data Preprocessing</b> Loading audio files using Librosa and visualizing waveforms</p>\n",
    "<p>// 3. <b>Feature Extraction</b> Extracting Mel Frequency Cepstral Coefficients (MFCC) from audio data and defining a feature extraction function</p>\n",
    "<p>// 4. <b>Data Preparation</b> Iterating through audio files, extracting features, converting to DataFrame, splitting dataset, and encoding labels</p>\n",
    "<p>// 5. <b>Model Building</b> Defining and compiling a neural network model using TensorFlow/Keras</p>\n",
    "<p>// 6. <b>Model Training</b> Splitting data into training and testing sets, training the model, validating the model, and saving the best model</p>\n",
    "<p>// 7. <b>Model Evaluation</b> Evaluating the model's performance on the test set and printing the test accuracy</p>\n",
    "<p>// 8. <b>Model Prediction</b> Extracting features from a new audio sample, using the trained model to predict the class, and printing the predicted class</p>\n",
    " </aside>\n",
    "</div>"
   ]
  },
  {
   "cell_type": "markdown",
   "id": "98af1fa1",
   "metadata": {},
   "source": [
    "<!-- -->"
   ]
  },
  {
   "cell_type": "markdown",
   "id": "749703bb",
   "metadata": {},
   "source": [
    "# 2. About the Dataset"
   ]
  },
  {
   "cell_type": "markdown",
   "id": "0c79627a",
   "metadata": {},
   "source": [
    "The **UrbanSound8K** dataset is widely used for training and evaluating machine learning models for environmental sound classification.It is a collection of 8,732 labeled sound excerpts (≤4s) from urban environments, classified into 10 categories:"
   ]
  },
  {
   "cell_type": "markdown",
   "id": "1ace400b",
   "metadata": {},
   "source": [
    "<!-- -->"
   ]
  },
  {
   "cell_type": "markdown",
   "id": "76fe52ed",
   "metadata": {},
   "source": [
    "<!-- -->\n"
   ]
  },
  {
   "cell_type": "markdown",
   "id": "1fa902eb",
   "metadata": {},
   "source": [
    "| classId |       Class       | classId |       Class       |\n",
    "|---------|-------------------|---------|-------------------|\n",
    "|    0    | air_conditioner   |    5    | engine_idling     |\n",
    "|    1    | car_horn          |    6    | gun_shot          |\n",
    "|    2    | children_playing  |    7    | jackhammer        |\n",
    "|    3    | dog_bark          |    8    | siren             |\n",
    "|    4    | drilling          |    9    | street_music      |"
   ]
  },
  {
   "cell_type": "markdown",
   "id": "2f018117",
   "metadata": {},
   "source": [
    "The metadata file contains information about audio slices from the UrbanSound8K dataset, including file names, identifiers, temporal details (start and end times), salience, fold (cross-validation split), class IDs, and corresponding class labels for urban sound classification tasks."
   ]
  },
  {
   "cell_type": "markdown",
   "id": "c60bd22b",
   "metadata": {},
   "source": [
    "\n",
    "| slice_file_name      | fsID   | start | end      | salience | fold | classID | class            |\n",
    "|----------------------|--------|-------|----------|----------|------|---------|------------------|\n",
    "| 100032-3-0-0.wav     | 100032 | 0.0   | 0.317551 | 1        | 5    | 3       | dog_bark         |\n",
    "| 100263-2-0-117.wav   | 100263 | 58.5  | 62.5     | 1        | 5    | 2       | children_playing |\n",
    "| 100263-2-0-121.wav   | 100263 | 60.5  | 64.5     | 1        | 5    | 2       | children_playing |\n",
    "| 100263-2-0-126.wav   | 100263 | 63.0  | 67.0     | 1        | 5    | 2       | children_playing |\n",
    "| 100263-2-0-137.wav   | 100263 | 68.5  | 72.5     | 1        | 5    | 2       | children_playing |"
   ]
  },
  {
   "cell_type": "markdown",
   "id": "4932ec46",
   "metadata": {},
   "source": [
    "<!-- -->"
   ]
  },
  {
   "cell_type": "markdown",
   "id": "1d5c0fde",
   "metadata": {},
   "source": [
    "<!-- -->"
   ]
  },
  {
   "cell_type": "markdown",
   "id": "7ad3b09d",
   "metadata": {},
   "source": [
    "## FOLDER STRUCTURE"
   ]
  },
  {
   "cell_type": "markdown",
   "id": "9bf8fe7f",
   "metadata": {},
   "source": [
    "<!-- -->"
   ]
  },
  {
   "cell_type": "code",
   "execution_count": 5,
   "id": "f85ad741",
   "metadata": {},
   "outputs": [],
   "source": [
    "metadata = pd.read_csv('UrbanSound8K/metadata/UrbanSound8K.csv')"
   ]
  },
  {
   "cell_type": "code",
   "execution_count": 6,
   "id": "61bf8105",
   "metadata": {},
   "outputs": [],
   "source": [
    "unique_classes = metadata.drop_duplicates(subset='classID')"
   ]
  },
  {
   "cell_type": "code",
   "execution_count": 7,
   "id": "792f52a6",
   "metadata": {},
   "outputs": [
    {
     "name": "stdout",
     "output_type": "stream",
     "text": [
      "classID: 3, class: dog_bark\n",
      "classID: 2, class: children_playing\n",
      "classID: 1, class: car_horn\n",
      "classID: 0, class: air_conditioner\n",
      "classID: 9, class: street_music\n",
      "classID: 6, class: gun_shot\n",
      "classID: 8, class: siren\n",
      "classID: 5, class: engine_idling\n",
      "classID: 7, class: jackhammer\n",
      "classID: 4, class: drilling\n"
     ]
    }
   ],
   "source": [
    "for index, row in unique_classes.iterrows():\n",
    "    print(f\"classID: {row['classID']}, class: {row['class']}\")"
   ]
  },
  {
   "cell_type": "code",
   "execution_count": 8,
   "id": "6095bbfb",
   "metadata": {},
   "outputs": [
    {
     "name": "stdout",
     "output_type": "stream",
     "text": [
      "Number of files in each class:\n",
      "class\n",
      "air_conditioner     1000\n",
      "car_horn             429\n",
      "children_playing    1000\n",
      "dog_bark            1000\n",
      "drilling            1000\n",
      "engine_idling       1000\n",
      "gun_shot             374\n",
      "jackhammer          1000\n",
      "siren                929\n",
      "street_music        1000\n",
      "Name: count, dtype: int64\n"
     ]
    }
   ],
   "source": [
    "class_counts = metadata['class'].value_counts().sort_index()\n",
    "\n",
    "print(\"Number of files in each class:\")\n",
    "print(class_counts)"
   ]
  },
  {
   "cell_type": "code",
   "execution_count": 9,
   "id": "287072cd",
   "metadata": {},
   "outputs": [
    {
     "data": {
      "image/png": "[encoded data removed]",
      "text/plain": [
       "<Figure size 400x400 with 1 Axes>"
      ]
     },
     "metadata": {},
     "output_type": "display_data"
    }
   ],
   "source": [
    "plt.figure(figsize=(4, 4))\n",
    "plt.pie(class_counts, labels=class_counts.index, autopct='%1.1f%%', startangle=140)\n",
    "plt.title('Number of Classes in All Files of UrbanSound8K Dataset')\n",
    "plt.axis('equal') \n",
    "plt.show()"
   ]
  },
  {
   "cell_type": "markdown",
   "id": "dbe7bfd3",
   "metadata": {},
   "source": [
    "# II. EDA"
   ]
  },
  {
   "cell_type": "markdown",
   "id": "ab6e98c0",
   "metadata": {},
   "source": [
    "Exploring a random audio sample `132016-9-0-6.wav` by printing the values of : \n",
    "* **Sample rate (sr)** : defines the number of samples per second taken from a analog signal to make adigital signal.\n",
    "* **Amplitude**  : a measure of how high or low the wave extends from the x axis"
   ]
  },
  {
   "cell_type": "code",
   "execution_count": 10,
   "id": "bf555b5e",
   "metadata": {},
   "outputs": [],
   "source": [
    "filename = '/Users/macos/Desktop/Drdo/Audio_Classification/UrbanSound8K/audio/fold1/132016-9-0-6.wav'"
   ]
  },
  {
   "cell_type": "code",
   "execution_count": 11,
   "id": "cdcbe697",
   "metadata": {},
   "outputs": [],
   "source": [
    "lib_audio_data, sample_rate = librosa.load(filename)"
   ]
  },
  {
   "cell_type": "code",
   "execution_count": 12,
   "id": "9ef4023a",
   "metadata": {},
   "outputs": [
    {
     "data": {
      "text/plain": [
       "array([-0.07869472, -0.11024831, -0.08400878, ..., -0.00586693,\n",
       "        0.00208374,  0.01869803], dtype=float32)"
      ]
     },
     "execution_count": 12,
     "metadata": {},
     "output_type": "execute_result"
    }
   ],
   "source": [
    "lib_audio_data"
   ]
  },
  {
   "cell_type": "code",
   "execution_count": 13,
   "id": "5aa0e233",
   "metadata": {},
   "outputs": [
    {
     "data": {
      "text/plain": [
       "22050"
      ]
     },
     "execution_count": 13,
     "metadata": {},
     "output_type": "execute_result"
    }
   ],
   "source": [
    "sample_rate"
   ]
  },
  {
   "cell_type": "code",
   "execution_count": 14,
   "id": "3818f406",
   "metadata": {},
   "outputs": [
    {
     "data": {
      "image/png": "[encoded data removed]",
      "text/plain": [
       "<Figure size 1200x500 with 1 Axes>"
      ]
     },
     "metadata": {},
     "output_type": "display_data"
    }
   ],
   "source": [
    "plt.figure(figsize=(12, 5))\n",
    "librosa.display.waveshow(lib_audio_data, sr=sample_rate)\n",
    "plt.title('Waveplot of Audio')\n",
    "plt.xlabel('Time (s)')\n",
    "plt.ylabel('Amplitude')\n",
    "plt.show()"
   ]
  },
  {
   "cell_type": "markdown",
   "id": "9bcd7724",
   "metadata": {},
   "source": [
    "# Extracting Feautures"
   ]
  },
  {
   "cell_type": "markdown",
   "id": "579edab3",
   "metadata": {},
   "source": [
    "<font size=\"4\">Mel Frequency Cepstral Coefficients (MFCC) </font> "
   ]
  },
  {
   "cell_type": "code",
   "execution_count": 15,
   "id": "a169641a",
   "metadata": {},
   "outputs": [
    {
     "name": "stdout",
     "output_type": "stream",
     "text": [
      "(40, 173)\n"
     ]
    }
   ],
   "source": [
    "mfcc = librosa.feature.mfcc(y=lib_audio_data,sr=sample_rate,n_mfcc=40)\n",
    "print(mfcc.shape)"
   ]
  },
  {
   "cell_type": "code",
   "execution_count": 16,
   "id": "4394c8bb",
   "metadata": {},
   "outputs": [],
   "source": [
    "audio_dataset_path='UrbanSound8K/audio/'"
   ]
  },
  {
   "cell_type": "code",
   "execution_count": 17,
   "id": "fa969021",
   "metadata": {},
   "outputs": [],
   "source": [
    "metadata = pd.read_csv('UrbanSound8K/metadata/UrbanSound8K.csv')"
   ]
  },
  {
   "cell_type": "code",
   "execution_count": 18,
   "id": "2e9b084f",
   "metadata": {},
   "outputs": [],
   "source": [
    "def features_extractor(file):\n",
    "    audio, sample_rate = librosa.load(file_name, res_type='kaiser_fast') \n",
    "    mfccs_features = librosa.feature.mfcc(y=audio, sr=sample_rate, n_mfcc=40)\n",
    "    mfccs_scaled_features = np.mean(mfccs_features.T,axis=0)\n",
    "    \n",
    "    return mfccs_scaled_features"
   ]
  },
  {
   "cell_type": "code",
   "execution_count": 19,
   "id": "1024815f",
   "metadata": {},
   "outputs": [
    {
     "name": "stderr",
     "output_type": "stream",
     "text": [
      "3555it [04:29, 13.83it/s]/Users/macos/anaconda3/lib/python3.11/site-packages/librosa/core/spectrum.py:266: UserWarning: n_fft=2048 is too large for input signal of length=1323\n",
      "  warnings.warn(\n",
      "8326it [09:15, 26.17it/s]/Users/macos/anaconda3/lib/python3.11/site-packages/librosa/core/spectrum.py:266: UserWarning: n_fft=2048 is too large for input signal of length=1103\n",
      "  warnings.warn(\n",
      "/Users/macos/anaconda3/lib/python3.11/site-packages/librosa/core/spectrum.py:266: UserWarning: n_fft=2048 is too large for input signal of length=1523\n",
      "  warnings.warn(\n",
      "8732it [09:36, 15.15it/s]\n"
     ]
    }
   ],
   "source": [
    "import numpy as np\n",
    "from tqdm import tqdm\n",
    "import os\n",
    "\n",
    "# Now we iterate through every audio file and extract features \n",
    "# using Mel-Frequency Cepstral Coefficients\n",
    "\n",
    "extracted_features=[]\n",
    "for index_num,row in tqdm(metadata.iterrows()):\n",
    "    file_name = os.path.join(os.path.abspath(audio_dataset_path),'fold'+str(row[\"fold\"])+'/',str(row[\"slice_file_name\"]))\n",
    "    final_class_labels=row[\"class\"]\n",
    "    data=features_extractor(file_name)\n",
    "    extracted_features.append([data,final_class_labels])"
   ]
  },
  {
   "cell_type": "code",
   "execution_count": 20,
   "id": "4eb45629",
   "metadata": {},
   "outputs": [
    {
     "data": {
      "text/html": [
       "<div>\n",
       "<style scoped>\n",
       "    .dataframe tbody tr th:only-of-type {\n",
       "        vertical-align: middle;\n",
       "    }\n",
       "\n",
       "    .dataframe tbody tr th {\n",
       "        vertical-align: top;\n",
       "    }\n",
       "\n",
       "    .dataframe thead th {\n",
       "        text-align: right;\n",
       "    }\n",
       "</style>\n",
       "<table border=\"1\" class=\"dataframe\">\n",
       "  <thead>\n",
       "    <tr style=\"text-align: right;\">\n",
       "      <th></th>\n",
       "      <th>feature</th>\n",
       "      <th>class</th>\n",
       "    </tr>\n",
       "  </thead>\n",
       "  <tbody>\n",
       "    <tr>\n",
       "      <th>0</th>\n",
       "      <td>[-217.35526, 70.22338, -130.38527, -53.282898,...</td>\n",
       "      <td>dog_bark</td>\n",
       "    </tr>\n",
       "    <tr>\n",
       "      <th>1</th>\n",
       "      <td>[-424.09818, 109.34077, -52.919525, 60.86475, ...</td>\n",
       "      <td>children_playing</td>\n",
       "    </tr>\n",
       "    <tr>\n",
       "      <th>2</th>\n",
       "      <td>[-458.79114, 121.38419, -46.52066, 52.00812, -...</td>\n",
       "      <td>children_playing</td>\n",
       "    </tr>\n",
       "    <tr>\n",
       "      <th>3</th>\n",
       "      <td>[-413.89984, 101.66373, -35.42945, 53.036358, ...</td>\n",
       "      <td>children_playing</td>\n",
       "    </tr>\n",
       "    <tr>\n",
       "      <th>4</th>\n",
       "      <td>[-446.60352, 113.68541, -52.402206, 60.302044,...</td>\n",
       "      <td>children_playing</td>\n",
       "    </tr>\n",
       "  </tbody>\n",
       "</table>\n",
       "</div>"
      ],
      "text/plain": [
       "                                             feature             class\n",
       "0  [-217.35526, 70.22338, -130.38527, -53.282898,...          dog_bark\n",
       "1  [-424.09818, 109.34077, -52.919525, 60.86475, ...  children_playing\n",
       "2  [-458.79114, 121.38419, -46.52066, 52.00812, -...  children_playing\n",
       "3  [-413.89984, 101.66373, -35.42945, 53.036358, ...  children_playing\n",
       "4  [-446.60352, 113.68541, -52.402206, 60.302044,...  children_playing"
      ]
     },
     "execution_count": 20,
     "metadata": {},
     "output_type": "execute_result"
    }
   ],
   "source": [
    "### converting extracted_features to Pandas dataframe\n",
    "extracted_features_df=pd.DataFrame(extracted_features,columns=['feature','class'])\n",
    "extracted_features_df.head()"
   ]
  },
  {
   "cell_type": "code",
   "execution_count": 21,
   "id": "92f578fe",
   "metadata": {},
   "outputs": [],
   "source": [
    "### Split the dataset into labels and target\n",
    "X=np.array(extracted_features_df['feature'].tolist())\n",
    "y=np.array(extracted_features_df['class'].tolist())"
   ]
  },
  {
   "cell_type": "code",
   "execution_count": 22,
   "id": "ee31f4fb",
   "metadata": {},
   "outputs": [
    {
     "data": {
      "text/plain": [
       "(8732, 40)"
      ]
     },
     "execution_count": 22,
     "metadata": {},
     "output_type": "execute_result"
    }
   ],
   "source": [
    "X.shape"
   ]
  },
  {
   "cell_type": "code",
   "execution_count": 23,
   "id": "f7cc20f6",
   "metadata": {},
   "outputs": [
    {
     "data": {
      "text/plain": [
       "array(['dog_bark', 'children_playing', 'children_playing', ...,\n",
       "       'car_horn', 'car_horn', 'car_horn'], dtype='<U16')"
      ]
     },
     "execution_count": 23,
     "metadata": {},
     "output_type": "execute_result"
    }
   ],
   "source": [
    "y"
   ]
  },
  {
   "cell_type": "code",
   "execution_count": 24,
   "id": "ba00f5b3",
   "metadata": {},
   "outputs": [
    {
     "name": "stderr",
     "output_type": "stream",
     "text": [
      "2024-07-24 07:26:34.236251: I tensorflow/core/platform/cpu_feature_guard.cc:182] This TensorFlow binary is optimized to use available CPU instructions in performance-critical operations.\n",
      "To enable the following instructions: AVX2 FMA, in other operations, rebuild TensorFlow with the appropriate compiler flags.\n"
     ]
    }
   ],
   "source": [
    "### Label Encoding\n",
    "\n",
    "from tensorflow.keras.utils import to_categorical\n",
    "from sklearn.preprocessing import LabelEncoder\n",
    "labelencoder=LabelEncoder()\n",
    "y=to_categorical(labelencoder.fit_transform(y))"
   ]
  },
  {
   "cell_type": "code",
   "execution_count": 25,
   "id": "5d2c4201",
   "metadata": {},
   "outputs": [
    {
     "data": {
      "text/plain": [
       "array([[0., 0., 0., ..., 0., 0., 0.],\n",
       "       [0., 0., 1., ..., 0., 0., 0.],\n",
       "       [0., 0., 1., ..., 0., 0., 0.],\n",
       "       ...,\n",
       "       [0., 1., 0., ..., 0., 0., 0.],\n",
       "       [0., 1., 0., ..., 0., 0., 0.],\n",
       "       [0., 1., 0., ..., 0., 0., 0.]], dtype=float32)"
      ]
     },
     "execution_count": 25,
     "metadata": {},
     "output_type": "execute_result"
    }
   ],
   "source": [
    "y"
   ]
  },
  {
   "cell_type": "code",
   "execution_count": 26,
   "id": "ae2c07b5",
   "metadata": {},
   "outputs": [],
   "source": [
    "### Train Test Split\n",
    "from sklearn.model_selection import train_test_split\n",
    "X_train,X_test,y_train,y_test=train_test_split(X,y,test_size=0.2,random_state=0)"
   ]
  },
  {
   "cell_type": "code",
   "execution_count": 27,
   "id": "ebb324f4",
   "metadata": {},
   "outputs": [
    {
     "data": {
      "text/plain": [
       "array([[-1.31104706e+02,  1.12505905e+02, -2.25746956e+01, ...,\n",
       "         3.24665213e+00, -1.36902380e+00,  2.75575471e+00],\n",
       "       [-1.36703424e+01,  9.10850830e+01, -7.79273319e+00, ...,\n",
       "        -3.25305080e+00, -5.27745295e+00, -1.55697155e+00],\n",
       "       [-4.98715439e+01,  2.65352815e-01, -2.05009365e+01, ...,\n",
       "         2.85459447e+00, -1.60920465e+00,  3.52480578e+00],\n",
       "       ...,\n",
       "       [-4.27012360e+02,  9.26230469e+01,  3.12939739e+00, ...,\n",
       "         7.42641091e-01,  7.33490884e-01,  7.11009145e-01],\n",
       "       [-1.45754608e+02,  1.36265778e+02, -3.35155182e+01, ...,\n",
       "         1.46811950e+00, -2.00917006e+00, -8.82181883e-01],\n",
       "       [-4.21031342e+02,  2.10654541e+02,  3.49066067e+00, ...,\n",
       "        -5.38886738e+00, -3.37136054e+00, -1.56651151e+00]], dtype=float32)"
      ]
     },
     "execution_count": 27,
     "metadata": {},
     "output_type": "execute_result"
    }
   ],
   "source": [
    "X_train"
   ]
  },
  {
   "cell_type": "code",
   "execution_count": 28,
   "id": "38f8f764",
   "metadata": {},
   "outputs": [
    {
     "data": {
      "text/plain": [
       "(6985, 40)"
      ]
     },
     "execution_count": 28,
     "metadata": {},
     "output_type": "execute_result"
    }
   ],
   "source": [
    "X_train.shape"
   ]
  },
  {
   "cell_type": "code",
   "execution_count": 29,
   "id": "aaf47214",
   "metadata": {},
   "outputs": [
    {
     "data": {
      "text/plain": [
       "array([[0., 0., 0., ..., 0., 0., 0.],\n",
       "       [0., 0., 1., ..., 0., 0., 0.],\n",
       "       [0., 0., 1., ..., 0., 0., 0.],\n",
       "       ...,\n",
       "       [0., 1., 0., ..., 0., 0., 0.],\n",
       "       [0., 1., 0., ..., 0., 0., 0.],\n",
       "       [0., 1., 0., ..., 0., 0., 0.]], dtype=float32)"
      ]
     },
     "execution_count": 29,
     "metadata": {},
     "output_type": "execute_result"
    }
   ],
   "source": [
    "y"
   ]
  },
  {
   "cell_type": "code",
   "execution_count": 30,
   "id": "0c954f18",
   "metadata": {},
   "outputs": [
    {
     "data": {
      "text/plain": [
       "(6985, 10)"
      ]
     },
     "execution_count": 30,
     "metadata": {},
     "output_type": "execute_result"
    }
   ],
   "source": [
    "y_train.shape"
   ]
  },
  {
   "cell_type": "code",
   "execution_count": 31,
   "id": "dac2117c",
   "metadata": {},
   "outputs": [
    {
     "data": {
      "text/plain": [
       "(1747, 10)"
      ]
     },
     "execution_count": 31,
     "metadata": {},
     "output_type": "execute_result"
    }
   ],
   "source": [
    "y_test.shape"
   ]
  },
  {
   "cell_type": "markdown",
   "id": "88e46157",
   "metadata": {},
   "source": [
    "# Model"
   ]
  },
  {
   "cell_type": "markdown",
   "id": "35daa510",
   "metadata": {},
   "source": [
    "## ANN"
   ]
  },
  {
   "cell_type": "code",
   "execution_count": 32,
   "id": "46285b2c",
   "metadata": {},
   "outputs": [],
   "source": [
    "import tensorflow as tf"
   ]
  },
  {
   "cell_type": "code",
   "execution_count": 33,
   "id": "24672157",
   "metadata": {},
   "outputs": [],
   "source": [
    "from tensorflow.keras.models import Sequential\n",
    "from tensorflow.keras.layers import Dense,Dropout,Activation,Flatten\n",
    "from tensorflow.keras.optimizers import Adam\n",
    "from sklearn import metrics"
   ]
  },
  {
   "cell_type": "code",
   "execution_count": 34,
   "id": "bae59552",
   "metadata": {},
   "outputs": [],
   "source": [
    "num_labels=y.shape[1]"
   ]
  },
  {
   "cell_type": "code",
   "execution_count": 35,
   "id": "3a35d547",
   "metadata": {},
   "outputs": [],
   "source": [
    "model=Sequential()\n",
    "###first layer\n",
    "model.add(Dense(100,input_shape=(40,)))\n",
    "model.add(Activation('relu'))\n",
    "model.add(Dropout(0.5))\n",
    "###second layer\n",
    "model.add(Dense(200))\n",
    "model.add(Activation('relu'))\n",
    "model.add(Dropout(0.5))\n",
    "\n",
    "###final layer\n",
    "model.add(Dense(num_labels))\n",
    "model.add(Activation('softmax'))"
   ]
  },
  {
   "cell_type": "code",
   "execution_count": 36,
   "id": "09833362",
   "metadata": {},
   "outputs": [
    {
     "name": "stdout",
     "output_type": "stream",
     "text": [
      "Model: \"sequential\"\n",
      "_________________________________________________________________\n",
      " Layer (type)                Output Shape              Param #   \n",
      "=================================================================\n",
      " dense (Dense)               (None, 100)               4100      \n",
      "                                                                 \n",
      " activation (Activation)     (None, 100)               0         \n",
      "                                                                 \n",
      " dropout (Dropout)           (None, 100)               0         \n",
      "                                                                 \n",
      " dense_1 (Dense)             (None, 200)               20200     \n",
      "                                                                 \n",
      " activation_1 (Activation)   (None, 200)               0         \n",
      "                                                                 \n",
      " dropout_1 (Dropout)         (None, 200)               0         \n",
      "                                                                 \n",
      " dense_2 (Dense)             (None, 10)                2010      \n",
      "                                                                 \n",
      " activation_2 (Activation)   (None, 10)                0         \n",
      "                                                                 \n",
      "=================================================================\n",
      "Total params: 26310 (102.77 KB)\n",
      "Trainable params: 26310 (102.77 KB)\n",
      "Non-trainable params: 0 (0.00 Byte)\n",
      "_________________________________________________________________\n"
     ]
    }
   ],
   "source": [
    "model.summary()"
   ]
  },
  {
   "cell_type": "code",
   "execution_count": 37,
   "id": "90165fb6",
   "metadata": {},
   "outputs": [],
   "source": [
    "model.compile(loss='categorical_crossentropy',metrics=['accuracy'],optimizer='adam')"
   ]
  },
  {
   "cell_type": "code",
   "execution_count": null,
   "id": "398e51e3",
   "metadata": {},
   "outputs": [],
   "source": []
  },
  {
   "cell_type": "code",
   "execution_count": 38,
   "id": "ab21a50e",
   "metadata": {
    "scrolled": false
   },
   "outputs": [
    {
     "name": "stdout",
     "output_type": "stream",
     "text": [
      "Epoch 1/100\n",
      "212/219 [============================>.] - ETA: 0s - loss: 13.8869 - accuracy: 0.1787\n",
      "Epoch 1: val_loss improved from inf to 1.94237, saving model to saved_models/audio_classification.hdf5\n",
      "219/219 [==============================] - 2s 4ms/step - loss: 13.6012 - accuracy: 0.1787 - val_loss: 1.9424 - val_accuracy: 0.3205\n",
      "Epoch 2/100\n",
      " 70/219 [========>.....................] - ETA: 0s - loss: 3.1260 - accuracy: 0.2152"
     ]
    },
    {
     "name": "stderr",
     "output_type": "stream",
     "text": [
      "/Users/macos/anaconda3/lib/python3.11/site-packages/keras/src/engine/training.py:3103: UserWarning: You are saving your model as an HDF5 file via `model.save()`. This file format is considered legacy. We recommend using instead the native Keras format, e.g. `model.save('my_model.keras')`.\n",
      "  saving_api.save_model(\n"
     ]
    },
    {
     "name": "stdout",
     "output_type": "stream",
     "text": [
      "213/219 [============================>.] - ETA: 0s - loss: 2.7024 - accuracy: 0.2418\n",
      "Epoch 2: val_loss improved from 1.94237 to 1.93782, saving model to saved_models/audio_classification.hdf5\n",
      "219/219 [==============================] - 1s 3ms/step - loss: 2.6896 - accuracy: 0.2429 - val_loss: 1.9378 - val_accuracy: 0.3343\n",
      "Epoch 3/100\n",
      "211/219 [===========================>..] - ETA: 0s - loss: 2.1041 - accuracy: 0.2931\n",
      "Epoch 3: val_loss improved from 1.93782 to 1.80677, saving model to saved_models/audio_classification.hdf5\n",
      "219/219 [==============================] - 1s 3ms/step - loss: 2.0991 - accuracy: 0.2942 - val_loss: 1.8068 - val_accuracy: 0.4585\n",
      "Epoch 4/100\n",
      "205/219 [===========================>..] - ETA: 0s - loss: 1.9015 - accuracy: 0.3430\n",
      "Epoch 4: val_loss improved from 1.80677 to 1.66840, saving model to saved_models/audio_classification.hdf5\n",
      "219/219 [==============================] - 1s 3ms/step - loss: 1.8975 - accuracy: 0.3452 - val_loss: 1.6684 - val_accuracy: 0.4974\n",
      "Epoch 5/100\n",
      "209/219 [===========================>..] - ETA: 0s - loss: 1.7575 - accuracy: 0.3813\n",
      "Epoch 5: val_loss improved from 1.66840 to 1.52856, saving model to saved_models/audio_classification.hdf5\n",
      "219/219 [==============================] - 1s 3ms/step - loss: 1.7601 - accuracy: 0.3801 - val_loss: 1.5286 - val_accuracy: 0.5547\n",
      "Epoch 6/100\n",
      "214/219 [============================>.] - ETA: 0s - loss: 1.6613 - accuracy: 0.4190\n",
      "Epoch 6: val_loss improved from 1.52856 to 1.44503, saving model to saved_models/audio_classification.hdf5\n",
      "219/219 [==============================] - 1s 3ms/step - loss: 1.6628 - accuracy: 0.4182 - val_loss: 1.4450 - val_accuracy: 0.5781\n",
      "Epoch 7/100\n",
      "215/219 [============================>.] - ETA: 0s - loss: 1.5956 - accuracy: 0.4469\n",
      "Epoch 7: val_loss improved from 1.44503 to 1.36079, saving model to saved_models/audio_classification.hdf5\n",
      "219/219 [==============================] - 1s 3ms/step - loss: 1.5951 - accuracy: 0.4474 - val_loss: 1.3608 - val_accuracy: 0.5976\n",
      "Epoch 8/100\n",
      "196/219 [=========================>....] - ETA: 0s - loss: 1.5166 - accuracy: 0.4707\n",
      "Epoch 8: val_loss improved from 1.36079 to 1.31036, saving model to saved_models/audio_classification.hdf5\n",
      "219/219 [==============================] - 1s 3ms/step - loss: 1.5221 - accuracy: 0.4706 - val_loss: 1.3104 - val_accuracy: 0.6251\n",
      "Epoch 9/100\n",
      "216/219 [============================>.] - ETA: 0s - loss: 1.4905 - accuracy: 0.4842\n",
      "Epoch 9: val_loss improved from 1.31036 to 1.27771, saving model to saved_models/audio_classification.hdf5\n",
      "219/219 [==============================] - 1s 3ms/step - loss: 1.4890 - accuracy: 0.4849 - val_loss: 1.2777 - val_accuracy: 0.6159\n",
      "Epoch 10/100\n",
      "215/219 [============================>.] - ETA: 0s - loss: 1.4351 - accuracy: 0.4977\n",
      "Epoch 10: val_loss improved from 1.27771 to 1.22937, saving model to saved_models/audio_classification.hdf5\n",
      "219/219 [==============================] - 1s 3ms/step - loss: 1.4345 - accuracy: 0.4975 - val_loss: 1.2294 - val_accuracy: 0.6319\n",
      "Epoch 11/100\n",
      "217/219 [============================>.] - ETA: 0s - loss: 1.4003 - accuracy: 0.5120\n",
      "Epoch 11: val_loss improved from 1.22937 to 1.21931, saving model to saved_models/audio_classification.hdf5\n",
      "219/219 [==============================] - 1s 3ms/step - loss: 1.3996 - accuracy: 0.5124 - val_loss: 1.2193 - val_accuracy: 0.6331\n",
      "Epoch 12/100\n",
      "216/219 [============================>.] - ETA: 0s - loss: 1.3703 - accuracy: 0.5272\n",
      "Epoch 12: val_loss improved from 1.21931 to 1.17663, saving model to saved_models/audio_classification.hdf5\n",
      "219/219 [==============================] - 1s 3ms/step - loss: 1.3719 - accuracy: 0.5260 - val_loss: 1.1766 - val_accuracy: 0.6354\n",
      "Epoch 13/100\n",
      "213/219 [============================>.] - ETA: 0s - loss: 1.3278 - accuracy: 0.5390\n",
      "Epoch 13: val_loss improved from 1.17663 to 1.15714, saving model to saved_models/audio_classification.hdf5\n",
      "219/219 [==============================] - 1s 3ms/step - loss: 1.3292 - accuracy: 0.5392 - val_loss: 1.1571 - val_accuracy: 0.6417\n",
      "Epoch 14/100\n",
      "211/219 [===========================>..] - ETA: 0s - loss: 1.3100 - accuracy: 0.5496\n",
      "Epoch 14: val_loss improved from 1.15714 to 1.12351, saving model to saved_models/audio_classification.hdf5\n",
      "219/219 [==============================] - 1s 3ms/step - loss: 1.3082 - accuracy: 0.5508 - val_loss: 1.1235 - val_accuracy: 0.6594\n",
      "Epoch 15/100\n",
      "217/219 [============================>.] - ETA: 0s - loss: 1.2866 - accuracy: 0.5583\n",
      "Epoch 15: val_loss improved from 1.12351 to 1.10930, saving model to saved_models/audio_classification.hdf5\n",
      "219/219 [==============================] - 1s 3ms/step - loss: 1.2858 - accuracy: 0.5582 - val_loss: 1.1093 - val_accuracy: 0.6594\n",
      "Epoch 16/100\n",
      "216/219 [============================>.] - ETA: 0s - loss: 1.2572 - accuracy: 0.5697\n",
      "Epoch 16: val_loss improved from 1.10930 to 1.06823, saving model to saved_models/audio_classification.hdf5\n",
      "219/219 [==============================] - 1s 3ms/step - loss: 1.2554 - accuracy: 0.5698 - val_loss: 1.0682 - val_accuracy: 0.6657\n",
      "Epoch 17/100\n",
      "218/219 [============================>.] - ETA: 0s - loss: 1.2382 - accuracy: 0.5740\n",
      "Epoch 17: val_loss improved from 1.06823 to 1.05042, saving model to saved_models/audio_classification.hdf5\n",
      "219/219 [==============================] - 1s 3ms/step - loss: 1.2380 - accuracy: 0.5741 - val_loss: 1.0504 - val_accuracy: 0.6760\n",
      "Epoch 18/100\n",
      "205/219 [===========================>..] - ETA: 0s - loss: 1.2229 - accuracy: 0.5816\n",
      "Epoch 18: val_loss improved from 1.05042 to 1.03363, saving model to saved_models/audio_classification.hdf5\n",
      "219/219 [==============================] - 1s 3ms/step - loss: 1.2191 - accuracy: 0.5825 - val_loss: 1.0336 - val_accuracy: 0.6737\n",
      "Epoch 19/100\n",
      "215/219 [============================>.] - ETA: 0s - loss: 1.2045 - accuracy: 0.5821\n",
      "Epoch 19: val_loss improved from 1.03363 to 0.99323, saving model to saved_models/audio_classification.hdf5\n",
      "219/219 [==============================] - 1s 3ms/step - loss: 1.2017 - accuracy: 0.5834 - val_loss: 0.9932 - val_accuracy: 0.6972\n",
      "Epoch 20/100\n",
      "201/219 [==========================>...] - ETA: 0s - loss: 1.1619 - accuracy: 0.5984\n",
      "Epoch 20: val_loss did not improve from 0.99323\n",
      "219/219 [==============================] - 1s 3ms/step - loss: 1.1646 - accuracy: 0.5974 - val_loss: 1.0002 - val_accuracy: 0.6989\n",
      "Epoch 21/100\n",
      "208/219 [===========================>..] - ETA: 0s - loss: 1.1608 - accuracy: 0.5954\n",
      "Epoch 21: val_loss did not improve from 0.99323\n",
      "219/219 [==============================] - 1s 3ms/step - loss: 1.1598 - accuracy: 0.5966 - val_loss: 1.0020 - val_accuracy: 0.6903\n",
      "Epoch 22/100\n",
      "209/219 [===========================>..] - ETA: 0s - loss: 1.1356 - accuracy: 0.6071\n",
      "Epoch 22: val_loss improved from 0.99323 to 0.96505, saving model to saved_models/audio_classification.hdf5\n",
      "219/219 [==============================] - 1s 3ms/step - loss: 1.1387 - accuracy: 0.6063 - val_loss: 0.9650 - val_accuracy: 0.6989\n",
      "Epoch 23/100\n",
      "209/219 [===========================>..] - ETA: 0s - loss: 1.1393 - accuracy: 0.6118\n",
      "Epoch 23: val_loss did not improve from 0.96505\n",
      "219/219 [==============================] - 1s 3ms/step - loss: 1.1373 - accuracy: 0.6119 - val_loss: 0.9931 - val_accuracy: 0.6892\n",
      "Epoch 24/100\n",
      "206/219 [===========================>..] - ETA: 0s - loss: 1.1031 - accuracy: 0.6145\n",
      "Epoch 24: val_loss improved from 0.96505 to 0.94016, saving model to saved_models/audio_classification.hdf5\n",
      "219/219 [==============================] - 1s 3ms/step - loss: 1.1046 - accuracy: 0.6147 - val_loss: 0.9402 - val_accuracy: 0.7006\n",
      "Epoch 25/100\n",
      "197/219 [=========================>....] - ETA: 0s - loss: 1.1008 - accuracy: 0.6152\n",
      "Epoch 25: val_loss improved from 0.94016 to 0.93478, saving model to saved_models/audio_classification.hdf5\n",
      "219/219 [==============================] - 1s 3ms/step - loss: 1.0997 - accuracy: 0.6130 - val_loss: 0.9348 - val_accuracy: 0.7086\n",
      "Epoch 26/100\n",
      "212/219 [============================>.] - ETA: 0s - loss: 1.1038 - accuracy: 0.6231\n",
      "Epoch 26: val_loss improved from 0.93478 to 0.92288, saving model to saved_models/audio_classification.hdf5\n",
      "219/219 [==============================] - 1s 3ms/step - loss: 1.1013 - accuracy: 0.6243 - val_loss: 0.9229 - val_accuracy: 0.7069\n"
     ]
    },
    {
     "name": "stdout",
     "output_type": "stream",
     "text": [
      "Epoch 27/100\n",
      "201/219 [==========================>...] - ETA: 0s - loss: 1.0851 - accuracy: 0.6286\n",
      "Epoch 27: val_loss improved from 0.92288 to 0.90079, saving model to saved_models/audio_classification.hdf5\n",
      "219/219 [==============================] - 1s 3ms/step - loss: 1.0813 - accuracy: 0.6299 - val_loss: 0.9008 - val_accuracy: 0.7184\n",
      "Epoch 28/100\n",
      "217/219 [============================>.] - ETA: 0s - loss: 1.0784 - accuracy: 0.6295\n",
      "Epoch 28: val_loss improved from 0.90079 to 0.89407, saving model to saved_models/audio_classification.hdf5\n",
      "219/219 [==============================] - 1s 3ms/step - loss: 1.0772 - accuracy: 0.6301 - val_loss: 0.8941 - val_accuracy: 0.7115\n",
      "Epoch 29/100\n",
      "210/219 [===========================>..] - ETA: 0s - loss: 1.0505 - accuracy: 0.6430\n",
      "Epoch 29: val_loss improved from 0.89407 to 0.86745, saving model to saved_models/audio_classification.hdf5\n",
      "219/219 [==============================] - 1s 3ms/step - loss: 1.0502 - accuracy: 0.6417 - val_loss: 0.8675 - val_accuracy: 0.7224\n",
      "Epoch 30/100\n",
      "205/219 [===========================>..] - ETA: 0s - loss: 1.0411 - accuracy: 0.6488\n",
      "Epoch 30: val_loss did not improve from 0.86745\n",
      "219/219 [==============================] - 1s 3ms/step - loss: 1.0455 - accuracy: 0.6464 - val_loss: 0.8819 - val_accuracy: 0.7172\n",
      "Epoch 31/100\n",
      "201/219 [==========================>...] - ETA: 0s - loss: 1.0495 - accuracy: 0.6421\n",
      "Epoch 31: val_loss improved from 0.86745 to 0.84007, saving model to saved_models/audio_classification.hdf5\n",
      "219/219 [==============================] - 1s 3ms/step - loss: 1.0465 - accuracy: 0.6429 - val_loss: 0.8401 - val_accuracy: 0.7418\n",
      "Epoch 32/100\n",
      "212/219 [============================>.] - ETA: 0s - loss: 1.0308 - accuracy: 0.6504\n",
      "Epoch 32: val_loss did not improve from 0.84007\n",
      "219/219 [==============================] - 1s 3ms/step - loss: 1.0307 - accuracy: 0.6495 - val_loss: 0.8615 - val_accuracy: 0.7270\n",
      "Epoch 33/100\n",
      "209/219 [===========================>..] - ETA: 0s - loss: 1.0074 - accuracy: 0.6518\n",
      "Epoch 33: val_loss improved from 0.84007 to 0.82058, saving model to saved_models/audio_classification.hdf5\n",
      "219/219 [==============================] - 1s 3ms/step - loss: 1.0061 - accuracy: 0.6524 - val_loss: 0.8206 - val_accuracy: 0.7384\n",
      "Epoch 34/100\n",
      "213/219 [============================>.] - ETA: 0s - loss: 1.0300 - accuracy: 0.6442\n",
      "Epoch 34: val_loss did not improve from 0.82058\n",
      "219/219 [==============================] - 1s 3ms/step - loss: 1.0282 - accuracy: 0.6452 - val_loss: 0.8436 - val_accuracy: 0.7350\n",
      "Epoch 35/100\n",
      "208/219 [===========================>..] - ETA: 0s - loss: 0.9994 - accuracy: 0.6549\n",
      "Epoch 35: val_loss did not improve from 0.82058\n",
      "219/219 [==============================] - 1s 3ms/step - loss: 0.9946 - accuracy: 0.6577 - val_loss: 0.8324 - val_accuracy: 0.7453\n",
      "Epoch 36/100\n",
      "208/219 [===========================>..] - ETA: 0s - loss: 0.9993 - accuracy: 0.6514\n",
      "Epoch 36: val_loss improved from 0.82058 to 0.80934, saving model to saved_models/audio_classification.hdf5\n",
      "219/219 [==============================] - 1s 3ms/step - loss: 0.9993 - accuracy: 0.6515 - val_loss: 0.8093 - val_accuracy: 0.7464\n",
      "Epoch 37/100\n",
      "207/219 [===========================>..] - ETA: 0s - loss: 0.9814 - accuracy: 0.6573\n",
      "Epoch 37: val_loss improved from 0.80934 to 0.80246, saving model to saved_models/audio_classification.hdf5\n",
      "219/219 [==============================] - 1s 3ms/step - loss: 0.9853 - accuracy: 0.6555 - val_loss: 0.8025 - val_accuracy: 0.7470\n",
      "Epoch 38/100\n",
      "207/219 [===========================>..] - ETA: 0s - loss: 0.9738 - accuracy: 0.6643\n",
      "Epoch 38: val_loss did not improve from 0.80246\n",
      "219/219 [==============================] - 1s 3ms/step - loss: 0.9694 - accuracy: 0.6673 - val_loss: 0.8063 - val_accuracy: 0.7476\n",
      "Epoch 39/100\n",
      "207/219 [===========================>..] - ETA: 0s - loss: 0.9830 - accuracy: 0.6623\n",
      "Epoch 39: val_loss improved from 0.80246 to 0.79719, saving model to saved_models/audio_classification.hdf5\n",
      "219/219 [==============================] - 1s 4ms/step - loss: 0.9846 - accuracy: 0.6628 - val_loss: 0.7972 - val_accuracy: 0.7396\n",
      "Epoch 40/100\n",
      "212/219 [============================>.] - ETA: 0s - loss: 0.9706 - accuracy: 0.6688\n",
      "Epoch 40: val_loss improved from 0.79719 to 0.78058, saving model to saved_models/audio_classification.hdf5\n",
      "219/219 [==============================] - 1s 4ms/step - loss: 0.9695 - accuracy: 0.6693 - val_loss: 0.7806 - val_accuracy: 0.7596\n",
      "Epoch 41/100\n",
      "214/219 [============================>.] - ETA: 0s - loss: 0.9597 - accuracy: 0.6746\n",
      "Epoch 41: val_loss did not improve from 0.78058\n",
      "219/219 [==============================] - 1s 3ms/step - loss: 0.9618 - accuracy: 0.6743 - val_loss: 0.8016 - val_accuracy: 0.7481\n",
      "Epoch 42/100\n",
      "208/219 [===========================>..] - ETA: 0s - loss: 0.9794 - accuracy: 0.6645\n",
      "Epoch 42: val_loss did not improve from 0.78058\n",
      "219/219 [==============================] - 1s 3ms/step - loss: 0.9780 - accuracy: 0.6646 - val_loss: 0.8103 - val_accuracy: 0.7447\n",
      "Epoch 43/100\n",
      "199/219 [==========================>...] - ETA: 0s - loss: 0.9476 - accuracy: 0.6715\n",
      "Epoch 43: val_loss improved from 0.78058 to 0.77178, saving model to saved_models/audio_classification.hdf5\n",
      "219/219 [==============================] - 1s 3ms/step - loss: 0.9463 - accuracy: 0.6713 - val_loss: 0.7718 - val_accuracy: 0.7607\n",
      "Epoch 44/100\n",
      "217/219 [============================>.] - ETA: 0s - loss: 0.9545 - accuracy: 0.6727\n",
      "Epoch 44: val_loss improved from 0.77178 to 0.76613, saving model to saved_models/audio_classification.hdf5\n",
      "219/219 [==============================] - 1s 3ms/step - loss: 0.9547 - accuracy: 0.6724 - val_loss: 0.7661 - val_accuracy: 0.7630\n",
      "Epoch 45/100\n",
      "208/219 [===========================>..] - ETA: 0s - loss: 0.9224 - accuracy: 0.6825\n",
      "Epoch 45: val_loss did not improve from 0.76613\n",
      "219/219 [==============================] - 1s 3ms/step - loss: 0.9251 - accuracy: 0.6815 - val_loss: 0.7680 - val_accuracy: 0.7596\n",
      "Epoch 46/100\n",
      "218/219 [============================>.] - ETA: 0s - loss: 0.9427 - accuracy: 0.6786\n",
      "Epoch 46: val_loss improved from 0.76613 to 0.75486, saving model to saved_models/audio_classification.hdf5\n",
      "219/219 [==============================] - 1s 3ms/step - loss: 0.9425 - accuracy: 0.6786 - val_loss: 0.7549 - val_accuracy: 0.7607\n",
      "Epoch 47/100\n",
      "213/219 [============================>.] - ETA: 0s - loss: 0.9403 - accuracy: 0.6784\n",
      "Epoch 47: val_loss did not improve from 0.75486\n",
      "219/219 [==============================] - 1s 3ms/step - loss: 0.9360 - accuracy: 0.6787 - val_loss: 0.7584 - val_accuracy: 0.7659\n",
      "Epoch 48/100\n",
      "211/219 [===========================>..] - ETA: 0s - loss: 0.9313 - accuracy: 0.6762\n",
      "Epoch 48: val_loss improved from 0.75486 to 0.74989, saving model to saved_models/audio_classification.hdf5\n",
      "219/219 [==============================] - 1s 3ms/step - loss: 0.9332 - accuracy: 0.6752 - val_loss: 0.7499 - val_accuracy: 0.7665\n",
      "Epoch 49/100\n",
      "217/219 [============================>.] - ETA: 0s - loss: 0.9362 - accuracy: 0.6804\n",
      "Epoch 49: val_loss did not improve from 0.74989\n",
      "219/219 [==============================] - 1s 3ms/step - loss: 0.9359 - accuracy: 0.6812 - val_loss: 0.7531 - val_accuracy: 0.7613\n",
      "Epoch 50/100\n",
      "216/219 [============================>.] - ETA: 0s - loss: 0.9372 - accuracy: 0.6753\n",
      "Epoch 50: val_loss did not improve from 0.74989\n",
      "219/219 [==============================] - 1s 3ms/step - loss: 0.9361 - accuracy: 0.6762 - val_loss: 0.7735 - val_accuracy: 0.7699\n",
      "Epoch 51/100\n",
      "216/219 [============================>.] - ETA: 0s - loss: 0.9254 - accuracy: 0.6814\n",
      "Epoch 51: val_loss did not improve from 0.74989\n",
      "219/219 [==============================] - 1s 3ms/step - loss: 0.9260 - accuracy: 0.6817 - val_loss: 0.7576 - val_accuracy: 0.7579\n",
      "Epoch 52/100\n",
      "198/219 [==========================>...] - ETA: 0s - loss: 0.9522 - accuracy: 0.6783\n",
      "Epoch 52: val_loss improved from 0.74989 to 0.74723, saving model to saved_models/audio_classification.hdf5\n",
      "219/219 [==============================] - 1s 3ms/step - loss: 0.9458 - accuracy: 0.6803 - val_loss: 0.7472 - val_accuracy: 0.7642\n",
      "Epoch 53/100\n",
      "208/219 [===========================>..] - ETA: 0s - loss: 0.9276 - accuracy: 0.6792\n",
      "Epoch 53: val_loss did not improve from 0.74723\n",
      "219/219 [==============================] - 1s 3ms/step - loss: 0.9240 - accuracy: 0.6802 - val_loss: 0.7617 - val_accuracy: 0.7499\n"
     ]
    },
    {
     "name": "stdout",
     "output_type": "stream",
     "text": [
      "Epoch 54/100\n",
      "203/219 [==========================>...] - ETA: 0s - loss: 0.9029 - accuracy: 0.6890\n",
      "Epoch 54: val_loss improved from 0.74723 to 0.72757, saving model to saved_models/audio_classification.hdf5\n",
      "219/219 [==============================] - 1s 3ms/step - loss: 0.8988 - accuracy: 0.6901 - val_loss: 0.7276 - val_accuracy: 0.7710\n",
      "Epoch 55/100\n",
      "212/219 [============================>.] - ETA: 0s - loss: 0.9099 - accuracy: 0.6868\n",
      "Epoch 55: val_loss did not improve from 0.72757\n",
      "219/219 [==============================] - 1s 3ms/step - loss: 0.9111 - accuracy: 0.6876 - val_loss: 0.7620 - val_accuracy: 0.7504\n",
      "Epoch 56/100\n",
      "215/219 [============================>.] - ETA: 0s - loss: 0.8956 - accuracy: 0.6904\n",
      "Epoch 56: val_loss did not improve from 0.72757\n",
      "219/219 [==============================] - 1s 3ms/step - loss: 0.8944 - accuracy: 0.6911 - val_loss: 0.7347 - val_accuracy: 0.7630\n",
      "Epoch 57/100\n",
      "212/219 [============================>.] - ETA: 0s - loss: 0.9025 - accuracy: 0.6913\n",
      "Epoch 57: val_loss did not improve from 0.72757\n",
      "219/219 [==============================] - 1s 3ms/step - loss: 0.9018 - accuracy: 0.6913 - val_loss: 0.7533 - val_accuracy: 0.7573\n",
      "Epoch 58/100\n",
      "214/219 [============================>.] - ETA: 0s - loss: 0.9022 - accuracy: 0.6977\n",
      "Epoch 58: val_loss did not improve from 0.72757\n",
      "219/219 [==============================] - 1s 3ms/step - loss: 0.9013 - accuracy: 0.6971 - val_loss: 0.7730 - val_accuracy: 0.7539\n",
      "Epoch 59/100\n",
      "216/219 [============================>.] - ETA: 0s - loss: 0.9011 - accuracy: 0.6918\n",
      "Epoch 59: val_loss did not improve from 0.72757\n",
      "219/219 [==============================] - 1s 3ms/step - loss: 0.9013 - accuracy: 0.6913 - val_loss: 0.7377 - val_accuracy: 0.7636\n",
      "Epoch 60/100\n",
      "218/219 [============================>.] - ETA: 0s - loss: 0.8998 - accuracy: 0.6899\n",
      "Epoch 60: val_loss did not improve from 0.72757\n",
      "219/219 [==============================] - 1s 3ms/step - loss: 0.8992 - accuracy: 0.6901 - val_loss: 0.7386 - val_accuracy: 0.7607\n",
      "Epoch 61/100\n",
      "216/219 [============================>.] - ETA: 0s - loss: 0.9186 - accuracy: 0.6874\n",
      "Epoch 61: val_loss did not improve from 0.72757\n",
      "219/219 [==============================] - 1s 3ms/step - loss: 0.9187 - accuracy: 0.6869 - val_loss: 0.7312 - val_accuracy: 0.7699\n",
      "Epoch 62/100\n",
      "219/219 [==============================] - ETA: 0s - loss: 0.8965 - accuracy: 0.6953\n",
      "Epoch 62: val_loss improved from 0.72757 to 0.71677, saving model to saved_models/audio_classification.hdf5\n",
      "219/219 [==============================] - 1s 3ms/step - loss: 0.8965 - accuracy: 0.6953 - val_loss: 0.7168 - val_accuracy: 0.7853\n",
      "Epoch 63/100\n",
      "212/219 [============================>.] - ETA: 0s - loss: 0.8834 - accuracy: 0.6918\n",
      "Epoch 63: val_loss did not improve from 0.71677\n",
      "219/219 [==============================] - 1s 3ms/step - loss: 0.8830 - accuracy: 0.6919 - val_loss: 0.7175 - val_accuracy: 0.7544\n",
      "Epoch 64/100\n",
      "201/219 [==========================>...] - ETA: 0s - loss: 0.8980 - accuracy: 0.6894\n",
      "Epoch 64: val_loss did not improve from 0.71677\n",
      "219/219 [==============================] - 1s 3ms/step - loss: 0.8924 - accuracy: 0.6895 - val_loss: 0.7197 - val_accuracy: 0.7768\n",
      "Epoch 65/100\n",
      "214/219 [============================>.] - ETA: 0s - loss: 0.8718 - accuracy: 0.6955\n",
      "Epoch 65: val_loss did not improve from 0.71677\n",
      "219/219 [==============================] - 1s 3ms/step - loss: 0.8732 - accuracy: 0.6956 - val_loss: 0.7210 - val_accuracy: 0.7676\n",
      "Epoch 66/100\n",
      "214/219 [============================>.] - ETA: 0s - loss: 0.8928 - accuracy: 0.6955\n",
      "Epoch 66: val_loss improved from 0.71677 to 0.70693, saving model to saved_models/audio_classification.hdf5\n",
      "219/219 [==============================] - 1s 3ms/step - loss: 0.8884 - accuracy: 0.6976 - val_loss: 0.7069 - val_accuracy: 0.7733\n",
      "Epoch 67/100\n",
      "212/219 [============================>.] - ETA: 0s - loss: 0.8773 - accuracy: 0.6963\n",
      "Epoch 67: val_loss did not improve from 0.70693\n",
      "219/219 [==============================] - 1s 3ms/step - loss: 0.8718 - accuracy: 0.6982 - val_loss: 0.7147 - val_accuracy: 0.7602\n",
      "Epoch 68/100\n",
      "218/219 [============================>.] - ETA: 0s - loss: 0.8945 - accuracy: 0.6983\n",
      "Epoch 68: val_loss improved from 0.70693 to 0.70003, saving model to saved_models/audio_classification.hdf5\n",
      "219/219 [==============================] - 1s 3ms/step - loss: 0.8945 - accuracy: 0.6982 - val_loss: 0.7000 - val_accuracy: 0.7699\n",
      "Epoch 69/100\n",
      "211/219 [===========================>..] - ETA: 0s - loss: 0.8940 - accuracy: 0.6876\n",
      "Epoch 69: val_loss did not improve from 0.70003\n",
      "219/219 [==============================] - 1s 3ms/step - loss: 0.8887 - accuracy: 0.6898 - val_loss: 0.7130 - val_accuracy: 0.7762\n",
      "Epoch 70/100\n",
      "207/219 [===========================>..] - ETA: 0s - loss: 0.8623 - accuracy: 0.7020\n",
      "Epoch 70: val_loss did not improve from 0.70003\n",
      "219/219 [==============================] - 1s 3ms/step - loss: 0.8619 - accuracy: 0.7026 - val_loss: 0.7164 - val_accuracy: 0.7716\n",
      "Epoch 71/100\n",
      "198/219 [==========================>...] - ETA: 0s - loss: 0.8739 - accuracy: 0.7075\n",
      "Epoch 71: val_loss did not improve from 0.70003\n",
      "219/219 [==============================] - 1s 3ms/step - loss: 0.8699 - accuracy: 0.7081 - val_loss: 0.7202 - val_accuracy: 0.7733\n",
      "Epoch 72/100\n",
      "199/219 [==========================>...] - ETA: 0s - loss: 0.8491 - accuracy: 0.7024\n",
      "Epoch 72: val_loss did not improve from 0.70003\n",
      "219/219 [==============================] - 1s 3ms/step - loss: 0.8613 - accuracy: 0.6976 - val_loss: 0.7310 - val_accuracy: 0.7647\n",
      "Epoch 73/100\n",
      "214/219 [============================>.] - ETA: 0s - loss: 0.8633 - accuracy: 0.6996\n",
      "Epoch 73: val_loss did not improve from 0.70003\n",
      "219/219 [==============================] - 1s 3ms/step - loss: 0.8677 - accuracy: 0.6972 - val_loss: 0.7007 - val_accuracy: 0.7676\n",
      "Epoch 74/100\n",
      "218/219 [============================>.] - ETA: 0s - loss: 0.8721 - accuracy: 0.7031\n",
      "Epoch 74: val_loss did not improve from 0.70003\n",
      "219/219 [==============================] - 1s 3ms/step - loss: 0.8720 - accuracy: 0.7032 - val_loss: 0.7130 - val_accuracy: 0.7687\n",
      "Epoch 75/100\n",
      "199/219 [==========================>...] - ETA: 0s - loss: 0.8605 - accuracy: 0.7001\n",
      "Epoch 75: val_loss did not improve from 0.70003\n",
      "219/219 [==============================] - 1s 3ms/step - loss: 0.8638 - accuracy: 0.7001 - val_loss: 0.7253 - val_accuracy: 0.7682\n",
      "Epoch 76/100\n",
      "202/219 [==========================>...] - ETA: 0s - loss: 0.8441 - accuracy: 0.7064\n",
      "Epoch 76: val_loss did not improve from 0.70003\n",
      "219/219 [==============================] - 1s 3ms/step - loss: 0.8525 - accuracy: 0.7051 - val_loss: 0.7237 - val_accuracy: 0.7722\n",
      "Epoch 77/100\n",
      "216/219 [============================>.] - ETA: 0s - loss: 0.8744 - accuracy: 0.6982\n",
      "Epoch 77: val_loss did not improve from 0.70003\n",
      "219/219 [==============================] - 1s 3ms/step - loss: 0.8766 - accuracy: 0.6975 - val_loss: 0.7183 - val_accuracy: 0.7779\n",
      "Epoch 78/100\n",
      "206/219 [===========================>..] - ETA: 0s - loss: 0.8573 - accuracy: 0.7028\n",
      "Epoch 78: val_loss did not improve from 0.70003\n",
      "219/219 [==============================] - 1s 3ms/step - loss: 0.8572 - accuracy: 0.7024 - val_loss: 0.7148 - val_accuracy: 0.7768\n",
      "Epoch 79/100\n",
      "213/219 [============================>.] - ETA: 0s - loss: 0.8572 - accuracy: 0.7010\n",
      "Epoch 79: val_loss did not improve from 0.70003\n",
      "219/219 [==============================] - 1s 3ms/step - loss: 0.8563 - accuracy: 0.7016 - val_loss: 0.7202 - val_accuracy: 0.7796\n",
      "Epoch 80/100\n",
      "213/219 [============================>.] - ETA: 0s - loss: 0.8518 - accuracy: 0.7000\n",
      "Epoch 80: val_loss improved from 0.70003 to 0.69329, saving model to saved_models/audio_classification.hdf5\n",
      "219/219 [==============================] - 1s 3ms/step - loss: 0.8536 - accuracy: 0.6992 - val_loss: 0.6933 - val_accuracy: 0.7785\n",
      "Epoch 81/100\n",
      "207/219 [===========================>..] - ETA: 0s - loss: 0.8566 - accuracy: 0.7020\n",
      "Epoch 81: val_loss did not improve from 0.69329\n",
      "219/219 [==============================] - 1s 3ms/step - loss: 0.8588 - accuracy: 0.7009 - val_loss: 0.7136 - val_accuracy: 0.7716\n",
      "Epoch 82/100\n",
      "218/219 [============================>.] - ETA: 0s - loss: 0.8270 - accuracy: 0.7137\n",
      "Epoch 82: val_loss improved from 0.69329 to 0.69006, saving model to saved_models/audio_classification.hdf5\n"
     ]
    },
    {
     "name": "stdout",
     "output_type": "stream",
     "text": [
      "219/219 [==============================] - 1s 3ms/step - loss: 0.8270 - accuracy: 0.7137 - val_loss: 0.6901 - val_accuracy: 0.7722\n",
      "Epoch 83/100\n",
      "212/219 [============================>.] - ETA: 0s - loss: 0.8614 - accuracy: 0.6999\n",
      "Epoch 83: val_loss did not improve from 0.69006\n",
      "219/219 [==============================] - 1s 3ms/step - loss: 0.8620 - accuracy: 0.6994 - val_loss: 0.6967 - val_accuracy: 0.7848\n",
      "Epoch 84/100\n",
      "216/219 [============================>.] - ETA: 0s - loss: 0.8694 - accuracy: 0.7066\n",
      "Epoch 84: val_loss did not improve from 0.69006\n",
      "219/219 [==============================] - 1s 3ms/step - loss: 0.8663 - accuracy: 0.7074 - val_loss: 0.7172 - val_accuracy: 0.7624\n",
      "Epoch 85/100\n",
      "216/219 [============================>.] - ETA: 0s - loss: 0.8444 - accuracy: 0.7078\n",
      "Epoch 85: val_loss did not improve from 0.69006\n",
      "219/219 [==============================] - 1s 3ms/step - loss: 0.8439 - accuracy: 0.7071 - val_loss: 0.7000 - val_accuracy: 0.7710\n",
      "Epoch 86/100\n",
      "205/219 [===========================>..] - ETA: 0s - loss: 0.8552 - accuracy: 0.7079\n",
      "Epoch 86: val_loss did not improve from 0.69006\n",
      "219/219 [==============================] - 1s 3ms/step - loss: 0.8581 - accuracy: 0.7077 - val_loss: 0.7040 - val_accuracy: 0.7756\n",
      "Epoch 87/100\n",
      "217/219 [============================>.] - ETA: 0s - loss: 0.8390 - accuracy: 0.7081\n",
      "Epoch 87: val_loss improved from 0.69006 to 0.68310, saving model to saved_models/audio_classification.hdf5\n",
      "219/219 [==============================] - 1s 3ms/step - loss: 0.8389 - accuracy: 0.7075 - val_loss: 0.6831 - val_accuracy: 0.7745\n",
      "Epoch 88/100\n",
      "214/219 [============================>.] - ETA: 0s - loss: 0.8694 - accuracy: 0.7017\n",
      "Epoch 88: val_loss did not improve from 0.68310\n",
      "219/219 [==============================] - 1s 3ms/step - loss: 0.8708 - accuracy: 0.7012 - val_loss: 0.7237 - val_accuracy: 0.7579\n",
      "Epoch 89/100\n",
      "216/219 [============================>.] - ETA: 0s - loss: 0.8432 - accuracy: 0.7054\n",
      "Epoch 89: val_loss did not improve from 0.68310\n",
      "219/219 [==============================] - 1s 3ms/step - loss: 0.8450 - accuracy: 0.7049 - val_loss: 0.6946 - val_accuracy: 0.7911\n",
      "Epoch 90/100\n",
      "219/219 [==============================] - ETA: 0s - loss: 0.8434 - accuracy: 0.7062\n",
      "Epoch 90: val_loss did not improve from 0.68310\n",
      "219/219 [==============================] - 1s 3ms/step - loss: 0.8434 - accuracy: 0.7062 - val_loss: 0.6905 - val_accuracy: 0.7790\n",
      "Epoch 91/100\n",
      "217/219 [============================>.] - ETA: 0s - loss: 0.8351 - accuracy: 0.7088\n",
      "Epoch 91: val_loss improved from 0.68310 to 0.68038, saving model to saved_models/audio_classification.hdf5\n",
      "219/219 [==============================] - 1s 3ms/step - loss: 0.8346 - accuracy: 0.7088 - val_loss: 0.6804 - val_accuracy: 0.7790\n",
      "Epoch 92/100\n",
      "215/219 [============================>.] - ETA: 0s - loss: 0.8726 - accuracy: 0.7012\n",
      "Epoch 92: val_loss did not improve from 0.68038\n",
      "219/219 [==============================] - 1s 3ms/step - loss: 0.8723 - accuracy: 0.7015 - val_loss: 0.6916 - val_accuracy: 0.7819\n",
      "Epoch 93/100\n",
      "199/219 [==========================>...] - ETA: 0s - loss: 0.8504 - accuracy: 0.7048\n",
      "Epoch 93: val_loss did not improve from 0.68038\n",
      "219/219 [==============================] - 1s 3ms/step - loss: 0.8535 - accuracy: 0.7047 - val_loss: 0.6946 - val_accuracy: 0.7888\n",
      "Epoch 94/100\n",
      "211/219 [===========================>..] - ETA: 0s - loss: 0.8400 - accuracy: 0.7118\n",
      "Epoch 94: val_loss improved from 0.68038 to 0.67545, saving model to saved_models/audio_classification.hdf5\n",
      "219/219 [==============================] - 1s 3ms/step - loss: 0.8403 - accuracy: 0.7118 - val_loss: 0.6754 - val_accuracy: 0.7733\n",
      "Epoch 95/100\n",
      "215/219 [============================>.] - ETA: 0s - loss: 0.8347 - accuracy: 0.7092\n",
      "Epoch 95: val_loss improved from 0.67545 to 0.67263, saving model to saved_models/audio_classification.hdf5\n",
      "219/219 [==============================] - 1s 3ms/step - loss: 0.8329 - accuracy: 0.7099 - val_loss: 0.6726 - val_accuracy: 0.7779\n",
      "Epoch 96/100\n",
      "216/219 [============================>.] - ETA: 0s - loss: 0.8282 - accuracy: 0.7133\n",
      "Epoch 96: val_loss did not improve from 0.67263\n",
      "219/219 [==============================] - 1s 3ms/step - loss: 0.8266 - accuracy: 0.7138 - val_loss: 0.6881 - val_accuracy: 0.7859\n",
      "Epoch 97/100\n",
      "215/219 [============================>.] - ETA: 0s - loss: 0.8383 - accuracy: 0.7113\n",
      "Epoch 97: val_loss did not improve from 0.67263\n",
      "219/219 [==============================] - 1s 3ms/step - loss: 0.8373 - accuracy: 0.7118 - val_loss: 0.7003 - val_accuracy: 0.7790\n",
      "Epoch 98/100\n",
      "204/219 [==========================>...] - ETA: 0s - loss: 0.8257 - accuracy: 0.7117\n",
      "Epoch 98: val_loss did not improve from 0.67263\n",
      "219/219 [==============================] - 1s 3ms/step - loss: 0.8255 - accuracy: 0.7132 - val_loss: 0.7141 - val_accuracy: 0.7636\n",
      "Epoch 99/100\n",
      "207/219 [===========================>..] - ETA: 0s - loss: 0.8390 - accuracy: 0.7117\n",
      "Epoch 99: val_loss did not improve from 0.67263\n",
      "219/219 [==============================] - 1s 3ms/step - loss: 0.8454 - accuracy: 0.7110 - val_loss: 0.6730 - val_accuracy: 0.7945\n",
      "Epoch 100/100\n",
      "213/219 [============================>.] - ETA: 0s - loss: 0.8368 - accuracy: 0.7127\n",
      "Epoch 100: val_loss did not improve from 0.67263\n",
      "219/219 [==============================] - 1s 3ms/step - loss: 0.8338 - accuracy: 0.7140 - val_loss: 0.6917 - val_accuracy: 0.7848\n",
      "Training completed in time:  0:01:05.927360\n"
     ]
    }
   ],
   "source": [
    "from tensorflow.keras.callbacks import ModelCheckpoint\n",
    "from datetime import datetime \n",
    "\n",
    "num_epochs = 100\n",
    "num_batch_size = 32\n",
    "\n",
    "checkpointer = ModelCheckpoint(filepath='saved_models/audio_classification.hdf5', \n",
    "                               verbose=1, save_best_only=True)\n",
    "start = datetime.now()\n",
    "\n",
    "model.fit(X_train, y_train, batch_size=num_batch_size, epochs=num_epochs, validation_data=(X_test, y_test), callbacks=[checkpointer], verbose=1)\n",
    "\n",
    "\n",
    "duration = datetime.now() - start\n",
    "print(\"Training completed in time: \", duration)"
   ]
  },
  {
   "cell_type": "markdown",
   "id": "e3d7f1da",
   "metadata": {},
   "source": [
    "## ACCURACY"
   ]
  },
  {
   "cell_type": "code",
   "execution_count": 39,
   "id": "340013a2",
   "metadata": {},
   "outputs": [
    {
     "name": "stdout",
     "output_type": "stream",
     "text": [
      "0.7847738862037659\n"
     ]
    }
   ],
   "source": [
    "test_accuracy=model.evaluate(X_test,y_test,verbose=0)\n",
    "print(test_accuracy[1])"
   ]
  },
  {
   "cell_type": "code",
   "execution_count": 40,
   "id": "676798bc",
   "metadata": {},
   "outputs": [],
   "source": [
    "from sklearn.metrics import classification_report, confusion_matrix"
   ]
  },
  {
   "cell_type": "code",
   "execution_count": 41,
   "id": "1f9459a0",
   "metadata": {},
   "outputs": [
    {
     "name": "stdout",
     "output_type": "stream",
     "text": [
      "55/55 [==============================] - 0s 2ms/step\n"
     ]
    }
   ],
   "source": [
    "y_pred = model.predict(X_test)\n",
    "y_pred_classes = np.argmax(y_pred, axis=1) "
   ]
  },
  {
   "cell_type": "code",
   "execution_count": 42,
   "id": "b7d47cb1",
   "metadata": {},
   "outputs": [
    {
     "name": "stdout",
     "output_type": "stream",
     "text": [
      "Classification Report:\n",
      "              precision    recall  f1-score   support\n",
      "\n",
      "     Class 0       0.71      0.86      0.78       195\n",
      "     Class 1       1.00      0.64      0.78        91\n",
      "     Class 2       0.57      0.77      0.66       205\n",
      "     Class 3       0.76      0.79      0.77       182\n",
      "     Class 4       0.86      0.79      0.82       202\n",
      "     Class 5       0.88      0.85      0.86       216\n",
      "     Class 6       0.98      0.61      0.75        87\n",
      "     Class 7       0.83      0.91      0.87       187\n",
      "     Class 8       0.95      0.84      0.89       199\n",
      "     Class 9       0.69      0.61      0.64       183\n",
      "\n",
      "    accuracy                           0.78      1747\n",
      "   macro avg       0.82      0.77      0.78      1747\n",
      "weighted avg       0.80      0.78      0.79      1747\n",
      "\n"
     ]
    }
   ],
   "source": [
    "y_true_classes = np.argmax(y_test, axis=1)  \n",
    "\n",
    "class_names = [f'Class {i}' for i in range(10)] \n",
    "report = classification_report(y_true_classes, y_pred_classes, target_names=class_names)\n",
    "print(\"Classification Report:\")\n",
    "print(report)"
   ]
  },
  {
   "cell_type": "code",
   "execution_count": 44,
   "id": "7b28b993",
   "metadata": {},
   "outputs": [
    {
     "data": {
      "image/png": "[encoded data removed]",
      "text/plain": [
       "<Figure size 640x480 with 2 Axes>"
      ]
     },
     "metadata": {},
     "output_type": "display_data"
    }
   ],
   "source": [
    "cm = confusion_matrix(y_true_classes,y_pred_classes)\n",
    "plt.plot(figsize=(8,6))\n",
    "sns.heatmap(cm, annot=True, fmt='d', cmap='Blues')\n",
    "plt.xlabel('Predicted labels')\n",
    "plt.ylabel('True labels')\n",
    "plt.title('Confusion Matrix')\n",
    "plt.show()"
   ]
  },
  {
   "cell_type": "code",
   "execution_count": null,
   "id": "838d7493",
   "metadata": {},
   "outputs": [],
   "source": []
  }
 ],
 "metadata": {
  "kernelspec": {
   "display_name": "Python 3 (ipykernel)",
   "language": "python",
   "name": "python3"
  },
  "language_info": {
   "codemirror_mode": {
    "name": "ipython",
    "version": 3
   },
   "file_extension": ".py",
   "mimetype": "text/x-python",
   "name": "python",
   "nbconvert_exporter": "python",
   "pygments_lexer": "ipython3",
   "version": "3.11.5"
  }
 },
 "nbformat": 4,
 "nbformat_minor": 5
}
