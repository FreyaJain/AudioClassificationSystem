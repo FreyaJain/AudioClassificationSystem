{
 "cells": [
  {
   "cell_type": "code",
   "execution_count": 1,
   "id": "3a1f4b06",
   "metadata": {},
   "outputs": [],
   "source": [
    "#!pip install librosa"
   ]
  },
  {
   "cell_type": "code",
   "execution_count": 2,
   "id": "fa3a139d",
   "metadata": {
    "scrolled": true
   },
   "outputs": [],
   "source": [
    "#!pip install resampy"
   ]
  },
  {
   "cell_type": "code",
   "execution_count": 3,
   "id": "732c2c38",
   "metadata": {},
   "outputs": [],
   "source": [
    "import numpy as np\n",
    "import pandas as pd\n",
    "import matplotlib.pyplot as plt\n",
    "import seaborn as sns\n",
    "%matplotlib inline"
   ]
  },
  {
   "cell_type": "code",
   "execution_count": 4,
   "id": "437c1e28",
   "metadata": {},
   "outputs": [],
   "source": [
    "# to display audio wave\n",
    "\n",
    "import IPython.display as ipd\n",
    "import librosa\n",
    "import librosa.display"
   ]
  },
  {
   "cell_type": "markdown",
   "id": "cba3874c",
   "metadata": {},
   "source": [
    "# I. Introduction\n",
    "\n",
    "### Audio Classification of Urban Sounds\n",
    "\n",
    "<div class=\"alert alert-block alert-info\" style=\"font-size:15px; color:black; background-color:#e6f2ff; border-color: #3399ff\">\n",
    "    <aside>\n",
    "    <p>\n",
    "Audio classification is a crucial task in many applications, including speech recognition, music genre classification, and environmental sound classification. This project focuses on the classification of urban sounds using machine learning techniques. The dataset used for this task is the **UrbanSound8K dataset**, which contains 8732 labeled sound excerpts (<=4s) of urban sounds from 10 classes: air conditioner, car horn, children playing, dog bark, drilling, engine idling, gunshot, jackhammer, siren, and street music.\n",
    " </p>\n",
    "         <p>\n",
    "The goal of this project is to build a robust model that can accurately classify these urban sounds into their respective categories. To achieve this, we will extract relevant features from the audio data, use these features to train a machine learning model, and evaluate the model's performance.\n",
    " </p>\n",
    "\n",
    " </aside>\n",
    "</div>"
   ]
  },
  {
   "cell_type": "markdown",
   "id": "01493b2d",
   "metadata": {},
   "source": [
    "<!-- -->"
   ]
  },
  {
   "cell_type": "markdown",
   "id": "34985f76",
   "metadata": {},
   "source": [
    "# 1. Project Steps:"
   ]
  },
  {
   "cell_type": "markdown",
   "id": "19db04a5",
   "metadata": {},
   "source": [
    "<div class=\"steps\" style=\"font-size:15px; color:black; background-color:#F5F5F5;\">\n",
    "    <aside>\n",
    "<p>//    1. <b>Data Exploration and Visualization</b>  Loading the dataset and vizualizing the audio data</p>\n",
    "<p>// 2. <b>Audio Data Preprocessing</b> Loading audio files using Librosa and visualizing waveforms</p>\n",
    "<p>// 3. <b>Feature Extraction</b> Extracting Mel Frequency Cepstral Coefficients (MFCC) from audio data and defining a feature extraction function</p>\n",
    "<p>// 4. <b>Data Preparation</b> Iterating through audio files, extracting features, converting to DataFrame, splitting dataset, and encoding labels</p>\n",
    "<p>// 5. <b>Model Building</b> Defining and compiling a neural network model using TensorFlow/Keras</p>\n",
    "<p>// 6. <b>Model Training</b> Splitting data into training and testing sets, training the model, validating the model, and saving the best model</p>\n",
    "<p>// 7. <b>Model Evaluation</b> Evaluating the model's performance on the test set and printing the test accuracy</p>\n",
    "<p>// 8. <b>Model Prediction</b> Extracting features from a new audio sample, using the trained model to predict the class, and printing the predicted class</p>\n",
    " </aside>\n",
    "</div>"
   ]
  },
  {
   "cell_type": "markdown",
   "id": "98af1fa1",
   "metadata": {},
   "source": [
    "<!-- -->"
   ]
  },
  {
   "cell_type": "markdown",
   "id": "749703bb",
   "metadata": {},
   "source": [
    "# 2. About the Dataset"
   ]
  },
  {
   "cell_type": "markdown",
   "id": "0c79627a",
   "metadata": {},
   "source": [
    "The **UrbanSound8K** dataset is widely used for training and evaluating machine learning models for environmental sound classification.It is a collection of 8,732 labeled sound excerpts (≤4s) from urban environments, classified into 10 categories:"
   ]
  },
  {
   "cell_type": "markdown",
   "id": "1ace400b",
   "metadata": {},
   "source": [
    "<!-- -->"
   ]
  },
  {
   "cell_type": "markdown",
   "id": "76fe52ed",
   "metadata": {},
   "source": [
    "<!-- -->\n"
   ]
  },
  {
   "cell_type": "markdown",
   "id": "1fa902eb",
   "metadata": {},
   "source": [
    "| classId |       Class       | classId |       Class       |\n",
    "|---------|-------------------|---------|-------------------|\n",
    "|    0    | air_conditioner   |    5    | engine_idling     |\n",
    "|    1    | car_horn          |    6    | gun_shot          |\n",
    "|    2    | children_playing  |    7    | jackhammer        |\n",
    "|    3    | dog_bark          |    8    | siren             |\n",
    "|    4    | drilling          |    9    | street_music      |"
   ]
  },
  {
   "cell_type": "markdown",
   "id": "2f018117",
   "metadata": {},
   "source": [
    "The metadata file contains information about audio slices from the UrbanSound8K dataset, including file names, identifiers, temporal details (start and end times), salience, fold (cross-validation split), class IDs, and corresponding class labels for urban sound classification tasks."
   ]
  },
  {
   "cell_type": "markdown",
   "id": "c60bd22b",
   "metadata": {},
   "source": [
    "\n",
    "| slice_file_name      | fsID   | start | end      | salience | fold | classID | class            |\n",
    "|----------------------|--------|-------|----------|----------|------|---------|------------------|\n",
    "| 100032-3-0-0.wav     | 100032 | 0.0   | 0.317551 | 1        | 5    | 3       | dog_bark         |\n",
    "| 100263-2-0-117.wav   | 100263 | 58.5  | 62.5     | 1        | 5    | 2       | children_playing |\n",
    "| 100263-2-0-121.wav   | 100263 | 60.5  | 64.5     | 1        | 5    | 2       | children_playing |\n",
    "| 100263-2-0-126.wav   | 100263 | 63.0  | 67.0     | 1        | 5    | 2       | children_playing |\n",
    "| 100263-2-0-137.wav   | 100263 | 68.5  | 72.5     | 1        | 5    | 2       | children_playing |"
   ]
  },
  {
   "cell_type": "markdown",
   "id": "dbe7bfd3",
   "metadata": {},
   "source": [
    "# II. EDA"
   ]
  },
  {
   "cell_type": "markdown",
   "id": "ab6e98c0",
   "metadata": {},
   "source": [
    "Exploring a random audio sample `132016-9-0-6.wav` by printing the values of : \n",
    "* **Sample rate (sr)** : defines the number of samples per second taken from a analog signal to make adigital signal.\n",
    "* **Amplitude**  : a measure of how high or low the wave extends from the x axis"
   ]
  },
  {
   "cell_type": "code",
   "execution_count": 5,
   "id": "bf555b5e",
   "metadata": {},
   "outputs": [],
   "source": [
    "filename = '/Users/macos/Desktop/Drdo/Audio_Classification/UrbanSound8K/audio/fold1/132016-9-0-6.wav'"
   ]
  },
  {
   "cell_type": "code",
   "execution_count": 6,
   "id": "cdcbe697",
   "metadata": {},
   "outputs": [],
   "source": [
    "lib_audio_data, sample_rate = librosa.load(filename)"
   ]
  },
  {
   "cell_type": "code",
   "execution_count": 7,
   "id": "9ef4023a",
   "metadata": {},
   "outputs": [
    {
     "data": {
      "text/plain": [
       "array([-0.07869472, -0.11024831, -0.08400878, ..., -0.00586693,\n",
       "        0.00208374,  0.01869803], dtype=float32)"
      ]
     },
     "execution_count": 7,
     "metadata": {},
     "output_type": "execute_result"
    }
   ],
   "source": [
    "lib_audio_data"
   ]
  },
  {
   "cell_type": "code",
   "execution_count": 8,
   "id": "5aa0e233",
   "metadata": {},
   "outputs": [
    {
     "data": {
      "text/plain": [
       "22050"
      ]
     },
     "execution_count": 8,
     "metadata": {},
     "output_type": "execute_result"
    }
   ],
   "source": [
    "sample_rate"
   ]
  },
  {
   "cell_type": "code",
   "execution_count": 9,
   "id": "3818f406",
   "metadata": {},
   "outputs": [
    {
     "data": {
      "image/png": "[encoded data removed]",
      "text/plain": [
       "<Figure size 1200x500 with 1 Axes>"
      ]
     },
     "metadata": {},
     "output_type": "display_data"
    }
   ],
   "source": [
    "plt.figure(figsize=(12, 5))\n",
    "librosa.display.waveshow(lib_audio_data, sr=sample_rate)\n",
    "plt.title('Waveplot of Audio')\n",
    "plt.xlabel('Time (s)')\n",
    "plt.ylabel('Amplitude')\n",
    "plt.show()"
   ]
  },
  {
   "cell_type": "markdown",
   "id": "9bcd7724",
   "metadata": {},
   "source": [
    "# Extracting Feautures"
   ]
  },
  {
   "cell_type": "markdown",
   "id": "579edab3",
   "metadata": {},
   "source": [
    "<font size=\"4\">Mel Frequency Cepstral Coefficients (MFCC) </font> "
   ]
  },
  {
   "cell_type": "code",
   "execution_count": 10,
   "id": "a169641a",
   "metadata": {},
   "outputs": [
    {
     "name": "stdout",
     "output_type": "stream",
     "text": [
      "(40, 173)\n"
     ]
    }
   ],
   "source": [
    "mfcc = librosa.feature.mfcc(y=lib_audio_data,sr=sample_rate,n_mfcc=40)\n",
    "print(mfcc.shape)"
   ]
  },
  {
   "cell_type": "code",
   "execution_count": 11,
   "id": "4394c8bb",
   "metadata": {},
   "outputs": [],
   "source": [
    "audio_dataset_path='UrbanSound8K/audio/'"
   ]
  },
  {
   "cell_type": "code",
   "execution_count": 12,
   "id": "fa969021",
   "metadata": {},
   "outputs": [],
   "source": [
    "metadata = pd.read_csv('UrbanSound8K/metadata/UrbanSound8K.csv')"
   ]
  },
  {
   "cell_type": "code",
   "execution_count": 13,
   "id": "2e9b084f",
   "metadata": {},
   "outputs": [],
   "source": [
    "def features_extractor(file):\n",
    "    audio, sample_rate = librosa.load(file_name, res_type='kaiser_fast') \n",
    "    mfccs_features = librosa.feature.mfcc(y=audio, sr=sample_rate, n_mfcc=40)\n",
    "    mfccs_scaled_features = np.mean(mfccs_features.T,axis=0)\n",
    "    \n",
    "    return mfccs_scaled_features"
   ]
  },
  {
   "cell_type": "code",
   "execution_count": 14,
   "id": "1024815f",
   "metadata": {},
   "outputs": [
    {
     "name": "stderr",
     "output_type": "stream",
     "text": [
      "3555it [03:50, 16.36it/s]/Users/macos/anaconda3/lib/python3.11/site-packages/librosa/core/spectrum.py:266: UserWarning: n_fft=2048 is too large for input signal of length=1323\n",
      "  warnings.warn(\n",
      "8326it [09:04, 25.43it/s]/Users/macos/anaconda3/lib/python3.11/site-packages/librosa/core/spectrum.py:266: UserWarning: n_fft=2048 is too large for input signal of length=1103\n",
      "  warnings.warn(\n",
      "/Users/macos/anaconda3/lib/python3.11/site-packages/librosa/core/spectrum.py:266: UserWarning: n_fft=2048 is too large for input signal of length=1523\n",
      "  warnings.warn(\n",
      "8732it [09:27, 15.39it/s]\n"
     ]
    }
   ],
   "source": [
    "import numpy as np\n",
    "from tqdm import tqdm\n",
    "import os\n",
    "\n",
    "# Now we iterate through every audio file and extract features \n",
    "# using Mel-Frequency Cepstral Coefficients\n",
    "\n",
    "extracted_features=[]\n",
    "for index_num,row in tqdm(metadata.iterrows()):\n",
    "    file_name = os.path.join(os.path.abspath(audio_dataset_path),'fold'+str(row[\"fold\"])+'/',str(row[\"slice_file_name\"]))\n",
    "    final_class_labels=row[\"class\"]\n",
    "    data=features_extractor(file_name)\n",
    "    extracted_features.append([data,final_class_labels])"
   ]
  },
  {
   "cell_type": "code",
   "execution_count": 15,
   "id": "4eb45629",
   "metadata": {},
   "outputs": [
    {
     "data": {
      "text/html": [
       "<div>\n",
       "<style scoped>\n",
       "    .dataframe tbody tr th:only-of-type {\n",
       "        vertical-align: middle;\n",
       "    }\n",
       "\n",
       "    .dataframe tbody tr th {\n",
       "        vertical-align: top;\n",
       "    }\n",
       "\n",
       "    .dataframe thead th {\n",
       "        text-align: right;\n",
       "    }\n",
       "</style>\n",
       "<table border=\"1\" class=\"dataframe\">\n",
       "  <thead>\n",
       "    <tr style=\"text-align: right;\">\n",
       "      <th></th>\n",
       "      <th>feature</th>\n",
       "      <th>class</th>\n",
       "    </tr>\n",
       "  </thead>\n",
       "  <tbody>\n",
       "    <tr>\n",
       "      <th>0</th>\n",
       "      <td>[-217.35526, 70.22338, -130.38527, -53.282898,...</td>\n",
       "      <td>dog_bark</td>\n",
       "    </tr>\n",
       "    <tr>\n",
       "      <th>1</th>\n",
       "      <td>[-424.09818, 109.34077, -52.919525, 60.86475, ...</td>\n",
       "      <td>children_playing</td>\n",
       "    </tr>\n",
       "    <tr>\n",
       "      <th>2</th>\n",
       "      <td>[-458.79114, 121.38419, -46.52066, 52.00812, -...</td>\n",
       "      <td>children_playing</td>\n",
       "    </tr>\n",
       "    <tr>\n",
       "      <th>3</th>\n",
       "      <td>[-413.89984, 101.66373, -35.42945, 53.036358, ...</td>\n",
       "      <td>children_playing</td>\n",
       "    </tr>\n",
       "    <tr>\n",
       "      <th>4</th>\n",
       "      <td>[-446.60352, 113.68541, -52.402206, 60.302044,...</td>\n",
       "      <td>children_playing</td>\n",
       "    </tr>\n",
       "  </tbody>\n",
       "</table>\n",
       "</div>"
      ],
      "text/plain": [
       "                                             feature             class\n",
       "0  [-217.35526, 70.22338, -130.38527, -53.282898,...          dog_bark\n",
       "1  [-424.09818, 109.34077, -52.919525, 60.86475, ...  children_playing\n",
       "2  [-458.79114, 121.38419, -46.52066, 52.00812, -...  children_playing\n",
       "3  [-413.89984, 101.66373, -35.42945, 53.036358, ...  children_playing\n",
       "4  [-446.60352, 113.68541, -52.402206, 60.302044,...  children_playing"
      ]
     },
     "execution_count": 15,
     "metadata": {},
     "output_type": "execute_result"
    }
   ],
   "source": [
    "### converting extracted_features to Pandas dataframe\n",
    "extracted_features_df=pd.DataFrame(extracted_features,columns=['feature','class'])\n",
    "extracted_features_df.head()"
   ]
  },
  {
   "cell_type": "code",
   "execution_count": 16,
   "id": "92f578fe",
   "metadata": {},
   "outputs": [],
   "source": [
    "### Split the dataset into labels and target\n",
    "X=np.array(extracted_features_df['feature'].tolist())\n",
    "y=np.array(extracted_features_df['class'].tolist())"
   ]
  },
  {
   "cell_type": "code",
   "execution_count": 17,
   "id": "ee31f4fb",
   "metadata": {},
   "outputs": [
    {
     "data": {
      "text/plain": [
       "(8732, 40)"
      ]
     },
     "execution_count": 17,
     "metadata": {},
     "output_type": "execute_result"
    }
   ],
   "source": [
    "X.shape"
   ]
  },
  {
   "cell_type": "code",
   "execution_count": 18,
   "id": "f7cc20f6",
   "metadata": {},
   "outputs": [
    {
     "data": {
      "text/plain": [
       "array(['dog_bark', 'children_playing', 'children_playing', ...,\n",
       "       'car_horn', 'car_horn', 'car_horn'], dtype='<U16')"
      ]
     },
     "execution_count": 18,
     "metadata": {},
     "output_type": "execute_result"
    }
   ],
   "source": [
    "y"
   ]
  },
  {
   "cell_type": "code",
   "execution_count": 19,
   "id": "ba00f5b3",
   "metadata": {},
   "outputs": [
    {
     "name": "stderr",
     "output_type": "stream",
     "text": [
      "2024-07-11 09:26:51.614797: I tensorflow/core/platform/cpu_feature_guard.cc:182] This TensorFlow binary is optimized to use available CPU instructions in performance-critical operations.\n",
      "To enable the following instructions: AVX2 FMA, in other operations, rebuild TensorFlow with the appropriate compiler flags.\n"
     ]
    }
   ],
   "source": [
    "### Label Encoding\n",
    "\n",
    "from tensorflow.keras.utils import to_categorical\n",
    "from sklearn.preprocessing import LabelEncoder\n",
    "labelencoder=LabelEncoder()\n",
    "y=to_categorical(labelencoder.fit_transform(y))"
   ]
  },
  {
   "cell_type": "code",
   "execution_count": 20,
   "id": "5d2c4201",
   "metadata": {},
   "outputs": [
    {
     "data": {
      "text/plain": [
       "array([[0., 0., 0., ..., 0., 0., 0.],\n",
       "       [0., 0., 1., ..., 0., 0., 0.],\n",
       "       [0., 0., 1., ..., 0., 0., 0.],\n",
       "       ...,\n",
       "       [0., 1., 0., ..., 0., 0., 0.],\n",
       "       [0., 1., 0., ..., 0., 0., 0.],\n",
       "       [0., 1., 0., ..., 0., 0., 0.]], dtype=float32)"
      ]
     },
     "execution_count": 20,
     "metadata": {},
     "output_type": "execute_result"
    }
   ],
   "source": [
    "y"
   ]
  },
  {
   "cell_type": "code",
   "execution_count": 21,
   "id": "ae2c07b5",
   "metadata": {},
   "outputs": [],
   "source": [
    "### Train Test Split\n",
    "from sklearn.model_selection import train_test_split\n",
    "X_train,X_test,y_train,y_test=train_test_split(X,y,test_size=0.2,random_state=0)"
   ]
  },
  {
   "cell_type": "code",
   "execution_count": 22,
   "id": "ebb324f4",
   "metadata": {},
   "outputs": [
    {
     "data": {
      "text/plain": [
       "array([[-1.31104706e+02,  1.12505905e+02, -2.25746956e+01, ...,\n",
       "         3.24665213e+00, -1.36902380e+00,  2.75575471e+00],\n",
       "       [-1.36703424e+01,  9.10850830e+01, -7.79273319e+00, ...,\n",
       "        -3.25305080e+00, -5.27745295e+00, -1.55697155e+00],\n",
       "       [-4.98715439e+01,  2.65352815e-01, -2.05009365e+01, ...,\n",
       "         2.85459447e+00, -1.60920465e+00,  3.52480578e+00],\n",
       "       ...,\n",
       "       [-4.27012360e+02,  9.26230469e+01,  3.12939739e+00, ...,\n",
       "         7.42641091e-01,  7.33490884e-01,  7.11009145e-01],\n",
       "       [-1.45754608e+02,  1.36265778e+02, -3.35155182e+01, ...,\n",
       "         1.46811950e+00, -2.00917006e+00, -8.82181883e-01],\n",
       "       [-4.21031342e+02,  2.10654541e+02,  3.49066067e+00, ...,\n",
       "        -5.38886738e+00, -3.37136054e+00, -1.56651151e+00]], dtype=float32)"
      ]
     },
     "execution_count": 22,
     "metadata": {},
     "output_type": "execute_result"
    }
   ],
   "source": [
    "X_train"
   ]
  },
  {
   "cell_type": "code",
   "execution_count": 23,
   "id": "38f8f764",
   "metadata": {},
   "outputs": [
    {
     "data": {
      "text/plain": [
       "(6985, 40)"
      ]
     },
     "execution_count": 23,
     "metadata": {},
     "output_type": "execute_result"
    }
   ],
   "source": [
    "X_train.shape"
   ]
  },
  {
   "cell_type": "code",
   "execution_count": 24,
   "id": "aaf47214",
   "metadata": {},
   "outputs": [
    {
     "data": {
      "text/plain": [
       "array([[0., 0., 0., ..., 0., 0., 0.],\n",
       "       [0., 0., 1., ..., 0., 0., 0.],\n",
       "       [0., 0., 1., ..., 0., 0., 0.],\n",
       "       ...,\n",
       "       [0., 1., 0., ..., 0., 0., 0.],\n",
       "       [0., 1., 0., ..., 0., 0., 0.],\n",
       "       [0., 1., 0., ..., 0., 0., 0.]], dtype=float32)"
      ]
     },
     "execution_count": 24,
     "metadata": {},
     "output_type": "execute_result"
    }
   ],
   "source": [
    "y"
   ]
  },
  {
   "cell_type": "code",
   "execution_count": 25,
   "id": "0c954f18",
   "metadata": {},
   "outputs": [
    {
     "data": {
      "text/plain": [
       "(6985, 10)"
      ]
     },
     "execution_count": 25,
     "metadata": {},
     "output_type": "execute_result"
    }
   ],
   "source": [
    "y_train.shape"
   ]
  },
  {
   "cell_type": "code",
   "execution_count": 26,
   "id": "dac2117c",
   "metadata": {},
   "outputs": [
    {
     "data": {
      "text/plain": [
       "(1747, 10)"
      ]
     },
     "execution_count": 26,
     "metadata": {},
     "output_type": "execute_result"
    }
   ],
   "source": [
    "y_test.shape"
   ]
  },
  {
   "cell_type": "markdown",
   "id": "88e46157",
   "metadata": {},
   "source": [
    "# Model"
   ]
  },
  {
   "cell_type": "markdown",
   "id": "35daa510",
   "metadata": {},
   "source": [
    "## ANN"
   ]
  },
  {
   "cell_type": "code",
   "execution_count": 27,
   "id": "46285b2c",
   "metadata": {},
   "outputs": [],
   "source": [
    "import tensorflow as tf"
   ]
  },
  {
   "cell_type": "code",
   "execution_count": 28,
   "id": "24672157",
   "metadata": {},
   "outputs": [],
   "source": [
    "from tensorflow.keras.models import Sequential\n",
    "from tensorflow.keras.layers import Dense,Dropout,Activation,Flatten\n",
    "from tensorflow.keras.optimizers import Adam\n",
    "from sklearn import metrics"
   ]
  },
  {
   "cell_type": "code",
   "execution_count": 29,
   "id": "bae59552",
   "metadata": {},
   "outputs": [],
   "source": [
    "num_labels=y.shape[1]"
   ]
  },
  {
   "cell_type": "code",
   "execution_count": 30,
   "id": "3a35d547",
   "metadata": {},
   "outputs": [],
   "source": [
    "model=Sequential()\n",
    "###first layer\n",
    "model.add(Dense(100,input_shape=(40,)))\n",
    "model.add(Activation('relu'))\n",
    "model.add(Dropout(0.5))\n",
    "###second layer\n",
    "model.add(Dense(200))\n",
    "model.add(Activation('relu'))\n",
    "model.add(Dropout(0.5))\n",
    "###third layer\n",
    "model.add(Dense(100))\n",
    "model.add(Activation('relu'))\n",
    "model.add(Dropout(0.5))\n",
    "\n",
    "###final layer\n",
    "model.add(Dense(num_labels))\n",
    "model.add(Activation('softmax'))"
   ]
  },
  {
   "cell_type": "code",
   "execution_count": 31,
   "id": "09833362",
   "metadata": {},
   "outputs": [
    {
     "name": "stdout",
     "output_type": "stream",
     "text": [
      "Model: \"sequential\"\n",
      "_________________________________________________________________\n",
      " Layer (type)                Output Shape              Param #   \n",
      "=================================================================\n",
      " dense (Dense)               (None, 100)               4100      \n",
      "                                                                 \n",
      " activation (Activation)     (None, 100)               0         \n",
      "                                                                 \n",
      " dropout (Dropout)           (None, 100)               0         \n",
      "                                                                 \n",
      " dense_1 (Dense)             (None, 200)               20200     \n",
      "                                                                 \n",
      " activation_1 (Activation)   (None, 200)               0         \n",
      "                                                                 \n",
      " dropout_1 (Dropout)         (None, 200)               0         \n",
      "                                                                 \n",
      " dense_2 (Dense)             (None, 100)               20100     \n",
      "                                                                 \n",
      " activation_2 (Activation)   (None, 100)               0         \n",
      "                                                                 \n",
      " dropout_2 (Dropout)         (None, 100)               0         \n",
      "                                                                 \n",
      " dense_3 (Dense)             (None, 10)                1010      \n",
      "                                                                 \n",
      " activation_3 (Activation)   (None, 10)                0         \n",
      "                                                                 \n",
      "=================================================================\n",
      "Total params: 45410 (177.38 KB)\n",
      "Trainable params: 45410 (177.38 KB)\n",
      "Non-trainable params: 0 (0.00 Byte)\n",
      "_________________________________________________________________\n"
     ]
    }
   ],
   "source": [
    "model.summary()"
   ]
  },
  {
   "cell_type": "code",
   "execution_count": 32,
   "id": "90165fb6",
   "metadata": {},
   "outputs": [],
   "source": [
    "model.compile(loss='categorical_crossentropy',metrics=['accuracy'],optimizer='adam')"
   ]
  },
  {
   "cell_type": "code",
   "execution_count": null,
   "id": "398e51e3",
   "metadata": {},
   "outputs": [],
   "source": []
  },
  {
   "cell_type": "code",
   "execution_count": 33,
   "id": "ab21a50e",
   "metadata": {
    "scrolled": false
   },
   "outputs": [
    {
     "name": "stdout",
     "output_type": "stream",
     "text": [
      "Epoch 1/100\n",
      "208/219 [===========================>..] - ETA: 0s - loss: 9.4144 - accuracy: 0.1217 \n",
      "Epoch 1: val_loss improved from inf to 2.29045, saving model to saved_models/audio_classification.hdf5\n",
      "219/219 [==============================] - 2s 5ms/step - loss: 9.0972 - accuracy: 0.1223 - val_loss: 2.2905 - val_accuracy: 0.1362\n",
      "Epoch 2/100\n",
      " 30/219 [===>..........................] - ETA: 0s - loss: 2.6968 - accuracy: 0.1229"
     ]
    },
    {
     "name": "stderr",
     "output_type": "stream",
     "text": [
      "/Users/macos/anaconda3/lib/python3.11/site-packages/keras/src/engine/training.py:3103: UserWarning: You are saving your model as an HDF5 file via `model.save()`. This file format is considered legacy. We recommend using instead the native Keras format, e.g. `model.save('my_model.keras')`.\n",
      "  saving_api.save_model(\n"
     ]
    },
    {
     "name": "stdout",
     "output_type": "stream",
     "text": [
      "201/219 [==========================>...] - ETA: 0s - loss: 2.5089 - accuracy: 0.1314\n",
      "Epoch 2: val_loss improved from 2.29045 to 2.28096, saving model to saved_models/audio_classification.hdf5\n",
      "219/219 [==============================] - 1s 3ms/step - loss: 2.5008 - accuracy: 0.1331 - val_loss: 2.2810 - val_accuracy: 0.1191\n",
      "Epoch 3/100\n",
      "206/219 [===========================>..] - ETA: 0s - loss: 2.3417 - accuracy: 0.1314\n",
      "Epoch 3: val_loss improved from 2.28096 to 2.27051, saving model to saved_models/audio_classification.hdf5\n",
      "219/219 [==============================] - 1s 3ms/step - loss: 2.3381 - accuracy: 0.1316 - val_loss: 2.2705 - val_accuracy: 0.1191\n",
      "Epoch 4/100\n",
      "217/219 [============================>.] - ETA: 0s - loss: 2.2784 - accuracy: 0.1424\n",
      "Epoch 4: val_loss improved from 2.27051 to 2.22334, saving model to saved_models/audio_classification.hdf5\n",
      "219/219 [==============================] - 1s 3ms/step - loss: 2.2780 - accuracy: 0.1426 - val_loss: 2.2233 - val_accuracy: 0.1557\n",
      "Epoch 5/100\n",
      "216/219 [============================>.] - ETA: 0s - loss: 2.2509 - accuracy: 0.1570\n",
      "Epoch 5: val_loss improved from 2.22334 to 2.16424, saving model to saved_models/audio_classification.hdf5\n",
      "219/219 [==============================] - 1s 3ms/step - loss: 2.2510 - accuracy: 0.1575 - val_loss: 2.1642 - val_accuracy: 0.2026\n",
      "Epoch 6/100\n",
      "213/219 [============================>.] - ETA: 0s - loss: 2.2014 - accuracy: 0.1824\n",
      "Epoch 6: val_loss improved from 2.16424 to 2.10433, saving model to saved_models/audio_classification.hdf5\n",
      "219/219 [==============================] - 1s 3ms/step - loss: 2.2010 - accuracy: 0.1814 - val_loss: 2.1043 - val_accuracy: 0.2129\n",
      "Epoch 7/100\n",
      "207/219 [===========================>..] - ETA: 0s - loss: 2.1466 - accuracy: 0.1884\n",
      "Epoch 7: val_loss improved from 2.10433 to 2.05730, saving model to saved_models/audio_classification.hdf5\n",
      "219/219 [==============================] - 1s 3ms/step - loss: 2.1460 - accuracy: 0.1895 - val_loss: 2.0573 - val_accuracy: 0.2444\n",
      "Epoch 8/100\n",
      "203/219 [==========================>...] - ETA: 0s - loss: 2.0893 - accuracy: 0.2195\n",
      "Epoch 8: val_loss improved from 2.05730 to 1.97043, saving model to saved_models/audio_classification.hdf5\n",
      "219/219 [==============================] - 1s 3ms/step - loss: 2.0915 - accuracy: 0.2178 - val_loss: 1.9704 - val_accuracy: 0.2885\n",
      "Epoch 9/100\n",
      "213/219 [============================>.] - ETA: 0s - loss: 2.0677 - accuracy: 0.2347\n",
      "Epoch 9: val_loss improved from 1.97043 to 1.88714, saving model to saved_models/audio_classification.hdf5\n",
      "219/219 [==============================] - 1s 3ms/step - loss: 2.0645 - accuracy: 0.2346 - val_loss: 1.8871 - val_accuracy: 0.3274\n",
      "Epoch 10/100\n",
      "206/219 [===========================>..] - ETA: 0s - loss: 1.9903 - accuracy: 0.2593\n",
      "Epoch 10: val_loss improved from 1.88714 to 1.79526, saving model to saved_models/audio_classification.hdf5\n",
      "219/219 [==============================] - 1s 3ms/step - loss: 1.9877 - accuracy: 0.2596 - val_loss: 1.7953 - val_accuracy: 0.3669\n",
      "Epoch 11/100\n",
      "202/219 [==========================>...] - ETA: 0s - loss: 1.9334 - accuracy: 0.2833\n",
      "Epoch 11: val_loss improved from 1.79526 to 1.74507, saving model to saved_models/audio_classification.hdf5\n",
      "219/219 [==============================] - 1s 4ms/step - loss: 1.9289 - accuracy: 0.2860 - val_loss: 1.7451 - val_accuracy: 0.3864\n",
      "Epoch 12/100\n",
      "205/219 [===========================>..] - ETA: 0s - loss: 1.8749 - accuracy: 0.3055\n",
      "Epoch 12: val_loss improved from 1.74507 to 1.70088, saving model to saved_models/audio_classification.hdf5\n",
      "219/219 [==============================] - 1s 3ms/step - loss: 1.8775 - accuracy: 0.3051 - val_loss: 1.7009 - val_accuracy: 0.4282\n",
      "Epoch 13/100\n",
      "219/219 [==============================] - ETA: 0s - loss: 1.8355 - accuracy: 0.3288\n",
      "Epoch 13: val_loss improved from 1.70088 to 1.65805, saving model to saved_models/audio_classification.hdf5\n",
      "219/219 [==============================] - 1s 4ms/step - loss: 1.8355 - accuracy: 0.3288 - val_loss: 1.6581 - val_accuracy: 0.4516\n",
      "Epoch 14/100\n",
      "209/219 [===========================>..] - ETA: 0s - loss: 1.7824 - accuracy: 0.3633\n",
      "Epoch 14: val_loss improved from 1.65805 to 1.59500, saving model to saved_models/audio_classification.hdf5\n",
      "219/219 [==============================] - 1s 3ms/step - loss: 1.7803 - accuracy: 0.3632 - val_loss: 1.5950 - val_accuracy: 0.4906\n",
      "Epoch 15/100\n",
      "207/219 [===========================>..] - ETA: 0s - loss: 1.7534 - accuracy: 0.3673\n",
      "Epoch 15: val_loss improved from 1.59500 to 1.53250, saving model to saved_models/audio_classification.hdf5\n",
      "219/219 [==============================] - 1s 3ms/step - loss: 1.7493 - accuracy: 0.3679 - val_loss: 1.5325 - val_accuracy: 0.5123\n",
      "Epoch 16/100\n",
      "209/219 [===========================>..] - ETA: 0s - loss: 1.6919 - accuracy: 0.3961\n",
      "Epoch 16: val_loss improved from 1.53250 to 1.47967, saving model to saved_models/audio_classification.hdf5\n",
      "219/219 [==============================] - 1s 3ms/step - loss: 1.6915 - accuracy: 0.3973 - val_loss: 1.4797 - val_accuracy: 0.5197\n",
      "Epoch 17/100\n",
      "218/219 [============================>.] - ETA: 0s - loss: 1.6640 - accuracy: 0.4143\n",
      "Epoch 17: val_loss improved from 1.47967 to 1.45075, saving model to saved_models/audio_classification.hdf5\n",
      "219/219 [==============================] - 1s 4ms/step - loss: 1.6636 - accuracy: 0.4143 - val_loss: 1.4508 - val_accuracy: 0.5249\n",
      "Epoch 18/100\n",
      "203/219 [==========================>...] - ETA: 0s - loss: 1.6216 - accuracy: 0.4326\n",
      "Epoch 18: val_loss improved from 1.45075 to 1.42614, saving model to saved_models/audio_classification.hdf5\n",
      "219/219 [==============================] - 1s 3ms/step - loss: 1.6234 - accuracy: 0.4316 - val_loss: 1.4261 - val_accuracy: 0.5369\n",
      "Epoch 19/100\n",
      "206/219 [===========================>..] - ETA: 0s - loss: 1.5753 - accuracy: 0.4361\n",
      "Epoch 19: val_loss improved from 1.42614 to 1.37688, saving model to saved_models/audio_classification.hdf5\n",
      "219/219 [==============================] - 1s 3ms/step - loss: 1.5735 - accuracy: 0.4364 - val_loss: 1.3769 - val_accuracy: 0.5598\n",
      "Epoch 20/100\n",
      "209/219 [===========================>..] - ETA: 0s - loss: 1.5495 - accuracy: 0.4536\n",
      "Epoch 20: val_loss improved from 1.37688 to 1.33929, saving model to saved_models/audio_classification.hdf5\n",
      "219/219 [==============================] - 1s 3ms/step - loss: 1.5482 - accuracy: 0.4528 - val_loss: 1.3393 - val_accuracy: 0.5695\n",
      "Epoch 21/100\n",
      "202/219 [==========================>...] - ETA: 0s - loss: 1.5251 - accuracy: 0.4660\n",
      "Epoch 21: val_loss improved from 1.33929 to 1.31123, saving model to saved_models/audio_classification.hdf5\n",
      "219/219 [==============================] - 1s 3ms/step - loss: 1.5238 - accuracy: 0.4666 - val_loss: 1.3112 - val_accuracy: 0.5678\n",
      "Epoch 22/100\n",
      "217/219 [============================>.] - ETA: 0s - loss: 1.5000 - accuracy: 0.4814\n",
      "Epoch 22: val_loss improved from 1.31123 to 1.25948, saving model to saved_models/audio_classification.hdf5\n",
      "219/219 [==============================] - 1s 4ms/step - loss: 1.4996 - accuracy: 0.4813 - val_loss: 1.2595 - val_accuracy: 0.5833\n",
      "Epoch 23/100\n",
      "201/219 [==========================>...] - ETA: 0s - loss: 1.4696 - accuracy: 0.4894\n",
      "Epoch 23: val_loss improved from 1.25948 to 1.22164, saving model to saved_models/audio_classification.hdf5\n",
      "219/219 [==============================] - 1s 4ms/step - loss: 1.4627 - accuracy: 0.4913 - val_loss: 1.2216 - val_accuracy: 0.6050\n",
      "Epoch 24/100\n",
      "205/219 [===========================>..] - ETA: 0s - loss: 1.4387 - accuracy: 0.4963\n",
      "Epoch 24: val_loss improved from 1.22164 to 1.21080, saving model to saved_models/audio_classification.hdf5\n",
      "219/219 [==============================] - 1s 4ms/step - loss: 1.4357 - accuracy: 0.4992 - val_loss: 1.2108 - val_accuracy: 0.6119\n",
      "Epoch 25/100\n",
      "205/219 [===========================>..] - ETA: 0s - loss: 1.4123 - accuracy: 0.5206\n",
      "Epoch 25: val_loss improved from 1.21080 to 1.17591, saving model to saved_models/audio_classification.hdf5\n",
      "219/219 [==============================] - 1s 3ms/step - loss: 1.4125 - accuracy: 0.5200 - val_loss: 1.1759 - val_accuracy: 0.6222\n",
      "Epoch 26/100\n",
      "213/219 [============================>.] - ETA: 0s - loss: 1.4034 - accuracy: 0.5188\n",
      "Epoch 26: val_loss did not improve from 1.17591\n"
     ]
    },
    {
     "name": "stdout",
     "output_type": "stream",
     "text": [
      "219/219 [==============================] - 1s 3ms/step - loss: 1.4022 - accuracy: 0.5194 - val_loss: 1.1933 - val_accuracy: 0.6216\n",
      "Epoch 27/100\n",
      "213/219 [============================>.] - ETA: 0s - loss: 1.3775 - accuracy: 0.5285\n",
      "Epoch 27: val_loss improved from 1.17591 to 1.14578, saving model to saved_models/audio_classification.hdf5\n",
      "219/219 [==============================] - 1s 3ms/step - loss: 1.3789 - accuracy: 0.5271 - val_loss: 1.1458 - val_accuracy: 0.6400\n",
      "Epoch 28/100\n",
      "210/219 [===========================>..] - ETA: 0s - loss: 1.3449 - accuracy: 0.5348\n",
      "Epoch 28: val_loss improved from 1.14578 to 1.13373, saving model to saved_models/audio_classification.hdf5\n",
      "219/219 [==============================] - 1s 3ms/step - loss: 1.3476 - accuracy: 0.5333 - val_loss: 1.1337 - val_accuracy: 0.6325\n",
      "Epoch 29/100\n",
      "206/219 [===========================>..] - ETA: 0s - loss: 1.3313 - accuracy: 0.5481\n",
      "Epoch 29: val_loss did not improve from 1.13373\n",
      "219/219 [==============================] - 1s 3ms/step - loss: 1.3330 - accuracy: 0.5479 - val_loss: 1.1479 - val_accuracy: 0.6297\n",
      "Epoch 30/100\n",
      "206/219 [===========================>..] - ETA: 0s - loss: 1.3245 - accuracy: 0.5438\n",
      "Epoch 30: val_loss improved from 1.13373 to 1.12262, saving model to saved_models/audio_classification.hdf5\n",
      "219/219 [==============================] - 1s 3ms/step - loss: 1.3167 - accuracy: 0.5462 - val_loss: 1.1226 - val_accuracy: 0.6400\n",
      "Epoch 31/100\n",
      "206/219 [===========================>..] - ETA: 0s - loss: 1.3072 - accuracy: 0.5540\n",
      "Epoch 31: val_loss improved from 1.12262 to 1.09951, saving model to saved_models/audio_classification.hdf5\n",
      "219/219 [==============================] - 1s 3ms/step - loss: 1.3060 - accuracy: 0.5549 - val_loss: 1.0995 - val_accuracy: 0.6508\n",
      "Epoch 32/100\n",
      "207/219 [===========================>..] - ETA: 0s - loss: 1.2740 - accuracy: 0.5697\n",
      "Epoch 32: val_loss improved from 1.09951 to 1.06236, saving model to saved_models/audio_classification.hdf5\n",
      "219/219 [==============================] - 1s 3ms/step - loss: 1.2754 - accuracy: 0.5699 - val_loss: 1.0624 - val_accuracy: 0.6617\n",
      "Epoch 33/100\n",
      "201/219 [==========================>...] - ETA: 0s - loss: 1.2973 - accuracy: 0.5602\n",
      "Epoch 33: val_loss did not improve from 1.06236\n",
      "219/219 [==============================] - 1s 3ms/step - loss: 1.2972 - accuracy: 0.5609 - val_loss: 1.0840 - val_accuracy: 0.6468\n",
      "Epoch 34/100\n",
      "205/219 [===========================>..] - ETA: 0s - loss: 1.2714 - accuracy: 0.5697\n",
      "Epoch 34: val_loss improved from 1.06236 to 1.04374, saving model to saved_models/audio_classification.hdf5\n",
      "219/219 [==============================] - 1s 3ms/step - loss: 1.2683 - accuracy: 0.5705 - val_loss: 1.0437 - val_accuracy: 0.6543\n",
      "Epoch 35/100\n",
      "205/219 [===========================>..] - ETA: 0s - loss: 1.2579 - accuracy: 0.5736\n",
      "Epoch 35: val_loss improved from 1.04374 to 1.02849, saving model to saved_models/audio_classification.hdf5\n",
      "219/219 [==============================] - 1s 3ms/step - loss: 1.2536 - accuracy: 0.5749 - val_loss: 1.0285 - val_accuracy: 0.6674\n",
      "Epoch 36/100\n",
      "217/219 [============================>.] - ETA: 0s - loss: 1.2125 - accuracy: 0.5893\n",
      "Epoch 36: val_loss improved from 1.02849 to 1.02621, saving model to saved_models/audio_classification.hdf5\n",
      "219/219 [==============================] - 1s 3ms/step - loss: 1.2125 - accuracy: 0.5891 - val_loss: 1.0262 - val_accuracy: 0.6646\n",
      "Epoch 37/100\n",
      "214/219 [============================>.] - ETA: 0s - loss: 1.2470 - accuracy: 0.5790\n",
      "Epoch 37: val_loss improved from 1.02621 to 1.02519, saving model to saved_models/audio_classification.hdf5\n",
      "219/219 [==============================] - 1s 3ms/step - loss: 1.2519 - accuracy: 0.5788 - val_loss: 1.0252 - val_accuracy: 0.6674\n",
      "Epoch 38/100\n",
      "210/219 [===========================>..] - ETA: 0s - loss: 1.2291 - accuracy: 0.5759\n",
      "Epoch 38: val_loss improved from 1.02519 to 1.02335, saving model to saved_models/audio_classification.hdf5\n",
      "219/219 [==============================] - 1s 4ms/step - loss: 1.2293 - accuracy: 0.5752 - val_loss: 1.0233 - val_accuracy: 0.6680\n",
      "Epoch 39/100\n",
      "210/219 [===========================>..] - ETA: 0s - loss: 1.2016 - accuracy: 0.5927\n",
      "Epoch 39: val_loss improved from 1.02335 to 1.01200, saving model to saved_models/audio_classification.hdf5\n",
      "219/219 [==============================] - 1s 3ms/step - loss: 1.2047 - accuracy: 0.5911 - val_loss: 1.0120 - val_accuracy: 0.6743\n",
      "Epoch 40/100\n",
      "208/219 [===========================>..] - ETA: 0s - loss: 1.2142 - accuracy: 0.5895\n",
      "Epoch 40: val_loss improved from 1.01200 to 1.00014, saving model to saved_models/audio_classification.hdf5\n",
      "219/219 [==============================] - 1s 3ms/step - loss: 1.2115 - accuracy: 0.5894 - val_loss: 1.0001 - val_accuracy: 0.6812\n",
      "Epoch 41/100\n",
      "205/219 [===========================>..] - ETA: 0s - loss: 1.1682 - accuracy: 0.5986\n",
      "Epoch 41: val_loss improved from 1.00014 to 0.99001, saving model to saved_models/audio_classification.hdf5\n",
      "219/219 [==============================] - 1s 3ms/step - loss: 1.1678 - accuracy: 0.5990 - val_loss: 0.9900 - val_accuracy: 0.6749\n",
      "Epoch 42/100\n",
      "211/219 [===========================>..] - ETA: 0s - loss: 1.1919 - accuracy: 0.5924\n",
      "Epoch 42: val_loss did not improve from 0.99001\n",
      "219/219 [==============================] - 1s 3ms/step - loss: 1.1953 - accuracy: 0.5907 - val_loss: 1.0242 - val_accuracy: 0.6634\n",
      "Epoch 43/100\n",
      "212/219 [============================>.] - ETA: 0s - loss: 1.1705 - accuracy: 0.5933\n",
      "Epoch 43: val_loss improved from 0.99001 to 0.98791, saving model to saved_models/audio_classification.hdf5\n",
      "219/219 [==============================] - 1s 3ms/step - loss: 1.1759 - accuracy: 0.5927 - val_loss: 0.9879 - val_accuracy: 0.6898\n",
      "Epoch 44/100\n",
      "206/219 [===========================>..] - ETA: 0s - loss: 1.1658 - accuracy: 0.6029\n",
      "Epoch 44: val_loss improved from 0.98791 to 0.98625, saving model to saved_models/audio_classification.hdf5\n",
      "219/219 [==============================] - 1s 3ms/step - loss: 1.1673 - accuracy: 0.6039 - val_loss: 0.9863 - val_accuracy: 0.6840\n",
      "Epoch 45/100\n",
      "206/219 [===========================>..] - ETA: 0s - loss: 1.1648 - accuracy: 0.6094\n",
      "Epoch 45: val_loss improved from 0.98625 to 0.97326, saving model to saved_models/audio_classification.hdf5\n",
      "219/219 [==============================] - 1s 3ms/step - loss: 1.1633 - accuracy: 0.6083 - val_loss: 0.9733 - val_accuracy: 0.6943\n",
      "Epoch 46/100\n",
      "202/219 [==========================>...] - ETA: 0s - loss: 1.1758 - accuracy: 0.5975\n",
      "Epoch 46: val_loss improved from 0.97326 to 0.95025, saving model to saved_models/audio_classification.hdf5\n",
      "219/219 [==============================] - 1s 3ms/step - loss: 1.1724 - accuracy: 0.5990 - val_loss: 0.9503 - val_accuracy: 0.6961\n",
      "Epoch 47/100\n",
      "215/219 [============================>.] - ETA: 0s - loss: 1.1624 - accuracy: 0.6141\n",
      "Epoch 47: val_loss improved from 0.95025 to 0.94495, saving model to saved_models/audio_classification.hdf5\n",
      "219/219 [==============================] - 1s 4ms/step - loss: 1.1616 - accuracy: 0.6145 - val_loss: 0.9450 - val_accuracy: 0.6898\n",
      "Epoch 48/100\n",
      "205/219 [===========================>..] - ETA: 0s - loss: 1.1409 - accuracy: 0.6079\n",
      "Epoch 48: val_loss improved from 0.94495 to 0.93423, saving model to saved_models/audio_classification.hdf5\n",
      "219/219 [==============================] - 1s 3ms/step - loss: 1.1368 - accuracy: 0.6087 - val_loss: 0.9342 - val_accuracy: 0.6863\n",
      "Epoch 49/100\n",
      "212/219 [============================>.] - ETA: 0s - loss: 1.1351 - accuracy: 0.6215\n",
      "Epoch 49: val_loss did not improve from 0.93423\n",
      "219/219 [==============================] - 1s 3ms/step - loss: 1.1362 - accuracy: 0.6199 - val_loss: 0.9448 - val_accuracy: 0.6829\n",
      "Epoch 50/100\n",
      "207/219 [===========================>..] - ETA: 0s - loss: 1.1164 - accuracy: 0.6223\n",
      "Epoch 50: val_loss did not improve from 0.93423\n",
      "219/219 [==============================] - 1s 3ms/step - loss: 1.1227 - accuracy: 0.6183 - val_loss: 0.9652 - val_accuracy: 0.6800\n",
      "Epoch 51/100\n",
      "214/219 [============================>.] - ETA: 0s - loss: 1.1105 - accuracy: 0.6199\n",
      "Epoch 51: val_loss improved from 0.93423 to 0.92190, saving model to saved_models/audio_classification.hdf5\n",
      "219/219 [==============================] - 1s 4ms/step - loss: 1.1112 - accuracy: 0.6203 - val_loss: 0.9219 - val_accuracy: 0.7046\n"
     ]
    },
    {
     "name": "stdout",
     "output_type": "stream",
     "text": [
      "Epoch 52/100\n",
      "207/219 [===========================>..] - ETA: 0s - loss: 1.1034 - accuracy: 0.6341\n",
      "Epoch 52: val_loss improved from 0.92190 to 0.89834, saving model to saved_models/audio_classification.hdf5\n",
      "219/219 [==============================] - 1s 3ms/step - loss: 1.1023 - accuracy: 0.6331 - val_loss: 0.8983 - val_accuracy: 0.7098\n",
      "Epoch 53/100\n",
      "204/219 [==========================>...] - ETA: 0s - loss: 1.1251 - accuracy: 0.6238\n",
      "Epoch 53: val_loss did not improve from 0.89834\n",
      "219/219 [==============================] - 1s 3ms/step - loss: 1.1252 - accuracy: 0.6248 - val_loss: 0.9299 - val_accuracy: 0.7029\n",
      "Epoch 54/100\n",
      "209/219 [===========================>..] - ETA: 0s - loss: 1.1186 - accuracy: 0.6249\n",
      "Epoch 54: val_loss did not improve from 0.89834\n",
      "219/219 [==============================] - 1s 3ms/step - loss: 1.1208 - accuracy: 0.6242 - val_loss: 0.9088 - val_accuracy: 0.7121\n",
      "Epoch 55/100\n",
      "209/219 [===========================>..] - ETA: 0s - loss: 1.1072 - accuracy: 0.6205\n",
      "Epoch 55: val_loss did not improve from 0.89834\n",
      "219/219 [==============================] - 1s 3ms/step - loss: 1.1074 - accuracy: 0.6203 - val_loss: 0.9221 - val_accuracy: 0.7086\n",
      "Epoch 56/100\n",
      "208/219 [===========================>..] - ETA: 0s - loss: 1.0935 - accuracy: 0.6352\n",
      "Epoch 56: val_loss did not improve from 0.89834\n",
      "219/219 [==============================] - 1s 3ms/step - loss: 1.0927 - accuracy: 0.6346 - val_loss: 0.9105 - val_accuracy: 0.7035\n",
      "Epoch 57/100\n",
      "209/219 [===========================>..] - ETA: 0s - loss: 1.0898 - accuracy: 0.6275\n",
      "Epoch 57: val_loss improved from 0.89834 to 0.87796, saving model to saved_models/audio_classification.hdf5\n",
      "219/219 [==============================] - 1s 3ms/step - loss: 1.0872 - accuracy: 0.6296 - val_loss: 0.8780 - val_accuracy: 0.7115\n",
      "Epoch 58/100\n",
      "204/219 [==========================>...] - ETA: 0s - loss: 1.0925 - accuracy: 0.6258\n",
      "Epoch 58: val_loss did not improve from 0.87796\n",
      "219/219 [==============================] - 1s 3ms/step - loss: 1.0933 - accuracy: 0.6243 - val_loss: 0.8960 - val_accuracy: 0.7127\n",
      "Epoch 59/100\n",
      "207/219 [===========================>..] - ETA: 0s - loss: 1.0777 - accuracy: 0.6372\n",
      "Epoch 59: val_loss improved from 0.87796 to 0.87449, saving model to saved_models/audio_classification.hdf5\n",
      "219/219 [==============================] - 1s 3ms/step - loss: 1.0732 - accuracy: 0.6379 - val_loss: 0.8745 - val_accuracy: 0.7144\n",
      "Epoch 60/100\n",
      "204/219 [==========================>...] - ETA: 0s - loss: 1.0716 - accuracy: 0.6327\n",
      "Epoch 60: val_loss did not improve from 0.87449\n",
      "219/219 [==============================] - 1s 3ms/step - loss: 1.0737 - accuracy: 0.6312 - val_loss: 0.8876 - val_accuracy: 0.7104\n",
      "Epoch 61/100\n",
      "201/219 [==========================>...] - ETA: 0s - loss: 1.0632 - accuracy: 0.6419\n",
      "Epoch 61: val_loss improved from 0.87449 to 0.85825, saving model to saved_models/audio_classification.hdf5\n",
      "219/219 [==============================] - 1s 3ms/step - loss: 1.0656 - accuracy: 0.6417 - val_loss: 0.8582 - val_accuracy: 0.7224\n",
      "Epoch 62/100\n",
      "210/219 [===========================>..] - ETA: 0s - loss: 1.0926 - accuracy: 0.6234\n",
      "Epoch 62: val_loss did not improve from 0.85825\n",
      "219/219 [==============================] - 1s 3ms/step - loss: 1.0889 - accuracy: 0.6248 - val_loss: 0.8656 - val_accuracy: 0.7195\n",
      "Epoch 63/100\n",
      "207/219 [===========================>..] - ETA: 0s - loss: 1.0540 - accuracy: 0.6475\n",
      "Epoch 63: val_loss did not improve from 0.85825\n",
      "219/219 [==============================] - 1s 3ms/step - loss: 1.0593 - accuracy: 0.6451 - val_loss: 0.8644 - val_accuracy: 0.7235\n",
      "Epoch 64/100\n",
      "211/219 [===========================>..] - ETA: 0s - loss: 1.0741 - accuracy: 0.6361\n",
      "Epoch 64: val_loss did not improve from 0.85825\n",
      "219/219 [==============================] - 1s 3ms/step - loss: 1.0800 - accuracy: 0.6344 - val_loss: 0.8639 - val_accuracy: 0.7281\n",
      "Epoch 65/100\n",
      "211/219 [===========================>..] - ETA: 0s - loss: 1.0746 - accuracy: 0.6368\n",
      "Epoch 65: val_loss did not improve from 0.85825\n",
      "219/219 [==============================] - 1s 3ms/step - loss: 1.0700 - accuracy: 0.6384 - val_loss: 0.8788 - val_accuracy: 0.7098\n",
      "Epoch 66/100\n",
      "206/219 [===========================>..] - ETA: 0s - loss: 1.0588 - accuracy: 0.6350\n",
      "Epoch 66: val_loss did not improve from 0.85825\n",
      "219/219 [==============================] - 1s 3ms/step - loss: 1.0601 - accuracy: 0.6344 - val_loss: 0.8624 - val_accuracy: 0.7361\n",
      "Epoch 67/100\n",
      "217/219 [============================>.] - ETA: 0s - loss: 1.0555 - accuracy: 0.6421\n",
      "Epoch 67: val_loss did not improve from 0.85825\n",
      "219/219 [==============================] - 1s 4ms/step - loss: 1.0551 - accuracy: 0.6421 - val_loss: 0.8592 - val_accuracy: 0.7298\n",
      "Epoch 68/100\n",
      "208/219 [===========================>..] - ETA: 0s - loss: 1.0565 - accuracy: 0.6411\n",
      "Epoch 68: val_loss did not improve from 0.85825\n",
      "219/219 [==============================] - 1s 4ms/step - loss: 1.0585 - accuracy: 0.6405 - val_loss: 0.8878 - val_accuracy: 0.7195\n",
      "Epoch 69/100\n",
      "209/219 [===========================>..] - ETA: 0s - loss: 1.0536 - accuracy: 0.6431\n",
      "Epoch 69: val_loss improved from 0.85825 to 0.83944, saving model to saved_models/audio_classification.hdf5\n",
      "219/219 [==============================] - 1s 3ms/step - loss: 1.0517 - accuracy: 0.6428 - val_loss: 0.8394 - val_accuracy: 0.7298\n",
      "Epoch 70/100\n",
      "208/219 [===========================>..] - ETA: 0s - loss: 1.0455 - accuracy: 0.6441\n",
      "Epoch 70: val_loss did not improve from 0.83944\n",
      "219/219 [==============================] - 1s 3ms/step - loss: 1.0448 - accuracy: 0.6457 - val_loss: 0.8695 - val_accuracy: 0.7258\n",
      "Epoch 71/100\n",
      "205/219 [===========================>..] - ETA: 0s - loss: 1.0428 - accuracy: 0.6434\n",
      "Epoch 71: val_loss did not improve from 0.83944\n",
      "219/219 [==============================] - 1s 3ms/step - loss: 1.0433 - accuracy: 0.6431 - val_loss: 0.8597 - val_accuracy: 0.7207\n",
      "Epoch 72/100\n",
      "208/219 [===========================>..] - ETA: 0s - loss: 1.0500 - accuracy: 0.6424\n",
      "Epoch 72: val_loss did not improve from 0.83944\n",
      "219/219 [==============================] - 1s 3ms/step - loss: 1.0490 - accuracy: 0.6429 - val_loss: 0.8520 - val_accuracy: 0.7407\n",
      "Epoch 73/100\n",
      "206/219 [===========================>..] - ETA: 0s - loss: 1.0430 - accuracy: 0.6473\n",
      "Epoch 73: val_loss did not improve from 0.83944\n",
      "219/219 [==============================] - 1s 3ms/step - loss: 1.0462 - accuracy: 0.6457 - val_loss: 0.8501 - val_accuracy: 0.7304\n",
      "Epoch 74/100\n",
      "205/219 [===========================>..] - ETA: 0s - loss: 1.0388 - accuracy: 0.6500\n",
      "Epoch 74: val_loss did not improve from 0.83944\n",
      "219/219 [==============================] - 1s 3ms/step - loss: 1.0409 - accuracy: 0.6492 - val_loss: 0.8452 - val_accuracy: 0.7384\n",
      "Epoch 75/100\n",
      "206/219 [===========================>..] - ETA: 0s - loss: 1.0466 - accuracy: 0.6453\n",
      "Epoch 75: val_loss improved from 0.83944 to 0.82850, saving model to saved_models/audio_classification.hdf5\n",
      "219/219 [==============================] - 1s 3ms/step - loss: 1.0384 - accuracy: 0.6477 - val_loss: 0.8285 - val_accuracy: 0.7413\n",
      "Epoch 76/100\n",
      "211/219 [===========================>..] - ETA: 0s - loss: 1.0453 - accuracy: 0.6457\n",
      "Epoch 76: val_loss did not improve from 0.82850\n",
      "219/219 [==============================] - 1s 3ms/step - loss: 1.0473 - accuracy: 0.6438 - val_loss: 0.8398 - val_accuracy: 0.7304\n",
      "Epoch 77/100\n",
      "211/219 [===========================>..] - ETA: 0s - loss: 1.0240 - accuracy: 0.6520\n",
      "Epoch 77: val_loss improved from 0.82850 to 0.81414, saving model to saved_models/audio_classification.hdf5\n",
      "219/219 [==============================] - 1s 3ms/step - loss: 1.0286 - accuracy: 0.6504 - val_loss: 0.8141 - val_accuracy: 0.7367\n",
      "Epoch 78/100\n",
      "211/219 [===========================>..] - ETA: 0s - loss: 1.0324 - accuracy: 0.6460\n",
      "Epoch 78: val_loss did not improve from 0.81414\n",
      "219/219 [==============================] - 1s 3ms/step - loss: 1.0314 - accuracy: 0.6460 - val_loss: 0.8303 - val_accuracy: 0.7424\n",
      "Epoch 79/100\n",
      "211/219 [===========================>..] - ETA: 0s - loss: 1.0168 - accuracy: 0.6543\n",
      "Epoch 79: val_loss did not improve from 0.81414\n",
      "219/219 [==============================] - 1s 3ms/step - loss: 1.0140 - accuracy: 0.6555 - val_loss: 0.8381 - val_accuracy: 0.7355\n",
      "Epoch 80/100\n"
     ]
    },
    {
     "name": "stdout",
     "output_type": "stream",
     "text": [
      "216/219 [============================>.] - ETA: 0s - loss: 1.0183 - accuracy: 0.6561\n",
      "Epoch 80: val_loss did not improve from 0.81414\n",
      "219/219 [==============================] - 1s 3ms/step - loss: 1.0187 - accuracy: 0.6557 - val_loss: 0.8297 - val_accuracy: 0.7338\n",
      "Epoch 81/100\n",
      "211/219 [===========================>..] - ETA: 0s - loss: 1.0237 - accuracy: 0.6617\n",
      "Epoch 81: val_loss did not improve from 0.81414\n",
      "219/219 [==============================] - 1s 3ms/step - loss: 1.0267 - accuracy: 0.6608 - val_loss: 0.8589 - val_accuracy: 0.7212\n",
      "Epoch 82/100\n",
      "212/219 [============================>.] - ETA: 0s - loss: 1.0510 - accuracy: 0.6502\n",
      "Epoch 82: val_loss did not improve from 0.81414\n",
      "219/219 [==============================] - 1s 3ms/step - loss: 1.0503 - accuracy: 0.6497 - val_loss: 0.8766 - val_accuracy: 0.7207\n",
      "Epoch 83/100\n",
      "210/219 [===========================>..] - ETA: 0s - loss: 1.0220 - accuracy: 0.6568\n",
      "Epoch 83: val_loss did not improve from 0.81414\n",
      "219/219 [==============================] - 1s 3ms/step - loss: 1.0178 - accuracy: 0.6591 - val_loss: 0.8173 - val_accuracy: 0.7510\n",
      "Epoch 84/100\n",
      "212/219 [============================>.] - ETA: 0s - loss: 1.0185 - accuracy: 0.6542\n",
      "Epoch 84: val_loss did not improve from 0.81414\n",
      "219/219 [==============================] - 1s 3ms/step - loss: 1.0190 - accuracy: 0.6534 - val_loss: 0.8526 - val_accuracy: 0.7224\n",
      "Epoch 85/100\n",
      "211/219 [===========================>..] - ETA: 0s - loss: 1.0149 - accuracy: 0.6527\n",
      "Epoch 85: val_loss did not improve from 0.81414\n",
      "219/219 [==============================] - 1s 3ms/step - loss: 1.0117 - accuracy: 0.6538 - val_loss: 0.8147 - val_accuracy: 0.7499\n",
      "Epoch 86/100\n",
      "211/219 [===========================>..] - ETA: 0s - loss: 1.0246 - accuracy: 0.6500\n",
      "Epoch 86: val_loss did not improve from 0.81414\n",
      "219/219 [==============================] - 1s 3ms/step - loss: 1.0257 - accuracy: 0.6501 - val_loss: 0.8384 - val_accuracy: 0.7327\n",
      "Epoch 87/100\n",
      "211/219 [===========================>..] - ETA: 0s - loss: 1.0110 - accuracy: 0.6588\n",
      "Epoch 87: val_loss improved from 0.81414 to 0.81330, saving model to saved_models/audio_classification.hdf5\n",
      "219/219 [==============================] - 1s 3ms/step - loss: 1.0113 - accuracy: 0.6590 - val_loss: 0.8133 - val_accuracy: 0.7396\n",
      "Epoch 88/100\n",
      "211/219 [===========================>..] - ETA: 0s - loss: 0.9943 - accuracy: 0.6709\n",
      "Epoch 88: val_loss improved from 0.81330 to 0.79410, saving model to saved_models/audio_classification.hdf5\n",
      "219/219 [==============================] - 1s 3ms/step - loss: 0.9932 - accuracy: 0.6710 - val_loss: 0.7941 - val_accuracy: 0.7441\n",
      "Epoch 89/100\n",
      "212/219 [============================>.] - ETA: 0s - loss: 1.0093 - accuracy: 0.6611\n",
      "Epoch 89: val_loss did not improve from 0.79410\n",
      "219/219 [==============================] - 1s 3ms/step - loss: 1.0099 - accuracy: 0.6604 - val_loss: 0.8542 - val_accuracy: 0.7224\n",
      "Epoch 90/100\n",
      "213/219 [============================>.] - ETA: 0s - loss: 1.0040 - accuracy: 0.6561\n",
      "Epoch 90: val_loss did not improve from 0.79410\n",
      "219/219 [==============================] - 1s 3ms/step - loss: 1.0062 - accuracy: 0.6558 - val_loss: 0.8080 - val_accuracy: 0.7510\n",
      "Epoch 91/100\n",
      "211/219 [===========================>..] - ETA: 0s - loss: 0.9962 - accuracy: 0.6617\n",
      "Epoch 91: val_loss did not improve from 0.79410\n",
      "219/219 [==============================] - 1s 3ms/step - loss: 0.9997 - accuracy: 0.6614 - val_loss: 0.8022 - val_accuracy: 0.7516\n",
      "Epoch 92/100\n",
      "211/219 [===========================>..] - ETA: 0s - loss: 1.0018 - accuracy: 0.6585\n",
      "Epoch 92: val_loss did not improve from 0.79410\n",
      "219/219 [==============================] - 1s 3ms/step - loss: 1.0047 - accuracy: 0.6571 - val_loss: 0.7958 - val_accuracy: 0.7493\n",
      "Epoch 93/100\n",
      "209/219 [===========================>..] - ETA: 0s - loss: 1.0218 - accuracy: 0.6615\n",
      "Epoch 93: val_loss did not improve from 0.79410\n",
      "219/219 [==============================] - 1s 3ms/step - loss: 1.0197 - accuracy: 0.6616 - val_loss: 0.8409 - val_accuracy: 0.7321\n",
      "Epoch 94/100\n",
      "212/219 [============================>.] - ETA: 0s - loss: 1.0001 - accuracy: 0.6574\n",
      "Epoch 94: val_loss did not improve from 0.79410\n",
      "219/219 [==============================] - 1s 3ms/step - loss: 0.9950 - accuracy: 0.6583 - val_loss: 0.8041 - val_accuracy: 0.7453\n",
      "Epoch 95/100\n",
      "219/219 [==============================] - ETA: 0s - loss: 1.0082 - accuracy: 0.6587\n",
      "Epoch 95: val_loss did not improve from 0.79410\n",
      "219/219 [==============================] - 1s 3ms/step - loss: 1.0082 - accuracy: 0.6587 - val_loss: 0.8209 - val_accuracy: 0.7275\n",
      "Epoch 96/100\n",
      "204/219 [==========================>...] - ETA: 0s - loss: 1.0016 - accuracy: 0.6642\n",
      "Epoch 96: val_loss did not improve from 0.79410\n",
      "219/219 [==============================] - 1s 5ms/step - loss: 0.9990 - accuracy: 0.6647 - val_loss: 0.8021 - val_accuracy: 0.7504\n",
      "Epoch 97/100\n",
      "210/219 [===========================>..] - ETA: 0s - loss: 0.9872 - accuracy: 0.6729\n",
      "Epoch 97: val_loss improved from 0.79410 to 0.78805, saving model to saved_models/audio_classification.hdf5\n",
      "219/219 [==============================] - 1s 3ms/step - loss: 0.9805 - accuracy: 0.6744 - val_loss: 0.7881 - val_accuracy: 0.7544\n",
      "Epoch 98/100\n",
      "211/219 [===========================>..] - ETA: 0s - loss: 0.9940 - accuracy: 0.6644\n",
      "Epoch 98: val_loss did not improve from 0.78805\n",
      "219/219 [==============================] - 1s 3ms/step - loss: 0.9924 - accuracy: 0.6634 - val_loss: 0.8142 - val_accuracy: 0.7436\n",
      "Epoch 99/100\n",
      "210/219 [===========================>..] - ETA: 0s - loss: 1.0022 - accuracy: 0.6567\n",
      "Epoch 99: val_loss did not improve from 0.78805\n",
      "219/219 [==============================] - 1s 3ms/step - loss: 1.0077 - accuracy: 0.6547 - val_loss: 0.8071 - val_accuracy: 0.7436\n",
      "Epoch 100/100\n",
      "211/219 [===========================>..] - ETA: 0s - loss: 0.9704 - accuracy: 0.6642\n",
      "Epoch 100: val_loss did not improve from 0.78805\n",
      "219/219 [==============================] - 1s 3ms/step - loss: 0.9742 - accuracy: 0.6641 - val_loss: 0.7954 - val_accuracy: 0.7476\n",
      "Training completed in time:  0:01:14.282435\n"
     ]
    }
   ],
   "source": [
    "from tensorflow.keras.callbacks import ModelCheckpoint\n",
    "from datetime import datetime \n",
    "\n",
    "num_epochs = 100\n",
    "num_batch_size = 32\n",
    "\n",
    "checkpointer = ModelCheckpoint(filepath='saved_models/audio_classification.hdf5', \n",
    "                               verbose=1, save_best_only=True)\n",
    "start = datetime.now()\n",
    "\n",
    "model.fit(X_train, y_train, batch_size=num_batch_size, epochs=num_epochs, validation_data=(X_test, y_test), callbacks=[checkpointer], verbose=1)\n",
    "\n",
    "\n",
    "duration = datetime.now() - start\n",
    "print(\"Training completed in time: \", duration)"
   ]
  },
  {
   "cell_type": "code",
   "execution_count": 34,
   "id": "340013a2",
   "metadata": {},
   "outputs": [
    {
     "name": "stdout",
     "output_type": "stream",
     "text": [
      "0.7475672364234924\n"
     ]
    }
   ],
   "source": [
    "test_accuracy=model.evaluate(X_test,y_test,verbose=0)\n",
    "print(test_accuracy[1])"
   ]
  },
  {
   "cell_type": "code",
   "execution_count": 35,
   "id": "71df3cd6",
   "metadata": {
    "scrolled": true
   },
   "outputs": [
    {
     "name": "stdout",
     "output_type": "stream",
     "text": [
      "1/1 [==============================] - 0s 102ms/step\n",
      "[9]\n"
     ]
    }
   ],
   "source": [
    "prediction_feature = features_extractor(filename)\n",
    "prediction_feature = prediction_feature.reshape(1, -1)\n",
    "prediction = model.predict(prediction_feature)\n",
    "predicted_class = np.argmax(prediction, axis=1)\n",
    "\n",
    "print(predicted_class)"
   ]
  },
  {
   "cell_type": "code",
   "execution_count": null,
   "id": "676798bc",
   "metadata": {},
   "outputs": [],
   "source": []
  },
  {
   "cell_type": "code",
   "execution_count": null,
   "id": "1f9459a0",
   "metadata": {},
   "outputs": [],
   "source": []
  }
 ],
 "metadata": {
  "kernelspec": {
   "display_name": "Python 3 (ipykernel)",
   "language": "python",
   "name": "python3"
  },
  "language_info": {
   "codemirror_mode": {
    "name": "ipython",
    "version": 3
   },
   "file_extension": ".py",
   "mimetype": "text/x-python",
   "name": "python",
   "nbconvert_exporter": "python",
   "pygments_lexer": "ipython3",
   "version": "3.11.5"
  }
 },
 "nbformat": 4,
 "nbformat_minor": 5
}
